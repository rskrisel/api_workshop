{
  "cells": [
    {
      "cell_type": "markdown",
      "metadata": {
        "id": "view-in-github",
        "colab_type": "text"
      },
      "source": [
        "<a href=\"https://colab.research.google.com/github/rskrisel/api_workshop/blob/main/API_workshop.ipynb\" target=\"_parent\"><img src=\"https://colab.research.google.com/assets/colab-badge.svg\" alt=\"Open In Colab\"/></a>"
      ]
    },
    {
      "metadata": {
        "id": "e1b3ce49"
      },
      "id": "e1b3ce49",
      "cell_type": "markdown",
      "source": [
        "# Getting started with APIs"
      ]
    },
    {
      "metadata": {
        "id": "a8d4afe2"
      },
      "id": "a8d4afe2",
      "cell_type": "markdown",
      "source": [
        "In this workshop, we will learn how to retrieve data from an application programming interface (API).\n",
        "\n",
        "We will start by making a simple data request from The Metropolitan Museum of Art Collection API, reading the response in JSON format, and finally wrangling the data into a dataframe using the Pandas library.  \n",
        "\n",
        "Next, we will create our unique access API keys to work with News API to retrieve news articles. We will also use the Wordcloud Python library to visualize our results in a word cloud."
      ]
    },
    {
      "metadata": {
        "id": "79a75219"
      },
      "id": "79a75219",
      "cell_type": "markdown",
      "source": [
        "### Acknowledgements"
      ]
    },
    {
      "metadata": {
        "id": "03464e37"
      },
      "id": "03464e37",
      "cell_type": "markdown",
      "source": [
        "This workshop is adapted from the following tutorials:\n",
        "\n",
        "- Python API Tutorial: Getting Started with APIs: https://www.dataquest.io/blog/python-api-tutorial/\n",
        "\n",
        "- Accessing the News API in Python: https://www.datacareer.de/blog/accessing-the-news-api-in-python/\n",
        "\n",
        "- How to create a Pandas Dataframe from an API Endpoint in a Jupyter Notebook: https://deallen7.medium.com/how-to-create-a-pandas-dataframe-from-an-api-endpoint-in-a-jupyter-notebook-f2561f766ca3"
      ]
    },
    {
      "metadata": {
        "id": "c1130ea6"
      },
      "id": "c1130ea6",
      "cell_type": "markdown",
      "source": [
        "## 1. Using an API without Keys: The Metropolitan Museum of Art Collection API"
      ]
    },
    {
      "metadata": {
        "id": "7febbb26"
      },
      "id": "7febbb26",
      "cell_type": "markdown",
      "source": [
        "In this workshop, we will first work with The Metropolitan Museum of Art Collection API (MetMuseum API, https://metmuseum.github.io), which provides select datasets of information on more than 470,000 artworks in its Collection for unrestricted commercial and noncommercial use. The MetMuseum API is ideal for learning how to make data requests since it has a simple design and doesn't require authentication like other APIs including Twitter. More on that later."
      ]
    },
    {
      "metadata": {
        "id": "3823f15b"
      },
      "id": "3823f15b",
      "cell_type": "markdown",
      "source": [
        "### Importing the \"requests\" library"
      ]
    },
    {
      "metadata": {
        "trusted": true,
        "id": "c1215c27"
      },
      "id": "c1215c27",
      "cell_type": "code",
      "source": [
        "import requests"
      ],
      "execution_count": 36,
      "outputs": []
    },
    {
      "metadata": {
        "id": "09c7e367"
      },
      "id": "09c7e367",
      "cell_type": "markdown",
      "source": [
        "### Making an API request"
      ]
    },
    {
      "metadata": {
        "id": "7dc1275d"
      },
      "id": "7dc1275d",
      "cell_type": "markdown",
      "source": [
        "A \"GET\" request is the most common type of API request to retrieve data.\n",
        "The API responds to the GET request with a \"response code\", letting us know if the request was successful."
      ]
    },
    {
      "metadata": {
        "id": "c94b8d3e"
      },
      "id": "c94b8d3e",
      "cell_type": "markdown",
      "source": [
        "In order to work with specific APIs, it's important to consult the documentation so you understand what kinds of data requests you can make and the format to use. Reading the documentation for any programming package can seem daunting at times, so I recommend reading this how-to guide first: https://bit.ly/3TnOOMw"
      ]
    },
    {
      "metadata": {
        "id": "4ae8edaf"
      },
      "id": "4ae8edaf",
      "cell_type": "markdown",
      "source": [
        "If we take a look at the MetMuseum API documentation (https://metmuseum.github.io), we can see it has more than one API on its server. Each of these are called \"endpoints.\""
      ]
    },
    {
      "metadata": {
        "id": "34925d43"
      },
      "id": "34925d43",
      "cell_type": "markdown",
      "source": [
        "Let's start with the \"departments\" endpoint, , which returns a listing of all departments: https://collectionapi.metmuseum.org/public/collection/v1/departments"
      ]
    },
    {
      "metadata": {
        "trusted": true,
        "id": "9a5a9fc5"
      },
      "id": "9a5a9fc5",
      "cell_type": "code",
      "source": [
        "response = requests.get(\"https://collectionapi.metmuseum.org/public/collection/v1/departments\")"
      ],
      "execution_count": 37,
      "outputs": []
    },
    {
      "metadata": {
        "id": "f03c29ed"
      },
      "id": "f03c29ed",
      "cell_type": "markdown",
      "source": [
        "It looks like we got a silent success, but let's use the \"response.status_code\" attribute to receive the status code for our request:"
      ]
    },
    {
      "metadata": {
        "trusted": true,
        "id": "ce495741",
        "outputId": "da18e529-344a-4ce6-fdaa-8f0dafa493d8",
        "colab": {
          "base_uri": "https://localhost:8080/"
        }
      },
      "id": "ce495741",
      "cell_type": "code",
      "source": [
        "print(response.status_code)"
      ],
      "execution_count": 38,
      "outputs": [
        {
          "output_type": "stream",
          "name": "stdout",
          "text": [
            "200\n"
          ]
        }
      ]
    },
    {
      "metadata": {
        "id": "86329920"
      },
      "id": "86329920",
      "cell_type": "markdown",
      "source": [
        "The 200 code tells us our request was successful. Read here for more on status codes: https://developer.mozilla.org/en-US/docs/Web/HTTP/Status"
      ]
    },
    {
      "metadata": {
        "id": "262e4704"
      },
      "id": "262e4704",
      "cell_type": "markdown",
      "source": [
        "### Reading API responses in JSON"
      ]
    },
    {
      "metadata": {
        "id": "bc24a0d4"
      },
      "id": "bc24a0d4",
      "cell_type": "markdown",
      "source": [
        "Looking at the API documentation (https://metmuseum.github.io), we know that the API response is in JSON (JavaScript Object Notation) format. JSON is a way to encode data structures that ensures that they are easily readable by machines. JSON is the primary format in which data is passed back and forth to APIs, and most API servers will send their responses in JSON format.\n",
        "\n",
        "We can use the response.json() method to see the data we got from the API:"
      ]
    },
    {
      "metadata": {
        "trusted": true,
        "id": "2c9c7ecb",
        "outputId": "ed3a2c34-4131-45f4-d72a-06e0a35dfbd9",
        "colab": {
          "base_uri": "https://localhost:8080/"
        }
      },
      "id": "2c9c7ecb",
      "cell_type": "code",
      "source": [
        "print(response.json())"
      ],
      "execution_count": 39,
      "outputs": [
        {
          "output_type": "stream",
          "name": "stdout",
          "text": [
            "{'departments': [{'departmentId': 1, 'displayName': 'American Decorative Arts'}, {'departmentId': 3, 'displayName': 'Ancient Near Eastern Art'}, {'departmentId': 4, 'displayName': 'Arms and Armor'}, {'departmentId': 5, 'displayName': 'Arts of Africa, Oceania, and the Americas'}, {'departmentId': 6, 'displayName': 'Asian Art'}, {'departmentId': 7, 'displayName': 'The Cloisters'}, {'departmentId': 8, 'displayName': 'The Costume Institute'}, {'departmentId': 9, 'displayName': 'Drawings and Prints'}, {'departmentId': 10, 'displayName': 'Egyptian Art'}, {'departmentId': 11, 'displayName': 'European Paintings'}, {'departmentId': 12, 'displayName': 'European Sculpture and Decorative Arts'}, {'departmentId': 13, 'displayName': 'Greek and Roman Art'}, {'departmentId': 14, 'displayName': 'Islamic Art'}, {'departmentId': 15, 'displayName': 'The Robert Lehman Collection'}, {'departmentId': 16, 'displayName': 'The Libraries'}, {'departmentId': 17, 'displayName': 'Medieval Art'}, {'departmentId': 18, 'displayName': 'Musical Instruments'}, {'departmentId': 19, 'displayName': 'Photographs'}, {'departmentId': 21, 'displayName': 'Modern Art'}]}\n"
          ]
        }
      ]
    },
    {
      "metadata": {
        "id": "12090ab5"
      },
      "id": "12090ab5",
      "cell_type": "markdown",
      "source": [
        "### Reading the JSON output"
      ]
    },
    {
      "metadata": {
        "id": "d7ba9850"
      },
      "id": "d7ba9850",
      "cell_type": "markdown",
      "source": [
        "The JSON output we got from the API looks like it contains Python dictionaries, lists, strings and integers. JSON is a combination of these objects represented as strings."
      ]
    },
    {
      "metadata": {
        "id": "f1194533"
      },
      "id": "f1194533",
      "cell_type": "markdown",
      "source": [
        "To work with JSON data in Python, we can use the JSON package, which is part of the standard library, so we don’t have to install anything to use it.\n",
        "\n",
        "The JSON library has two main functions:\n",
        "\n",
        "- json.dumps() — Takes in a Python object, and converts (dumps) it to a string.\n",
        "\n",
        "- json.loads() — Takes a JSON string, and converts (loads) it to a Python object.\n",
        "\n"
      ]
    },
    {
      "metadata": {
        "id": "bfb2620c"
      },
      "id": "bfb2620c",
      "cell_type": "markdown",
      "source": [
        "first, let's import the JSON library"
      ]
    },
    {
      "metadata": {
        "trusted": true,
        "id": "56d4fbe3"
      },
      "id": "56d4fbe3",
      "cell_type": "code",
      "source": [
        "import json"
      ],
      "execution_count": 40,
      "outputs": []
    },
    {
      "metadata": {
        "id": "fef4bdd7"
      },
      "id": "fef4bdd7",
      "cell_type": "markdown",
      "source": [
        "Next, let's create a formatted string of the Python JSON object. We will define a new function jprint which takes 'obj' as its input variable"
      ]
    },
    {
      "metadata": {
        "trusted": true,
        "id": "0b9040fc"
      },
      "id": "0b9040fc",
      "cell_type": "code",
      "source": [
        "def jprint(obj):\n",
        "    text = json.dumps(obj, sort_keys=True, indent=4)\n",
        "    print(text)"
      ],
      "execution_count": 41,
      "outputs": []
    },
    {
      "metadata": {
        "id": "d645115d"
      },
      "id": "d645115d",
      "cell_type": "markdown",
      "source": [
        "Then, let's apply the new function to our response.json()"
      ]
    },
    {
      "metadata": {
        "trusted": true,
        "id": "5ccc756e",
        "outputId": "d4e1a137-19ce-4c21-d54d-773bc2609c4a",
        "colab": {
          "base_uri": "https://localhost:8080/"
        }
      },
      "id": "5ccc756e",
      "cell_type": "code",
      "source": [
        "jprint(response.json())"
      ],
      "execution_count": 42,
      "outputs": [
        {
          "output_type": "stream",
          "name": "stdout",
          "text": [
            "{\n",
            "    \"departments\": [\n",
            "        {\n",
            "            \"departmentId\": 1,\n",
            "            \"displayName\": \"American Decorative Arts\"\n",
            "        },\n",
            "        {\n",
            "            \"departmentId\": 3,\n",
            "            \"displayName\": \"Ancient Near Eastern Art\"\n",
            "        },\n",
            "        {\n",
            "            \"departmentId\": 4,\n",
            "            \"displayName\": \"Arms and Armor\"\n",
            "        },\n",
            "        {\n",
            "            \"departmentId\": 5,\n",
            "            \"displayName\": \"Arts of Africa, Oceania, and the Americas\"\n",
            "        },\n",
            "        {\n",
            "            \"departmentId\": 6,\n",
            "            \"displayName\": \"Asian Art\"\n",
            "        },\n",
            "        {\n",
            "            \"departmentId\": 7,\n",
            "            \"displayName\": \"The Cloisters\"\n",
            "        },\n",
            "        {\n",
            "            \"departmentId\": 8,\n",
            "            \"displayName\": \"The Costume Institute\"\n",
            "        },\n",
            "        {\n",
            "            \"departmentId\": 9,\n",
            "            \"displayName\": \"Drawings and Prints\"\n",
            "        },\n",
            "        {\n",
            "            \"departmentId\": 10,\n",
            "            \"displayName\": \"Egyptian Art\"\n",
            "        },\n",
            "        {\n",
            "            \"departmentId\": 11,\n",
            "            \"displayName\": \"European Paintings\"\n",
            "        },\n",
            "        {\n",
            "            \"departmentId\": 12,\n",
            "            \"displayName\": \"European Sculpture and Decorative Arts\"\n",
            "        },\n",
            "        {\n",
            "            \"departmentId\": 13,\n",
            "            \"displayName\": \"Greek and Roman Art\"\n",
            "        },\n",
            "        {\n",
            "            \"departmentId\": 14,\n",
            "            \"displayName\": \"Islamic Art\"\n",
            "        },\n",
            "        {\n",
            "            \"departmentId\": 15,\n",
            "            \"displayName\": \"The Robert Lehman Collection\"\n",
            "        },\n",
            "        {\n",
            "            \"departmentId\": 16,\n",
            "            \"displayName\": \"The Libraries\"\n",
            "        },\n",
            "        {\n",
            "            \"departmentId\": 17,\n",
            "            \"displayName\": \"Medieval Art\"\n",
            "        },\n",
            "        {\n",
            "            \"departmentId\": 18,\n",
            "            \"displayName\": \"Musical Instruments\"\n",
            "        },\n",
            "        {\n",
            "            \"departmentId\": 19,\n",
            "            \"displayName\": \"Photographs\"\n",
            "        },\n",
            "        {\n",
            "            \"departmentId\": 21,\n",
            "            \"displayName\": \"Modern Art\"\n",
            "        }\n",
            "    ]\n",
            "}\n"
          ]
        }
      ]
    },
    {
      "metadata": {
        "id": "1f1d3243"
      },
      "id": "1f1d3243",
      "cell_type": "markdown",
      "source": [
        "Converting our output into a string makes it easier to understand the structure of the data. There are 21 departments at the Metropolitan Museum, with their names existing as dictionaries inside a list."
      ]
    },
    {
      "metadata": {
        "id": "8ceac54f"
      },
      "id": "8ceac54f",
      "cell_type": "markdown",
      "source": [
        "### Converting JSON data into a Pandas Dataframe"
      ]
    },
    {
      "metadata": {
        "id": "84d3b139"
      },
      "id": "84d3b139",
      "cell_type": "markdown",
      "source": [
        "It may be easier to work with the API data if it were stored in tabular format (i.e., a spreadsheet). We can use the Pandas Python library for data analysis and manipulation (https://pandas.pydata.org) to wrangle the JSON formatted data into a dataframe.  \n",
        "\n",
        "To start, let's bring the Pandas library into our Python environment:"
      ]
    },
    {
      "metadata": {
        "trusted": true,
        "id": "c6aaae51"
      },
      "id": "c6aaae51",
      "cell_type": "code",
      "source": [
        "import pandas as pd"
      ],
      "execution_count": 43,
      "outputs": []
    },
    {
      "metadata": {
        "id": "fb41cb87"
      },
      "id": "fb41cb87",
      "cell_type": "markdown",
      "source": [
        "Next, let's explore our JSON using the Keys() and Type() Methods.\n",
        "\n",
        "The keys() method returns a view object. The view object contains the keys of the dictionary, as a list (https://www.w3schools.com/python/ref_dictionary_keys.asp)"
      ]
    },
    {
      "metadata": {
        "id": "f22c0824"
      },
      "id": "f22c0824",
      "cell_type": "markdown",
      "source": [
        "Let's create a new variable 'json_results' equal to our API response"
      ]
    },
    {
      "metadata": {
        "trusted": true,
        "id": "4a3913f5",
        "outputId": "c235eb44-3426-4e6a-d167-042b4b34f5ce",
        "colab": {
          "base_uri": "https://localhost:8080/"
        }
      },
      "id": "4a3913f5",
      "cell_type": "code",
      "source": [
        "json_results=response.json()\n",
        "\n",
        "json_results.keys()\n"
      ],
      "execution_count": 44,
      "outputs": [
        {
          "output_type": "execute_result",
          "data": {
            "text/plain": [
              "dict_keys(['departments'])"
            ]
          },
          "metadata": {},
          "execution_count": 44
        }
      ]
    },
    {
      "metadata": {
        "id": "03f1aca9"
      },
      "id": "03f1aca9",
      "cell_type": "markdown",
      "source": [
        "The output of keys method called on the json_results variable provides us with a list of keys that we can use to explore the JSON, similar to how you would select a column in a Pandas Dataframe. In this case, we just have a single key. Later in this workshop we will work with a JSON with multiple keys."
      ]
    },
    {
      "metadata": {
        "trusted": true,
        "id": "1c2c55b2",
        "outputId": "a2fa0433-1729-4bb2-e832-5ebf13f8348c",
        "colab": {
          "base_uri": "https://localhost:8080/"
        }
      },
      "id": "1c2c55b2",
      "cell_type": "code",
      "source": [
        "json_results['departments']"
      ],
      "execution_count": 45,
      "outputs": [
        {
          "output_type": "execute_result",
          "data": {
            "text/plain": [
              "[{'departmentId': 1, 'displayName': 'American Decorative Arts'},\n",
              " {'departmentId': 3, 'displayName': 'Ancient Near Eastern Art'},\n",
              " {'departmentId': 4, 'displayName': 'Arms and Armor'},\n",
              " {'departmentId': 5,\n",
              "  'displayName': 'Arts of Africa, Oceania, and the Americas'},\n",
              " {'departmentId': 6, 'displayName': 'Asian Art'},\n",
              " {'departmentId': 7, 'displayName': 'The Cloisters'},\n",
              " {'departmentId': 8, 'displayName': 'The Costume Institute'},\n",
              " {'departmentId': 9, 'displayName': 'Drawings and Prints'},\n",
              " {'departmentId': 10, 'displayName': 'Egyptian Art'},\n",
              " {'departmentId': 11, 'displayName': 'European Paintings'},\n",
              " {'departmentId': 12, 'displayName': 'European Sculpture and Decorative Arts'},\n",
              " {'departmentId': 13, 'displayName': 'Greek and Roman Art'},\n",
              " {'departmentId': 14, 'displayName': 'Islamic Art'},\n",
              " {'departmentId': 15, 'displayName': 'The Robert Lehman Collection'},\n",
              " {'departmentId': 16, 'displayName': 'The Libraries'},\n",
              " {'departmentId': 17, 'displayName': 'Medieval Art'},\n",
              " {'departmentId': 18, 'displayName': 'Musical Instruments'},\n",
              " {'departmentId': 19, 'displayName': 'Photographs'},\n",
              " {'departmentId': 21, 'displayName': 'Modern Art'}]"
            ]
          },
          "metadata": {},
          "execution_count": 45
        }
      ]
    },
    {
      "metadata": {
        "id": "e600beff"
      },
      "id": "e600beff",
      "cell_type": "markdown",
      "source": [
        "We could also check the data type for this key:"
      ]
    },
    {
      "metadata": {
        "trusted": true,
        "id": "9e3604d9",
        "outputId": "138e4514-2af2-44dd-94e6-76bb35b9f5df",
        "colab": {
          "base_uri": "https://localhost:8080/"
        }
      },
      "id": "9e3604d9",
      "cell_type": "code",
      "source": [
        "type(json_results['departments'])"
      ],
      "execution_count": 46,
      "outputs": [
        {
          "output_type": "execute_result",
          "data": {
            "text/plain": [
              "list"
            ]
          },
          "metadata": {},
          "execution_count": 46
        }
      ]
    },
    {
      "metadata": {
        "id": "65553cff"
      },
      "id": "65553cff",
      "cell_type": "markdown",
      "source": [
        "Because our 'departments' key is a list, we can simply add an index next to the key, and test what type of data is listed:"
      ]
    },
    {
      "metadata": {
        "trusted": true,
        "id": "0fbe0e98",
        "outputId": "bd8d0aec-7fe9-410e-f4e5-334ae9361311",
        "colab": {
          "base_uri": "https://localhost:8080/"
        }
      },
      "id": "0fbe0e98",
      "cell_type": "code",
      "source": [
        "type(json_results['departments'][0])"
      ],
      "execution_count": 47,
      "outputs": [
        {
          "output_type": "execute_result",
          "data": {
            "text/plain": [
              "dict"
            ]
          },
          "metadata": {},
          "execution_count": 47
        }
      ]
    },
    {
      "metadata": {
        "id": "ab7b9663"
      },
      "id": "ab7b9663",
      "cell_type": "markdown",
      "source": [
        "It looks like with have a list of \"dicts\", which are easily transformed into a dataframe. Dictionaries are used to store data values in key:value pairs (https://www.w3schools.com/python/python_dictionaries.asp)."
      ]
    },
    {
      "metadata": {
        "trusted": true,
        "id": "ebc35c42",
        "outputId": "c2914beb-68b4-41a7-fa31-80686440a5a4",
        "colab": {
          "base_uri": "https://localhost:8080/",
          "height": 645
        }
      },
      "id": "ebc35c42",
      "cell_type": "code",
      "source": [
        "df = pd.DataFrame(json_results['departments'])\n",
        "df"
      ],
      "execution_count": 48,
      "outputs": [
        {
          "output_type": "execute_result",
          "data": {
            "text/plain": [
              "    departmentId                                displayName\n",
              "0              1                   American Decorative Arts\n",
              "1              3                   Ancient Near Eastern Art\n",
              "2              4                             Arms and Armor\n",
              "3              5  Arts of Africa, Oceania, and the Americas\n",
              "4              6                                  Asian Art\n",
              "5              7                              The Cloisters\n",
              "6              8                      The Costume Institute\n",
              "7              9                        Drawings and Prints\n",
              "8             10                               Egyptian Art\n",
              "9             11                         European Paintings\n",
              "10            12     European Sculpture and Decorative Arts\n",
              "11            13                        Greek and Roman Art\n",
              "12            14                                Islamic Art\n",
              "13            15               The Robert Lehman Collection\n",
              "14            16                              The Libraries\n",
              "15            17                               Medieval Art\n",
              "16            18                        Musical Instruments\n",
              "17            19                                Photographs\n",
              "18            21                                 Modern Art"
            ],
            "text/html": [
              "\n",
              "  <div id=\"df-e5d7737c-c89c-4e18-9f41-671fc6bbb81c\" class=\"colab-df-container\">\n",
              "    <div>\n",
              "<style scoped>\n",
              "    .dataframe tbody tr th:only-of-type {\n",
              "        vertical-align: middle;\n",
              "    }\n",
              "\n",
              "    .dataframe tbody tr th {\n",
              "        vertical-align: top;\n",
              "    }\n",
              "\n",
              "    .dataframe thead th {\n",
              "        text-align: right;\n",
              "    }\n",
              "</style>\n",
              "<table border=\"1\" class=\"dataframe\">\n",
              "  <thead>\n",
              "    <tr style=\"text-align: right;\">\n",
              "      <th></th>\n",
              "      <th>departmentId</th>\n",
              "      <th>displayName</th>\n",
              "    </tr>\n",
              "  </thead>\n",
              "  <tbody>\n",
              "    <tr>\n",
              "      <th>0</th>\n",
              "      <td>1</td>\n",
              "      <td>American Decorative Arts</td>\n",
              "    </tr>\n",
              "    <tr>\n",
              "      <th>1</th>\n",
              "      <td>3</td>\n",
              "      <td>Ancient Near Eastern Art</td>\n",
              "    </tr>\n",
              "    <tr>\n",
              "      <th>2</th>\n",
              "      <td>4</td>\n",
              "      <td>Arms and Armor</td>\n",
              "    </tr>\n",
              "    <tr>\n",
              "      <th>3</th>\n",
              "      <td>5</td>\n",
              "      <td>Arts of Africa, Oceania, and the Americas</td>\n",
              "    </tr>\n",
              "    <tr>\n",
              "      <th>4</th>\n",
              "      <td>6</td>\n",
              "      <td>Asian Art</td>\n",
              "    </tr>\n",
              "    <tr>\n",
              "      <th>5</th>\n",
              "      <td>7</td>\n",
              "      <td>The Cloisters</td>\n",
              "    </tr>\n",
              "    <tr>\n",
              "      <th>6</th>\n",
              "      <td>8</td>\n",
              "      <td>The Costume Institute</td>\n",
              "    </tr>\n",
              "    <tr>\n",
              "      <th>7</th>\n",
              "      <td>9</td>\n",
              "      <td>Drawings and Prints</td>\n",
              "    </tr>\n",
              "    <tr>\n",
              "      <th>8</th>\n",
              "      <td>10</td>\n",
              "      <td>Egyptian Art</td>\n",
              "    </tr>\n",
              "    <tr>\n",
              "      <th>9</th>\n",
              "      <td>11</td>\n",
              "      <td>European Paintings</td>\n",
              "    </tr>\n",
              "    <tr>\n",
              "      <th>10</th>\n",
              "      <td>12</td>\n",
              "      <td>European Sculpture and Decorative Arts</td>\n",
              "    </tr>\n",
              "    <tr>\n",
              "      <th>11</th>\n",
              "      <td>13</td>\n",
              "      <td>Greek and Roman Art</td>\n",
              "    </tr>\n",
              "    <tr>\n",
              "      <th>12</th>\n",
              "      <td>14</td>\n",
              "      <td>Islamic Art</td>\n",
              "    </tr>\n",
              "    <tr>\n",
              "      <th>13</th>\n",
              "      <td>15</td>\n",
              "      <td>The Robert Lehman Collection</td>\n",
              "    </tr>\n",
              "    <tr>\n",
              "      <th>14</th>\n",
              "      <td>16</td>\n",
              "      <td>The Libraries</td>\n",
              "    </tr>\n",
              "    <tr>\n",
              "      <th>15</th>\n",
              "      <td>17</td>\n",
              "      <td>Medieval Art</td>\n",
              "    </tr>\n",
              "    <tr>\n",
              "      <th>16</th>\n",
              "      <td>18</td>\n",
              "      <td>Musical Instruments</td>\n",
              "    </tr>\n",
              "    <tr>\n",
              "      <th>17</th>\n",
              "      <td>19</td>\n",
              "      <td>Photographs</td>\n",
              "    </tr>\n",
              "    <tr>\n",
              "      <th>18</th>\n",
              "      <td>21</td>\n",
              "      <td>Modern Art</td>\n",
              "    </tr>\n",
              "  </tbody>\n",
              "</table>\n",
              "</div>\n",
              "    <div class=\"colab-df-buttons\">\n",
              "\n",
              "  <div class=\"colab-df-container\">\n",
              "    <button class=\"colab-df-convert\" onclick=\"convertToInteractive('df-e5d7737c-c89c-4e18-9f41-671fc6bbb81c')\"\n",
              "            title=\"Convert this dataframe to an interactive table.\"\n",
              "            style=\"display:none;\">\n",
              "\n",
              "  <svg xmlns=\"http://www.w3.org/2000/svg\" height=\"24px\" viewBox=\"0 -960 960 960\">\n",
              "    <path d=\"M120-120v-720h720v720H120Zm60-500h600v-160H180v160Zm220 220h160v-160H400v160Zm0 220h160v-160H400v160ZM180-400h160v-160H180v160Zm440 0h160v-160H620v160ZM180-180h160v-160H180v160Zm440 0h160v-160H620v160Z\"/>\n",
              "  </svg>\n",
              "    </button>\n",
              "\n",
              "  <style>\n",
              "    .colab-df-container {\n",
              "      display:flex;\n",
              "      gap: 12px;\n",
              "    }\n",
              "\n",
              "    .colab-df-convert {\n",
              "      background-color: #E8F0FE;\n",
              "      border: none;\n",
              "      border-radius: 50%;\n",
              "      cursor: pointer;\n",
              "      display: none;\n",
              "      fill: #1967D2;\n",
              "      height: 32px;\n",
              "      padding: 0 0 0 0;\n",
              "      width: 32px;\n",
              "    }\n",
              "\n",
              "    .colab-df-convert:hover {\n",
              "      background-color: #E2EBFA;\n",
              "      box-shadow: 0px 1px 2px rgba(60, 64, 67, 0.3), 0px 1px 3px 1px rgba(60, 64, 67, 0.15);\n",
              "      fill: #174EA6;\n",
              "    }\n",
              "\n",
              "    .colab-df-buttons div {\n",
              "      margin-bottom: 4px;\n",
              "    }\n",
              "\n",
              "    [theme=dark] .colab-df-convert {\n",
              "      background-color: #3B4455;\n",
              "      fill: #D2E3FC;\n",
              "    }\n",
              "\n",
              "    [theme=dark] .colab-df-convert:hover {\n",
              "      background-color: #434B5C;\n",
              "      box-shadow: 0px 1px 3px 1px rgba(0, 0, 0, 0.15);\n",
              "      filter: drop-shadow(0px 1px 2px rgba(0, 0, 0, 0.3));\n",
              "      fill: #FFFFFF;\n",
              "    }\n",
              "  </style>\n",
              "\n",
              "    <script>\n",
              "      const buttonEl =\n",
              "        document.querySelector('#df-e5d7737c-c89c-4e18-9f41-671fc6bbb81c button.colab-df-convert');\n",
              "      buttonEl.style.display =\n",
              "        google.colab.kernel.accessAllowed ? 'block' : 'none';\n",
              "\n",
              "      async function convertToInteractive(key) {\n",
              "        const element = document.querySelector('#df-e5d7737c-c89c-4e18-9f41-671fc6bbb81c');\n",
              "        const dataTable =\n",
              "          await google.colab.kernel.invokeFunction('convertToInteractive',\n",
              "                                                    [key], {});\n",
              "        if (!dataTable) return;\n",
              "\n",
              "        const docLinkHtml = 'Like what you see? Visit the ' +\n",
              "          '<a target=\"_blank\" href=https://colab.research.google.com/notebooks/data_table.ipynb>data table notebook</a>'\n",
              "          + ' to learn more about interactive tables.';\n",
              "        element.innerHTML = '';\n",
              "        dataTable['output_type'] = 'display_data';\n",
              "        await google.colab.output.renderOutput(dataTable, element);\n",
              "        const docLink = document.createElement('div');\n",
              "        docLink.innerHTML = docLinkHtml;\n",
              "        element.appendChild(docLink);\n",
              "      }\n",
              "    </script>\n",
              "  </div>\n",
              "\n",
              "\n",
              "<div id=\"df-db1e80cd-100a-4db0-8a91-1b09a5bc6717\">\n",
              "  <button class=\"colab-df-quickchart\" onclick=\"quickchart('df-db1e80cd-100a-4db0-8a91-1b09a5bc6717')\"\n",
              "            title=\"Suggest charts\"\n",
              "            style=\"display:none;\">\n",
              "\n",
              "<svg xmlns=\"http://www.w3.org/2000/svg\" height=\"24px\"viewBox=\"0 0 24 24\"\n",
              "     width=\"24px\">\n",
              "    <g>\n",
              "        <path d=\"M19 3H5c-1.1 0-2 .9-2 2v14c0 1.1.9 2 2 2h14c1.1 0 2-.9 2-2V5c0-1.1-.9-2-2-2zM9 17H7v-7h2v7zm4 0h-2V7h2v10zm4 0h-2v-4h2v4z\"/>\n",
              "    </g>\n",
              "</svg>\n",
              "  </button>\n",
              "\n",
              "<style>\n",
              "  .colab-df-quickchart {\n",
              "      --bg-color: #E8F0FE;\n",
              "      --fill-color: #1967D2;\n",
              "      --hover-bg-color: #E2EBFA;\n",
              "      --hover-fill-color: #174EA6;\n",
              "      --disabled-fill-color: #AAA;\n",
              "      --disabled-bg-color: #DDD;\n",
              "  }\n",
              "\n",
              "  [theme=dark] .colab-df-quickchart {\n",
              "      --bg-color: #3B4455;\n",
              "      --fill-color: #D2E3FC;\n",
              "      --hover-bg-color: #434B5C;\n",
              "      --hover-fill-color: #FFFFFF;\n",
              "      --disabled-bg-color: #3B4455;\n",
              "      --disabled-fill-color: #666;\n",
              "  }\n",
              "\n",
              "  .colab-df-quickchart {\n",
              "    background-color: var(--bg-color);\n",
              "    border: none;\n",
              "    border-radius: 50%;\n",
              "    cursor: pointer;\n",
              "    display: none;\n",
              "    fill: var(--fill-color);\n",
              "    height: 32px;\n",
              "    padding: 0;\n",
              "    width: 32px;\n",
              "  }\n",
              "\n",
              "  .colab-df-quickchart:hover {\n",
              "    background-color: var(--hover-bg-color);\n",
              "    box-shadow: 0 1px 2px rgba(60, 64, 67, 0.3), 0 1px 3px 1px rgba(60, 64, 67, 0.15);\n",
              "    fill: var(--button-hover-fill-color);\n",
              "  }\n",
              "\n",
              "  .colab-df-quickchart-complete:disabled,\n",
              "  .colab-df-quickchart-complete:disabled:hover {\n",
              "    background-color: var(--disabled-bg-color);\n",
              "    fill: var(--disabled-fill-color);\n",
              "    box-shadow: none;\n",
              "  }\n",
              "\n",
              "  .colab-df-spinner {\n",
              "    border: 2px solid var(--fill-color);\n",
              "    border-color: transparent;\n",
              "    border-bottom-color: var(--fill-color);\n",
              "    animation:\n",
              "      spin 1s steps(1) infinite;\n",
              "  }\n",
              "\n",
              "  @keyframes spin {\n",
              "    0% {\n",
              "      border-color: transparent;\n",
              "      border-bottom-color: var(--fill-color);\n",
              "      border-left-color: var(--fill-color);\n",
              "    }\n",
              "    20% {\n",
              "      border-color: transparent;\n",
              "      border-left-color: var(--fill-color);\n",
              "      border-top-color: var(--fill-color);\n",
              "    }\n",
              "    30% {\n",
              "      border-color: transparent;\n",
              "      border-left-color: var(--fill-color);\n",
              "      border-top-color: var(--fill-color);\n",
              "      border-right-color: var(--fill-color);\n",
              "    }\n",
              "    40% {\n",
              "      border-color: transparent;\n",
              "      border-right-color: var(--fill-color);\n",
              "      border-top-color: var(--fill-color);\n",
              "    }\n",
              "    60% {\n",
              "      border-color: transparent;\n",
              "      border-right-color: var(--fill-color);\n",
              "    }\n",
              "    80% {\n",
              "      border-color: transparent;\n",
              "      border-right-color: var(--fill-color);\n",
              "      border-bottom-color: var(--fill-color);\n",
              "    }\n",
              "    90% {\n",
              "      border-color: transparent;\n",
              "      border-bottom-color: var(--fill-color);\n",
              "    }\n",
              "  }\n",
              "</style>\n",
              "\n",
              "  <script>\n",
              "    async function quickchart(key) {\n",
              "      const quickchartButtonEl =\n",
              "        document.querySelector('#' + key + ' button');\n",
              "      quickchartButtonEl.disabled = true;  // To prevent multiple clicks.\n",
              "      quickchartButtonEl.classList.add('colab-df-spinner');\n",
              "      try {\n",
              "        const charts = await google.colab.kernel.invokeFunction(\n",
              "            'suggestCharts', [key], {});\n",
              "      } catch (error) {\n",
              "        console.error('Error during call to suggestCharts:', error);\n",
              "      }\n",
              "      quickchartButtonEl.classList.remove('colab-df-spinner');\n",
              "      quickchartButtonEl.classList.add('colab-df-quickchart-complete');\n",
              "    }\n",
              "    (() => {\n",
              "      let quickchartButtonEl =\n",
              "        document.querySelector('#df-db1e80cd-100a-4db0-8a91-1b09a5bc6717 button');\n",
              "      quickchartButtonEl.style.display =\n",
              "        google.colab.kernel.accessAllowed ? 'block' : 'none';\n",
              "    })();\n",
              "  </script>\n",
              "</div>\n",
              "\n",
              "  <div id=\"id_8aa74acf-b040-4f54-af02-4c80ab064a0a\">\n",
              "    <style>\n",
              "      .colab-df-generate {\n",
              "        background-color: #E8F0FE;\n",
              "        border: none;\n",
              "        border-radius: 50%;\n",
              "        cursor: pointer;\n",
              "        display: none;\n",
              "        fill: #1967D2;\n",
              "        height: 32px;\n",
              "        padding: 0 0 0 0;\n",
              "        width: 32px;\n",
              "      }\n",
              "\n",
              "      .colab-df-generate:hover {\n",
              "        background-color: #E2EBFA;\n",
              "        box-shadow: 0px 1px 2px rgba(60, 64, 67, 0.3), 0px 1px 3px 1px rgba(60, 64, 67, 0.15);\n",
              "        fill: #174EA6;\n",
              "      }\n",
              "\n",
              "      [theme=dark] .colab-df-generate {\n",
              "        background-color: #3B4455;\n",
              "        fill: #D2E3FC;\n",
              "      }\n",
              "\n",
              "      [theme=dark] .colab-df-generate:hover {\n",
              "        background-color: #434B5C;\n",
              "        box-shadow: 0px 1px 3px 1px rgba(0, 0, 0, 0.15);\n",
              "        filter: drop-shadow(0px 1px 2px rgba(0, 0, 0, 0.3));\n",
              "        fill: #FFFFFF;\n",
              "      }\n",
              "    </style>\n",
              "    <button class=\"colab-df-generate\" onclick=\"generateWithVariable('df')\"\n",
              "            title=\"Generate code using this dataframe.\"\n",
              "            style=\"display:none;\">\n",
              "\n",
              "  <svg xmlns=\"http://www.w3.org/2000/svg\" height=\"24px\"viewBox=\"0 0 24 24\"\n",
              "       width=\"24px\">\n",
              "    <path d=\"M7,19H8.4L18.45,9,17,7.55,7,17.6ZM5,21V16.75L18.45,3.32a2,2,0,0,1,2.83,0l1.4,1.43a1.91,1.91,0,0,1,.58,1.4,1.91,1.91,0,0,1-.58,1.4L9.25,21ZM18.45,9,17,7.55Zm-12,3A5.31,5.31,0,0,0,4.9,8.1,5.31,5.31,0,0,0,1,6.5,5.31,5.31,0,0,0,4.9,4.9,5.31,5.31,0,0,0,6.5,1,5.31,5.31,0,0,0,8.1,4.9,5.31,5.31,0,0,0,12,6.5,5.46,5.46,0,0,0,6.5,12Z\"/>\n",
              "  </svg>\n",
              "    </button>\n",
              "    <script>\n",
              "      (() => {\n",
              "      const buttonEl =\n",
              "        document.querySelector('#id_8aa74acf-b040-4f54-af02-4c80ab064a0a button.colab-df-generate');\n",
              "      buttonEl.style.display =\n",
              "        google.colab.kernel.accessAllowed ? 'block' : 'none';\n",
              "\n",
              "      buttonEl.onclick = () => {\n",
              "        google.colab.notebook.generateWithVariable('df');\n",
              "      }\n",
              "      })();\n",
              "    </script>\n",
              "  </div>\n",
              "\n",
              "    </div>\n",
              "  </div>\n"
            ],
            "application/vnd.google.colaboratory.intrinsic+json": {
              "type": "dataframe",
              "variable_name": "df",
              "summary": "{\n  \"name\": \"df\",\n  \"rows\": 19,\n  \"fields\": [\n    {\n      \"column\": \"departmentId\",\n      \"properties\": {\n        \"dtype\": \"number\",\n        \"std\": 5,\n        \"min\": 1,\n        \"max\": 21,\n        \"num_unique_values\": 19,\n        \"samples\": [\n          1,\n          7,\n          13\n        ],\n        \"semantic_type\": \"\",\n        \"description\": \"\"\n      }\n    },\n    {\n      \"column\": \"displayName\",\n      \"properties\": {\n        \"dtype\": \"string\",\n        \"num_unique_values\": 19,\n        \"samples\": [\n          \"American Decorative Arts\",\n          \"The Cloisters\",\n          \"Greek and Roman Art\"\n        ],\n        \"semantic_type\": \"\",\n        \"description\": \"\"\n      }\n    }\n  ]\n}"
            }
          },
          "metadata": {},
          "execution_count": 48
        }
      ]
    },
    {
      "metadata": {
        "id": "8c4387d7"
      },
      "id": "8c4387d7",
      "cell_type": "markdown",
      "source": [
        "Converting the data from JSON to a dataframe makes it much easier to read! It also wrangles the data into a format that can be easily used for data analysis and manipulation. See Pandas workshop for a refresher: https://gc-dri.github.io/Dhrift-GC/workshops/pandas/"
      ]
    },
    {
      "metadata": {
        "id": "ce20776c"
      },
      "id": "ce20776c",
      "cell_type": "markdown",
      "source": [
        "## 2. Using an API with Keys: NewsAPI"
      ]
    },
    {
      "metadata": {
        "id": "e06f6017"
      },
      "id": "e06f6017",
      "cell_type": "markdown",
      "source": [
        "NewsAPI.org is an easy to use API to get news from over 30,000 sources all over the world. NewsAPI offers both free and paid plans.\n",
        "\n",
        "To connect with the NewsAPI (https://newsapi.org/), we will need a “Client Access Token,” which is like a password assigned to you.\n",
        "\n",
        "Many APIs require authentication keys to gain access to them, in part so they can keep track of the requests we are making.\n",
        "\n",
        "To get you NewsAPI keys, fill out the info at: https://newsapi.org/register.\n",
        "\n",
        "You’ll be asked to sign up for a News API account, required to gain API access. Signing up for a NewsAPI account is free and easy. You need your first name, an email address, and a password."
      ]
    },
    {
      "metadata": {
        "id": "0097c854"
      },
      "id": "0097c854",
      "cell_type": "markdown",
      "source": [
        "Once you’re signed in, you should be taken to https://newsapi.org/account, where you will find your personal API Key."
      ]
    },
    {
      "metadata": {
        "id": "3cc053c1"
      },
      "id": "3cc053c1",
      "cell_type": "markdown",
      "source": [
        "### 2.1 Installing the NewsAPI"
      ]
    },
    {
      "metadata": {
        "id": "f22f55ea"
      },
      "id": "f22f55ea",
      "cell_type": "markdown",
      "source": [
        "Before we can communicate with the NewsAPI from our Python environment, we need to install it. You can run \"!pip install newsapi-python\" directly from your Jupyter Notebook:  "
      ]
    },
    {
      "metadata": {
        "trusted": true,
        "id": "975897b3"
      },
      "id": "975897b3",
      "cell_type": "code",
      "source": [
        "# !pip install newsapi-python"
      ],
      "execution_count": 49,
      "outputs": []
    },
    {
      "metadata": {
        "id": "cd9ca67b"
      },
      "id": "cd9ca67b",
      "cell_type": "markdown",
      "source": [
        "### 2.2 Importing the \"requests\" and \"pprint\" libraries"
      ]
    },
    {
      "metadata": {
        "id": "6a895baf"
      },
      "id": "6a895baf",
      "cell_type": "markdown",
      "source": [
        "In addition to importing our \"requests\" library, we will also use the Pretty Print \"pprint\" module. Pretty Print in Python is a utility module that you can use to print data structures in a readable, pretty way. It’s a part of the standard library that’s especially useful for debugging code dealing with API requests, large JSON files, and data in general."
      ]
    },
    {
      "metadata": {
        "trusted": true,
        "id": "478897ad"
      },
      "id": "478897ad",
      "cell_type": "code",
      "source": [
        "import pprint\n",
        "import requests"
      ],
      "execution_count": 50,
      "outputs": []
    },
    {
      "metadata": {
        "id": "29353ee1"
      },
      "id": "29353ee1",
      "cell_type": "markdown",
      "source": [
        "### 2.3 Saving your NewsAPI key as a variable"
      ]
    },
    {
      "metadata": {
        "id": "2d97f4f4"
      },
      "id": "2d97f4f4",
      "cell_type": "markdown",
      "source": [
        "When working with API keys, it's always a good idea to set them equal to a variable that you can easily call on when connecting to the API.\n",
        "\n",
        "You can find your NewsAPI key at: https://newsapi.org/docs/authentication.\n",
        "\n",
        "Here, I add a dummy key. Make sure to replace it with your own key:"
      ]
    },
    {
      "metadata": {
        "trusted": true,
        "id": "03f9ea22"
      },
      "id": "03f9ea22",
      "cell_type": "code",
      "source": [
        "secret= '571e874fe6674690a5ea658e5937d47c' #replace with your key"
      ],
      "execution_count": 51,
      "outputs": []
    },
    {
      "metadata": {
        "id": "c17fa468"
      },
      "id": "c17fa468",
      "cell_type": "markdown",
      "source": [
        "### 2.4 Defining your endpoint and specifying the query"
      ]
    },
    {
      "metadata": {
        "id": "805ca100"
      },
      "id": "805ca100",
      "cell_type": "markdown",
      "source": [
        "NewsAPI offers three endpoints:\n",
        "\n",
        "'/v2/top-headlines', for the most important headlines per country and category\n",
        "'/v2/everything', for all the news articles from over 30,000 sources\n",
        "'/v2/sources', for information on the various sources\n",
        "\n",
        "We will use the 'everything' endpoint, to get news about 'New York City'."
      ]
    },
    {
      "metadata": {
        "id": "8f62d971"
      },
      "id": "8f62d971",
      "cell_type": "markdown",
      "source": [
        "Let's define the endpoint"
      ]
    },
    {
      "metadata": {
        "trusted": true,
        "id": "2e751f47"
      },
      "id": "2e751f47",
      "cell_type": "code",
      "source": [
        "url = 'https://newsapi.org/v2/everything?'"
      ],
      "execution_count": 52,
      "outputs": []
    },
    {
      "metadata": {
        "id": "2fa226bb"
      },
      "id": "2fa226bb",
      "cell_type": "markdown",
      "source": [
        "Next, we need to specify the query and number of returns"
      ]
    },
    {
      "metadata": {
        "trusted": true,
        "id": "39dd39bd"
      },
      "id": "39dd39bd",
      "cell_type": "code",
      "source": [
        "parameters = {\n",
        "    'q': 'new york city', # query phrase\n",
        "    #'sources': 'new york times', #specify sources, if desired\n",
        "    'pageSize': 20,  # maximum is 100\n",
        "    'apiKey': secret # your own API key\n",
        "    }"
      ],
      "execution_count": 53,
      "outputs": []
    },
    {
      "metadata": {
        "id": "579234ae"
      },
      "id": "579234ae",
      "cell_type": "markdown",
      "source": [
        "### 2.5 Retrieve the news with the requests package"
      ]
    },
    {
      "metadata": {
        "id": "6f4ef058"
      },
      "id": "6f4ef058",
      "cell_type": "markdown",
      "source": [
        "Let's make the request"
      ]
    },
    {
      "metadata": {
        "trusted": true,
        "id": "c718675a"
      },
      "id": "c718675a",
      "cell_type": "code",
      "source": [
        "response = requests.get(url, params=parameters)"
      ],
      "execution_count": 54,
      "outputs": []
    },
    {
      "metadata": {
        "id": "ebf6901c"
      },
      "id": "ebf6901c",
      "cell_type": "markdown",
      "source": [
        "Then, convert the response to JSON format and pretty print it"
      ]
    },
    {
      "metadata": {
        "trusted": true,
        "id": "0b8a2639",
        "outputId": "63d19b1f-0e61-47dc-8203-58209ef93b5f",
        "colab": {
          "base_uri": "https://localhost:8080/"
        }
      },
      "id": "0b8a2639",
      "cell_type": "code",
      "source": [
        "response_json = response.json()\n",
        "pprint.pprint(response_json)"
      ],
      "execution_count": 55,
      "outputs": [
        {
          "output_type": "stream",
          "name": "stdout",
          "text": [
            "{'articles': [{'author': 'Aditi Bharade',\n",
            "               'content': 'New York City Mayor Eric Adams.Andrew '\n",
            "                          'Lichtenstein/Getty Images\\r\\n'\n",
            "                          '<ul><li>Eric Adams has been indicted, The New York '\n",
            "                          'Times first reported on Wednesday.</li><li>The '\n",
            "                          'mayor has been the center of an inve… [+643 chars]',\n",
            "               'description': 'The mayor has been the center of a federal '\n",
            "                              'investigation into donations to his 2021 '\n",
            "                              'campaign.',\n",
            "               'publishedAt': '2024-09-26T01:25:41Z',\n",
            "               'source': {'id': 'business-insider', 'name': 'Business Insider'},\n",
            "               'title': 'New York City Mayor Eric Adams has been indicted',\n",
            "               'url': 'https://www.businessinsider.com/nyc-mayor-eric-adams-indicted-2024-9',\n",
            "               'urlToImage': 'https://i.insider.com/66f4b713de59ade1a3b4abfe?width=1200&format=jpeg'},\n",
            "              {'author': 'Jeongyoon Han',\n",
            "               'content': 'It was two years ago. Morningside Heights resident '\n",
            "                          'Carl Mahaney was walking with his kid to the first '\n",
            "                          'day of school, when they came across heaps of trash '\n",
            "                          'bags lying on a sidewalk.\\r\\n'\n",
            "                          'The rats would com… [+6384 chars]',\n",
            "               'description': 'New York City has a well known rat problem. And '\n",
            "                              'the city is trying to tackle it — with trash '\n",
            "                              'cans and by changing human behavior.',\n",
            "               'publishedAt': '2024-09-24T10:01:00Z',\n",
            "               'source': {'id': None, 'name': 'NPR'},\n",
            "               'title': 'New York City has a rat problem. Officials have a '\n",
            "                        'plan to kick it from the curb',\n",
            "               'url': 'https://www.npr.org/2024/09/24/nx-s1-5115893/rats-nyc-trash-czar',\n",
            "               'urlToImage': 'https://npr.brightspotcdn.com/dims3/default/strip/false/crop/8842x4974+0+454/resize/1400/quality/100/format/jpeg/?url=http%3A%2F%2Fnpr-brightspot.s3.amazonaws.com%2F48%2F93%2F9d3fed014720a9edda984f16825b%2F20240807-hammar-ratsandtrash-8.jpg'},\n",
            "              {'author': 'The Associated Press',\n",
            "               'content': 'NEW YORK The top legal adviser to New York City '\n",
            "                          'Mayor Eric Adams resigned abruptly over the '\n",
            "                          'weekend, the latest sign of instability in the '\n",
            "                          \"Democrat's administration as it deals with multiple \"\n",
            "                          'federal … [+2216 chars]',\n",
            "               'description': 'The top legal adviser to New York City Mayor '\n",
            "                              'Eric Adams resigned over the weekend, the '\n",
            "                              \"latest sign of instability in the Democrat's \"\n",
            "                              'administration as it deals with multiple '\n",
            "                              'federal investigations.',\n",
            "               'publishedAt': '2024-09-15T17:38:24Z',\n",
            "               'source': {'id': None, 'name': 'NPR'},\n",
            "               'title': 'Top legal adviser to New York City mayor quits as '\n",
            "                        'investigations swell',\n",
            "               'url': 'https://www.npr.org/2024/09/15/g-s1-23108/top-legal-adviser-to-new-york-city-mayor-quits-as-investigations-swell',\n",
            "               'urlToImage': 'https://npr.brightspotcdn.com/dims3/default/strip/false/crop/6000x3375+0+313/resize/1400/quality/100/format/jpeg/?url=http%3A%2F%2Fnpr-brightspot.s3.amazonaws.com%2F10%2F12%2F582c7c304b3b8ea734a15e9c8e89%2Fap24259452564171.jpg'},\n",
            "              {'author': 'Jacob Shamsian',\n",
            "               'content': 'Mayor Eric Adams leaves Manhattan Federal Court '\n",
            "                          'with his lawyer Alex Spiro after pleading not '\n",
            "                          'guilty on multiple corruption charges.Barry '\n",
            "                          'Williams for New York Daily News via Getty '\n",
            "                          'Images\\r\\n'\n",
            "                          '<ul><li>Er… [+1916 chars]',\n",
            "               'description': 'Defense lawyer Alex Spiro, who is representing '\n",
            "                              'the New York City mayor, charges over $2,000 '\n",
            "                              'per hour and represented Elon Musk.',\n",
            "               'publishedAt': '2024-09-27T20:55:52Z',\n",
            "               'source': {'id': 'business-insider', 'name': 'Business Insider'},\n",
            "               'title': \"New York City taxpayers aren't footing the bill for \"\n",
            "                        \"Eric Adams' criminal corruption case\",\n",
            "               'url': 'https://www.businessinsider.com/eric-adams-legal-bill-nyc-taxpayers-alex-spiro-criminal-defense-2024-9',\n",
            "               'urlToImage': 'https://i.insider.com/66f7193875c877a99b617dd2?width=1200&format=jpeg'},\n",
            "              {'author': 'Alice Tecotzky,Lloyd Lee',\n",
            "               'content': 'New York City Mayor Eric Adams was indicted on five '\n",
            "                          'counts. He has denied wrongdoing.AP Photo/Seth '\n",
            "                          'Wenig\\r\\n'\n",
            "                          '<ul><li>NYC Mayor Eric Adams insisted that he will '\n",
            "                          'remain in office despite his indictment.</… [+3534 '\n",
            "                          'chars]',\n",
            "               'description': 'NYC law outlines two ways Mayor Eric Adams '\n",
            "                              \"could be removed from office if he doesn't \"\n",
            "                              'resign: A removal by Gov. Kathy Hochul or by a '\n",
            "                              'committee.',\n",
            "               'publishedAt': '2024-09-27T01:38:36Z',\n",
            "               'source': {'id': 'business-insider', 'name': 'Business Insider'},\n",
            "               'title': 'What it would take to remove embattled New York City '\n",
            "                        'Mayor Eric Adams from office',\n",
            "               'url': 'https://www.businessinsider.com/eric-adams-indictment-how-mayor-would-be-removed-from-office-2024-9',\n",
            "               'urlToImage': 'https://i.insider.com/66f60674de59ade1a3b52386?width=1200&format=jpeg'},\n",
            "              {'author': 'Jacob Shamsian',\n",
            "               'content': 'New York City Mayor Eric Adams arrives for his '\n",
            "                          'arraignment outside Manhattan Federal Court on '\n",
            "                          'Friday, Sept. 27, 2024 in Manhattan, New York.Barry '\n",
            "                          'Williams for New York Daily News via Getty '\n",
            "                          'Images\\r\\n'\n",
            "                          '<u… [+1859 chars]',\n",
            "               'description': 'The indicted New York City mayor is being '\n",
            "                              'arraigned in the same courtroom as Sean \"Diddy\" '\n",
            "                              'Combs last week.',\n",
            "               'publishedAt': '2024-09-27T14:00:04Z',\n",
            "               'source': {'id': 'business-insider', 'name': 'Business Insider'},\n",
            "               'title': 'Eric Adams is showing up to court for the first time '\n",
            "                        'since his historic indictment',\n",
            "               'url': 'https://www.businessinsider.com/eric-adams-court-appearance-criminal-case-indictment-2024-9',\n",
            "               'urlToImage': 'https://i.insider.com/66f6b759f9f6733e4be035fa?width=1200&format=jpeg'},\n",
            "              {'author': 'Erin McDowell',\n",
            "               'content': 'I attended the first-ever ChainFest in New York '\n",
            "                          'City and ranked everything I ate.Erin '\n",
            "                          'McDowell/Business Insider\\r\\n'\n",
            "                          '<ul><li>I attended the first-ever ChainFest in New '\n",
            "                          'York City and ranked everything I a… [+9914 chars]',\n",
            "               'description': 'I attended the first ChainFest in New York '\n",
            "                              'City. I tried a new KFC menu item and some '\n",
            "                              'reimagined chain-restaurant classics.',\n",
            "               'publishedAt': '2024-09-26T19:40:53Z',\n",
            "               'source': {'id': 'business-insider', 'name': 'Business Insider'},\n",
            "               'title': 'I went to a food festival that served elevated '\n",
            "                        \"versions of chain restaurant menu items. Here's \"\n",
            "                        'everything I ate.',\n",
            "               'url': 'https://www.businessinsider.com/review-best-menu-items-chainfest-new-york-city-ranked-2024-9',\n",
            "               'urlToImage': 'https://i.insider.com/66f46583de59ade1a3b49ce8?width=1200&format=jpeg'},\n",
            "              {'author': 'Natalie Musumeci',\n",
            "               'content': 'New York City Mayor Eric Adams has been charged '\n",
            "                          'with five criminal counts. AP/Seth Wenig\\r\\n'\n",
            "                          '<ul><li>A grand jury has indicted New York City '\n",
            "                          'Mayor Eric Adams on 5 criminal counts in a '\n",
            "                          'corruption probe.<… [+2087 chars]',\n",
            "               'description': 'New York City Mayor Eric Adams has been charged '\n",
            "                              'with five criminal counts as part of a federal '\n",
            "                              'corruption probe.',\n",
            "               'publishedAt': '2024-09-26T16:35:38Z',\n",
            "               'source': {'id': 'business-insider', 'name': 'Business Insider'},\n",
            "               'title': 'The charges against NYC Mayor Eric Adams explained in '\n",
            "                        '60 seconds',\n",
            "               'url': 'https://www.businessinsider.com/new-york-city-mayor-eric-adams-charges-indicted-2024-9',\n",
            "               'urlToImage': 'https://i.insider.com/66f5883fde59ade1a3b4d4f5?width=1200&format=jpeg'},\n",
            "              {'author': 'Katie Balevic',\n",
            "               'content': 'The Chrysler Building.Roy Rochlin/Getty Images\\r\\n'\n",
            "                          '<ul><li>The Chrysler Building, a renowned gem of '\n",
            "                          'NYC, is the latest victim of the office '\n",
            "                          'apocalypse.</li><li>Cooper Union, the property '\n",
            "                          'owner, told the… [+2470 chars]',\n",
            "               'description': 'The Chrysler Building may become the latest '\n",
            "                              'high-profile victim of the commercial real '\n",
            "                              \"estate collapse that's plagued the city, and \"\n",
            "                              'nation, since the pandemic.',\n",
            "               'publishedAt': '2024-10-03T18:10:46Z',\n",
            "               'source': {'id': 'business-insider', 'name': 'Business Insider'},\n",
            "               'title': \"An iconic gem of New York City's skyline is the \"\n",
            "                        'latest victim of the office collapse',\n",
            "               'url': 'https://www.businessinsider.com/chrysler-building-new-york-skyline-office-commercial-real-estate-collapse-2024-10',\n",
            "               'urlToImage': 'https://i.insider.com/66feca545ccfc192a552fdb3?width=1200&format=jpeg'},\n",
            "              {'author': None,\n",
            "               'content': \"If you click 'Accept all', we and our partners, \"\n",
            "                          'including 239 who are part of the IAB Transparency '\n",
            "                          '&amp; Consent Framework, will also store and/or '\n",
            "                          'access information on a device (in other words, use '\n",
            "                          '… [+678 chars]',\n",
            "               'description': None,\n",
            "               'publishedAt': '2024-09-12T19:44:40Z',\n",
            "               'source': {'id': None, 'name': 'Yahoo Entertainment'},\n",
            "               'title': 'New York City police commissioner resigns, AP '\n",
            "                        'Explains',\n",
            "               'url': 'https://consent.yahoo.com/v2/collectConsent?sessionId=1_cc-session_0cf19eda-e9cc-4427-9275-84838611ae7b',\n",
            "               'urlToImage': None},\n",
            "              {'author': 'JAKE OFFENHARTZ and MICHAEL R. SISAK / AP',\n",
            "               'content': 'NEW YORK New York City Police Commissioner Edward '\n",
            "                          'Caban resigned Thursday, one week after it emerged '\n",
            "                          'that his phone was seized as part of a federal '\n",
            "                          'investigation that touched several members of '\n",
            "                          'Mayor… [+5740 chars]',\n",
            "               'description': 'New York City Police Commissioner Edward Caban '\n",
            "                              'resigned Thursday, one week after it emerged '\n",
            "                              'that\\xa0his phone was seized\\xa0as part of\\xa0a '\n",
            "                              'federal investigation\\xa0that touched several '\n",
            "                              'members of Mayor Eric Adams’ inner circle.',\n",
            "               'publishedAt': '2024-09-12T19:45:42Z',\n",
            "               'source': {'id': 'time', 'name': 'Time'},\n",
            "               'title': 'New York City Police Commissioner Resigns Amid '\n",
            "                        'Federal Investigation',\n",
            "               'url': 'https://time.com/7020941/new-york-city-police-commissioner-resigns/',\n",
            "               'urlToImage': 'https://api.time.com/wp-content/uploads/2024/09/resign.jpg?quality=85&w=1024&h=628&crop=1'},\n",
            "              {'author': 'Dennis Green,Alcynna Lloyd,Maria Noyen',\n",
            "               'content': 'Prosecutors said Eric Adams stayed in the Bentley '\n",
            "                          'suite at the St. Regis in Istanbul paying a heavily '\n",
            "                          'discounted rate.St. Regis and Bentley\\r\\n'\n",
            "                          '<ul>\\n'\n",
            "                          '<li>Eric Adams spent two nights at the St. Regis '\n",
            "                          'Ista… [+3780 chars]',\n",
            "               'description': 'Prosecutors said that New York City Mayor Eric '\n",
            "                              'Adams spent two nights at the St. Regis hotel '\n",
            "                              'in Istanbul in the summer of 2017. Take a look '\n",
            "                              'inside.',\n",
            "               'publishedAt': '2024-09-26T22:09:00Z',\n",
            "               'source': {'id': 'business-insider', 'name': 'Business Insider'},\n",
            "               'title': 'See the luxury hotel suite feds say Eric Adams paid '\n",
            "                        'only $600 for when the stay was worth $7,000',\n",
            "               'url': 'https://www.businessinsider.com/bentley-and-st-regis-suite-in-istanbul-2015-4',\n",
            "               'urlToImage': 'https://i.insider.com/5528386feab8ea4a0cfe8722?width=1200&format=jpeg'},\n",
            "              {'author': 'Laura Italiano,Jacob Shamsian',\n",
            "               'content': 'New York City Mayor Eric Adams was indicted on five '\n",
            "                          'counts. He has denied wrongdoing.AP Photo/Seth '\n",
            "                          'Wenig\\r\\n'\n",
            "                          '<ul><li>In a court filing Monday, Eric Adams argues '\n",
            "                          'his bribery charge should be dismissed.</… [+2989 '\n",
            "                          'chars]',\n",
            "               'description': 'In a motion to dismiss filed Monday, the New '\n",
            "                              'York City mayor minimizes the lavish travel '\n",
            "                              \"accommodations he's accused of taking as \"\n",
            "                              'bribes.',\n",
            "               'publishedAt': '2024-09-30T13:12:10Z',\n",
            "               'source': {'id': 'business-insider', 'name': 'Business Insider'},\n",
            "               'title': 'Eric Adams says his lavish, Turkey-funded travels '\n",
            "                        \"were legal 'gifts,' not bribes\",\n",
            "               'url': 'https://www.businessinsider.com/eric-adams-dismiss-turkish-travels-were-gifts-not-bribes-2024-9',\n",
            "               'urlToImage': 'https://i.insider.com/66fa9f4d75c877a99b61a5f0?width=1200&format=jpeg'},\n",
            "              {'author': 'Mikhaila Friel',\n",
            "               'content': \"Eric Adams is the first of New York City's mayors \"\n",
            "                          'to be charged while in office.AP/Seth Wenig\\r\\n'\n",
            "                          '<ul><li>New York City Mayor Eric Adams is set to '\n",
            "                          'appear in court over bribery and wire fraud '\n",
            "                          'charges.</l… [+3310 chars]',\n",
            "               'description': 'New York City Mayor Eric Adams faces five '\n",
            "                              'criminal counts related to a federal corruption '\n",
            "                              'investigation, prompting calls for his '\n",
            "                              'resignation.',\n",
            "               'publishedAt': '2024-09-27T11:19:46Z',\n",
            "               'source': {'id': 'business-insider', 'name': 'Business Insider'},\n",
            "               'title': 'As Eric Adams prepares to appear in court, the number '\n",
            "                        'of Democrats calling for his resignation keeps '\n",
            "                        'growing',\n",
            "               'url': 'https://www.businessinsider.com/nyc-mayor-eric-adams-growing-calls-for-resignation-2024-9',\n",
            "               'urlToImage': 'https://i.insider.com/66f67951de59ade1a3b52a9f?width=1200&format=jpeg'},\n",
            "              {'author': 'Erin Snodgrass',\n",
            "               'content': 'Eric Adams faces five criminal counts in connection '\n",
            "                          'with a federal corruption investigation.Stephanie '\n",
            "                          'Keith\\r\\n'\n",
            "                          '<ul><li>Prosecutors allege New York City Mayor Eric '\n",
            "                          'Adams solicited travel from foreign bu… [+4585 '\n",
            "                          'chars]',\n",
            "               'description': 'New York City Mayor Eric Adams faces five '\n",
            "                              'counts connected to a corruption probe. '\n",
            "                              'Prosecutors say Adams accepted travel from '\n",
            "                              'foreign businesspeople.',\n",
            "               'publishedAt': '2024-09-27T02:06:17Z',\n",
            "               'source': {'id': 'business-insider', 'name': 'Business Insider'},\n",
            "               'title': 'Eric Adams indictment: All the travel benefits the '\n",
            "                        'New York City mayor is alleged by prosecutors to have '\n",
            "                        'accepted',\n",
            "               'url': 'https://www.businessinsider.com/travel-new-york-mayor-eric-adam-alleged-accepted-court-documents-2024-9',\n",
            "               'urlToImage': 'https://i.insider.com/66f5ff2075c877a99b611ca0?width=1200&format=jpeg'},\n",
            "              {'author': 'Natalie Musumeci',\n",
            "               'content': \"New York City Mayor Eric Adams' administration was \"\n",
            "                          'in turmoil before he was indicted.New York Daily '\n",
            "                          'News/Getty Images\\r\\n'\n",
            "                          '<ul><li>New York City Mayor Eric Adams was indicted '\n",
            "                          'by federal grand jury amid a… [+7263 chars]',\n",
            "               'description': \"New York City Mayor Eric Adams' administration \"\n",
            "                              'has been embroiled in turmoil for months. That '\n",
            "                              'chaos exploded into a crisis after his '\n",
            "                              'indictment.',\n",
            "               'publishedAt': '2024-09-26T21:07:09Z',\n",
            "               'source': {'id': 'business-insider', 'name': 'Business Insider'},\n",
            "               'title': \"Eric Adams to appear in court Friday: Here's a \"\n",
            "                        'timeline of the chaos leading up to his indictment.',\n",
            "               'url': 'https://www.businessinsider.com/new-york-city-mayor-eric-adams-indictment-timeline-corruption-investigation-2024-9',\n",
            "               'urlToImage': 'https://i.insider.com/66f5a39fde59ade1a3b5051d?width=1200&format=jpeg'},\n",
            "              {'author': None,\n",
            "               'content': '[Removed]',\n",
            "               'description': '[Removed]',\n",
            "               'publishedAt': '2024-09-18T11:15:37Z',\n",
            "               'source': {'id': None, 'name': '[Removed]'},\n",
            "               'title': '[Removed]',\n",
            "               'url': 'https://removed.com',\n",
            "               'urlToImage': None},\n",
            "              {'author': 'Andrew J. Hawkins',\n",
            "               'content': 'Uber is now asking riders to get verified as a '\n",
            "                          'safety measure for drivers\\r\\n'\n",
            "                          'Uber is now asking riders to get verified as a '\n",
            "                          'safety measure for drivers\\r\\n'\n",
            "                          ' / Riders can opt to have their personal informat… '\n",
            "                          '[+3345 chars]',\n",
            "               'description': 'Uber riders are now being asked to verify their '\n",
            "                              'accounts to better protect drivers from '\n",
            "                              'potential fraud. New verified badges will show '\n",
            "                              'up on their accounts.',\n",
            "               'publishedAt': '2024-09-17T14:30:00Z',\n",
            "               'source': {'id': 'the-verge', 'name': 'The Verge'},\n",
            "               'title': 'Uber is now asking riders to get verified as a safety '\n",
            "                        'measure for drivers',\n",
            "               'url': 'https://www.theverge.com/2024/9/17/24246397/uber-rider-verification-fraud-driver-safety',\n",
            "               'urlToImage': 'https://cdn.vox-cdn.com/thumbor/gXmoCdNB7J7kZGK5_9jPo3xy3Y4=/0x0:2040x1360/1200x628/filters:focal(1020x680:1021x681)/cdn.vox-cdn.com/uploads/chorus_asset/file/23932656/acastro_STK106__02.jpg'},\n",
            "              {'author': 'Makena Kelly',\n",
            "               'content': 'On Tuesday night, vice presidential nominees J.D. '\n",
            "                          'Vance and Tim Walz will debate one another for the '\n",
            "                          'first and only time ahead of the November '\n",
            "                          'presidential election.\\r\\n'\n",
            "                          'Before becoming an Ohio senator,… [+1908 chars]',\n",
            "               'description': 'Vice presidential nominees J.D. Vance and Tim '\n",
            "                              \"Walz are debating tonight. Let's follow along \"\n",
            "                              'together!',\n",
            "               'publishedAt': '2024-10-01T10:00:00Z',\n",
            "               'source': {'id': 'wired', 'name': 'Wired'},\n",
            "               'title': 'Get Your VP Debate Bingo Card Right Here',\n",
            "               'url': 'https://www.wired.com/story/bingo-how-to-watch-vp-walz-vance-debate/',\n",
            "               'urlToImage': 'https://media.wired.com/photos/66f70c288af4eb900c2450f5/191:100/w_1280,c_limit/vp-debate-498125917.jpg'},\n",
            "              {'author': 'C Mandler',\n",
            "               'content': 'Disney trips that were meant for homeless students '\n",
            "                          'in New York City public schools were used by school '\n",
            "                          \"system employees' families instead, according to a \"\n",
            "                          'report released earlier this month by the dis… '\n",
            "                          '[+1776 chars]',\n",
            "               'description': 'Disney trips that were meant for homeless '\n",
            "                              'students in New York City public schools were '\n",
            "                              \"used by school employees' families instead, \"\n",
            "                              'according to a report released by the district '\n",
            "                              'earlier this month.',\n",
            "               'publishedAt': '2024-09-17T17:13:12Z',\n",
            "               'source': {'id': None, 'name': 'NPR'},\n",
            "               'title': 'Disney trips meant for homeless NYC students went to '\n",
            "                        \"school employees' families\",\n",
            "               'url': 'https://www.npr.org/2024/09/17/g-s1-23420/disney-homeless-students-fraud',\n",
            "               'urlToImage': 'https://npr.brightspotcdn.com/dims3/default/strip/false/crop/3984x2241+0+208/resize/1400/quality/100/format/jpeg/?url=http%3A%2F%2Fnpr-brightspot.s3.amazonaws.com%2Fb2%2F5b%2F15435f1041ef866747530bf653ba%2Fgettyimages-1378373059.jpg'}],\n",
            " 'status': 'ok',\n",
            " 'totalResults': 19575}\n"
          ]
        }
      ]
    },
    {
      "metadata": {
        "id": "7110909e"
      },
      "id": "7110909e",
      "cell_type": "markdown",
      "source": [
        "### 2.6 Print just the titles with a loop:"
      ]
    },
    {
      "metadata": {
        "trusted": true,
        "id": "88c8962e",
        "outputId": "4c232606-1b0d-4776-8263-926780857907",
        "colab": {
          "base_uri": "https://localhost:8080/"
        }
      },
      "id": "88c8962e",
      "cell_type": "code",
      "source": [
        "for i in response_json['articles']:\n",
        "    print(i['title'])"
      ],
      "execution_count": 56,
      "outputs": [
        {
          "output_type": "stream",
          "name": "stdout",
          "text": [
            "New York City Mayor Eric Adams has been indicted\n",
            "New York City has a rat problem. Officials have a plan to kick it from the curb\n",
            "Top legal adviser to New York City mayor quits as investigations swell\n",
            "New York City taxpayers aren't footing the bill for Eric Adams' criminal corruption case\n",
            "What it would take to remove embattled New York City Mayor Eric Adams from office\n",
            "Eric Adams is showing up to court for the first time since his historic indictment\n",
            "I went to a food festival that served elevated versions of chain restaurant menu items. Here's everything I ate.\n",
            "The charges against NYC Mayor Eric Adams explained in 60 seconds\n",
            "An iconic gem of New York City's skyline is the latest victim of the office collapse\n",
            "New York City police commissioner resigns, AP Explains\n",
            "New York City Police Commissioner Resigns Amid Federal Investigation\n",
            "See the luxury hotel suite feds say Eric Adams paid only $600 for when the stay was worth $7,000\n",
            "Eric Adams says his lavish, Turkey-funded travels were legal 'gifts,' not bribes\n",
            "As Eric Adams prepares to appear in court, the number of Democrats calling for his resignation keeps growing\n",
            "Eric Adams indictment: All the travel benefits the New York City mayor is alleged by prosecutors to have accepted\n",
            "Eric Adams to appear in court Friday: Here's a timeline of the chaos leading up to his indictment.\n",
            "[Removed]\n",
            "Uber is now asking riders to get verified as a safety measure for drivers\n",
            "Get Your VP Debate Bingo Card Right Here\n",
            "Disney trips meant for homeless NYC students went to school employees' families\n"
          ]
        }
      ]
    },
    {
      "metadata": {
        "id": "fc206486"
      },
      "id": "fc206486",
      "cell_type": "markdown",
      "source": [
        "Congrats on making your first NewsAPI query! Try out some other queries and the different endpoints. You can find the documentation at https://newsapi.org/docs."
      ]
    },
    {
      "metadata": {
        "id": "5f3118f9"
      },
      "id": "5f3118f9",
      "cell_type": "markdown",
      "source": [
        "### 2.7 Visualizing Results in a Word Cloud"
      ]
    },
    {
      "metadata": {
        "id": "419630a6"
      },
      "id": "419630a6",
      "cell_type": "markdown",
      "source": [
        "A word cloud is a visual representation of information or data. It shows the popularity of words or phrases by making the most frequently used words appear larger or bolder compared with the other words around them.\n",
        "\n",
        "To visualize the results of our NewsAPI query, we can create a word cloud using the \"wordcloud\" package for Python. Since the \"wordcloud\" package is not part of the standard Python library, we need to install it first.\n",
        "\n",
        "\n"
      ]
    },
    {
      "metadata": {
        "id": "d9baa625"
      },
      "id": "d9baa625",
      "cell_type": "markdown",
      "source": [
        "We will also use Matplotlib, a comprehensive library for creating static, animated, and interactive visualizations in Python."
      ]
    },
    {
      "metadata": {
        "id": "186df1f6"
      },
      "id": "186df1f6",
      "cell_type": "markdown",
      "source": [
        "### 2.8 Importing the \"wordcloud\" and \"matplotlib\" libraries"
      ]
    },
    {
      "metadata": {
        "trusted": true,
        "id": "f7b34a4b"
      },
      "id": "f7b34a4b",
      "cell_type": "code",
      "source": [
        "from wordcloud import WordCloud\n",
        "import matplotlib.pyplot as plt"
      ],
      "execution_count": 57,
      "outputs": []
    },
    {
      "metadata": {
        "id": "19c736ee"
      },
      "id": "19c736ee",
      "cell_type": "markdown",
      "source": [
        "### 2.9 Combine headlines into one string:"
      ]
    },
    {
      "metadata": {
        "id": "f916d3b7"
      },
      "id": "f916d3b7",
      "cell_type": "markdown",
      "source": [
        "Let's start by creating an empty string"
      ]
    },
    {
      "metadata": {
        "trusted": true,
        "id": "d01215f6"
      },
      "id": "d01215f6",
      "cell_type": "code",
      "source": [
        "text_combined = ''"
      ],
      "execution_count": 58,
      "outputs": []
    },
    {
      "metadata": {
        "id": "6a7dd454"
      },
      "id": "6a7dd454",
      "cell_type": "markdown",
      "source": [
        "Loop through all the headlines and add them to 'text_combined.' We can make sure to add a space after every headline, so the first and last words are not glued together. Finally, let's print the first 300 characters to screen for inspection"
      ]
    },
    {
      "metadata": {
        "trusted": true,
        "id": "738e0fd8",
        "outputId": "1f3dead4-431b-4df7-9d01-88c541a3fead",
        "colab": {
          "base_uri": "https://localhost:8080/"
        }
      },
      "id": "738e0fd8",
      "cell_type": "code",
      "source": [
        "for i in response_json['articles']:\n",
        "    text_combined += i['title'] + ' '\n",
        "print(text_combined[0:300])"
      ],
      "execution_count": 59,
      "outputs": [
        {
          "output_type": "stream",
          "name": "stdout",
          "text": [
            "New York City Mayor Eric Adams has been indicted New York City has a rat problem. Officials have a plan to kick it from the curb Top legal adviser to New York City mayor quits as investigations swell New York City taxpayers aren't footing the bill for Eric Adams' criminal corruption case What it wou\n"
          ]
        }
      ]
    },
    {
      "metadata": {
        "id": "e9515c7f"
      },
      "id": "e9515c7f",
      "cell_type": "markdown",
      "source": [
        "### 2.10 Create a Word Cloud:"
      ]
    },
    {
      "metadata": {
        "scrolled": true,
        "trusted": true,
        "id": "1954f5ce",
        "outputId": "b03a0b15-8d66-43e2-e48b-da85ba368073",
        "colab": {
          "base_uri": "https://localhost:8080/",
          "height": 285
        }
      },
      "id": "1954f5ce",
      "cell_type": "code",
      "source": [
        "wordcloud = WordCloud(max_font_size=40).generate(text_combined)\n",
        "plt.figure()\n",
        "plt.imshow(wordcloud, interpolation=\"bilinear\")\n",
        "plt.axis(\"off\")\n",
        "plt.show()"
      ],
      "execution_count": 60,
      "outputs": [
        {
          "output_type": "display_data",
          "data": {
            "text/plain": [
              "<Figure size 640x480 with 1 Axes>"
            ],
            "image/png": "[encoded data removed]"
          },
          "metadata": {}
        }
      ]
    },
    {
      "cell_type": "code",
      "source": [
        "import nltk"
      ],
      "metadata": {
        "id": "Hry6FIAG33vy"
      },
      "id": "Hry6FIAG33vy",
      "execution_count": 61,
      "outputs": []
    },
    {
      "cell_type": "code",
      "source": [
        "# !pip install --upgrade nltk"
      ],
      "metadata": {
        "id": "1AHe5riQ4EPI"
      },
      "id": "1AHe5riQ4EPI",
      "execution_count": 62,
      "outputs": []
    },
    {
      "cell_type": "code",
      "source": [
        "nltk.__version__"
      ],
      "metadata": {
        "id": "ZSxc_F5Z4BDp",
        "outputId": "70ea523e-615b-4edf-dedd-fc8bd1bd3693",
        "colab": {
          "base_uri": "https://localhost:8080/",
          "height": 35
        }
      },
      "id": "ZSxc_F5Z4BDp",
      "execution_count": 63,
      "outputs": [
        {
          "output_type": "execute_result",
          "data": {
            "text/plain": [
              "'3.9.1'"
            ],
            "application/vnd.google.colaboratory.intrinsic+json": {
              "type": "string"
            }
          },
          "metadata": {},
          "execution_count": 63
        }
      ]
    },
    {
      "cell_type": "code",
      "source": [
        "from nltk.corpus import stopwords\n",
        "\n",
        "# Ensure the stopwords corpus is downloaded\n",
        "nltk.download('stopwords')\n",
        "\n",
        "# Load English stopwords\n",
        "stop_words = set(stopwords.words('english'))\n",
        "\n",
        "# Add custom words to the stopwords set\n",
        "custom_words = ['new', 'york', 'city', 'eric', 'adams', 'nyc' ]  # Add single or multiple words\n",
        "stop_words.update(custom_words)  # Use update() to add multiple words\n",
        "\n",
        "# Now 'example' and 'test' are part of the stopwords list\n",
        "print(stop_words)"
      ],
      "metadata": {
        "id": "R3x-pqnt4RWH",
        "outputId": "e3fce224-d6c5-4373-96ec-de3f067f30e7",
        "colab": {
          "base_uri": "https://localhost:8080/"
        }
      },
      "id": "R3x-pqnt4RWH",
      "execution_count": 64,
      "outputs": [
        {
          "output_type": "stream",
          "name": "stdout",
          "text": [
            "{\"that'll\", \"it's\", 'both', 'have', 'to', 'itself', 'because', 'below', 'ourselves', 'there', 'under', 'eric', 'nyc', 'above', \"needn't\", 'mightn', \"mightn't\", 'shan', 'them', 'off', \"isn't\", 'few', 'out', 'each', 'just', \"doesn't\", 'how', 'whom', 'is', 'm', \"shouldn't\", 'why', 'won', 'before', 'do', 'now', 'new', \"haven't\", 'about', 'ma', 'are', 'again', 'yours', 'theirs', 'were', 'y', 're', 'in', 'mustn', 'of', 'from', 'same', 'has', 'most', 'ours', 'very', 'weren', 'yourself', 'd', 'what', \"shan't\", 'being', 'your', \"wasn't\", \"you'd\", 'on', \"hasn't\", 'here', 'for', 'him', 'wasn', 'can', 'hers', 'was', 'adams', 's', \"didn't\", 'its', 'over', 'after', 'those', 'own', 'during', 'down', 'where', 'through', 'doing', 'will', 'me', 'he', 'and', 'not', 'york', 've', 'had', 'yourselves', 'himself', 'who', 'such', 'don', 'this', 'needn', 'that', \"you'll\", 'by', 'the', 'up', 'll', 'haven', \"weren't\", 'into', 'his', 'an', 'between', 'their', 'only', \"wouldn't\", 'been', 'any', 'until', 'which', 'as', 'they', 'while', 'no', 'my', 'wouldn', 'i', 'all', 'if', 'too', 'o', \"hadn't\", 'isn', 'a', \"she's\", 'be', 'but', 'our', 'nor', 'more', 'myself', 'we', 'couldn', 'so', 't', 'or', 'should', 'other', \"mustn't\", 'it', 'than', 'am', 'does', 'she', 'having', 'further', \"you've\", \"you're\", 'these', 'then', 'aren', 'herself', 'hadn', 'with', 'didn', 'against', 'at', 'did', 'once', \"couldn't\", 'when', \"don't\", 'doesn', 'city', \"should've\", 'some', 'you', 'themselves', 'ain', \"aren't\", 'shouldn', \"won't\", 'her', 'hasn'}\n"
          ]
        },
        {
          "output_type": "stream",
          "name": "stderr",
          "text": [
            "[nltk_data] Downloading package stopwords to /root/nltk_data...\n",
            "[nltk_data]   Package stopwords is already up-to-date!\n"
          ]
        }
      ]
    },
    {
      "cell_type": "code",
      "source": [
        "lowercase_string = ''.join([char.lower() for char in text_combined])"
      ],
      "metadata": {
        "id": "0l3DI8KS4nT8"
      },
      "id": "0l3DI8KS4nT8",
      "execution_count": 65,
      "outputs": []
    },
    {
      "cell_type": "code",
      "source": [
        "lowercase_string"
      ],
      "metadata": {
        "id": "wYab_jfv5GsV",
        "outputId": "c690821b-7b97-4c55-9a88-087d7aacc115",
        "colab": {
          "base_uri": "https://localhost:8080/",
          "height": 143
        }
      },
      "id": "wYab_jfv5GsV",
      "execution_count": 66,
      "outputs": [
        {
          "output_type": "execute_result",
          "data": {
            "text/plain": [
              "\"new york city mayor eric adams has been indicted new york city has a rat problem. officials have a plan to kick it from the curb top legal adviser to new york city mayor quits as investigations swell new york city taxpayers aren't footing the bill for eric adams' criminal corruption case what it would take to remove embattled new york city mayor eric adams from office eric adams is showing up to court for the first time since his historic indictment i went to a food festival that served elevated versions of chain restaurant menu items. here's everything i ate. the charges against nyc mayor eric adams explained in 60 seconds an iconic gem of new york city's skyline is the latest victim of the office collapse new york city police commissioner resigns, ap explains new york city police commissioner resigns amid federal investigation see the luxury hotel suite feds say eric adams paid only $600 for when the stay was worth $7,000 eric adams says his lavish, turkey-funded travels were legal 'gifts,' not bribes as eric adams prepares to appear in court, the number of democrats calling for his resignation keeps growing eric adams indictment: all the travel benefits the new york city mayor is alleged by prosecutors to have accepted eric adams to appear in court friday: here's a timeline of the chaos leading up to his indictment. [removed] uber is now asking riders to get verified as a safety measure for drivers get your vp debate bingo card right here disney trips meant for homeless nyc students went to school employees' families \""
            ],
            "application/vnd.google.colaboratory.intrinsic+json": {
              "type": "string"
            }
          },
          "metadata": {},
          "execution_count": 66
        }
      ]
    },
    {
      "cell_type": "code",
      "source": [
        "no_stops = ' '.join([word for word in lowercase_string.split() if word not in stop_words])"
      ],
      "metadata": {
        "id": "iYAzZF1K5fSy"
      },
      "id": "iYAzZF1K5fSy",
      "execution_count": 67,
      "outputs": []
    },
    {
      "cell_type": "code",
      "source": [
        "no_stops"
      ],
      "metadata": {
        "id": "Hp6pMtV55-8K",
        "outputId": "5c006396-08a2-41ed-8c7d-9f2a440a2506",
        "colab": {
          "base_uri": "https://localhost:8080/",
          "height": 143
        }
      },
      "id": "Hp6pMtV55-8K",
      "execution_count": 68,
      "outputs": [
        {
          "output_type": "execute_result",
          "data": {
            "text/plain": [
              "\"mayor indicted rat problem. officials plan kick curb top legal adviser mayor quits investigations swell taxpayers footing bill adams' criminal corruption case would take remove embattled mayor office showing court first time since historic indictment went food festival served elevated versions chain restaurant menu items. here's everything ate. charges mayor explained 60 seconds iconic gem city's skyline latest victim office collapse police commissioner resigns, ap explains police commissioner resigns amid federal investigation see luxury hotel suite feds say paid $600 stay worth $7,000 says lavish, turkey-funded travels legal 'gifts,' bribes prepares appear court, number democrats calling resignation keeps growing indictment: travel benefits mayor alleged prosecutors accepted appear court friday: here's timeline chaos leading indictment. [removed] uber asking riders get verified safety measure drivers get vp debate bingo card right disney trips meant homeless students went school employees' families\""
            ],
            "application/vnd.google.colaboratory.intrinsic+json": {
              "type": "string"
            }
          },
          "metadata": {},
          "execution_count": 68
        }
      ]
    },
    {
      "cell_type": "code",
      "source": [
        "wordcloud = WordCloud(max_font_size=40).generate(no_stops)\n",
        "plt.figure()\n",
        "plt.imshow(wordcloud, interpolation=\"bilinear\")\n",
        "plt.axis(\"off\")\n",
        "plt.show()"
      ],
      "metadata": {
        "id": "7XBKPwZC6FhY",
        "outputId": "33230eee-fc9e-4741-92f5-119f95c1c1a3",
        "colab": {
          "base_uri": "https://localhost:8080/",
          "height": 285
        }
      },
      "id": "7XBKPwZC6FhY",
      "execution_count": 69,
      "outputs": [
        {
          "output_type": "display_data",
          "data": {
            "text/plain": [
              "<Figure size 640x480 with 1 Axes>"
            ],
            "image/png": "[encoded data removed]"
          },
          "metadata": {}
        }
      ]
    },
    {
      "metadata": {
        "id": "9bff51e0"
      },
      "id": "9bff51e0",
      "cell_type": "markdown",
      "source": [
        "### 2.11 Converting JSON data into a Pandas Dataframe"
      ]
    },
    {
      "metadata": {
        "id": "40d4dcdd"
      },
      "id": "40d4dcdd",
      "cell_type": "markdown",
      "source": [
        "As noted in section 1.6, it may be easier to work with the API data if it were stored in tabular format (i.e., a spreadsheet). We can use the Pandas Python library for data analysis and manipulation (https://pandas.pydata.org) to wrangle the JSON formatted data into a dataframe.\n",
        "\n",
        "Let's follow the same steps as section 1.6:"
      ]
    },
    {
      "metadata": {
        "trusted": true,
        "id": "65a2f06c"
      },
      "id": "65a2f06c",
      "cell_type": "code",
      "source": [
        "import pandas as pd"
      ],
      "execution_count": 33,
      "outputs": []
    },
    {
      "metadata": {
        "trusted": true,
        "id": "8b08e0e3",
        "outputId": "0dd808cb-44e7-40e0-f66d-eff33e26554b",
        "colab": {
          "base_uri": "https://localhost:8080/"
        }
      },
      "id": "8b08e0e3",
      "cell_type": "code",
      "source": [
        "response_json.keys()"
      ],
      "execution_count": 34,
      "outputs": [
        {
          "output_type": "execute_result",
          "data": {
            "text/plain": [
              "dict_keys(['status', 'totalResults', 'articles'])"
            ]
          },
          "metadata": {},
          "execution_count": 34
        }
      ]
    },
    {
      "metadata": {
        "trusted": true,
        "id": "317d1a00",
        "outputId": "98c4774c-fdd1-4803-98e5-f6c4f307bec7",
        "colab": {
          "base_uri": "https://localhost:8080/",
          "height": 35
        }
      },
      "id": "317d1a00",
      "cell_type": "code",
      "source": [
        "response_json['status']"
      ],
      "execution_count": 35,
      "outputs": [
        {
          "output_type": "execute_result",
          "data": {
            "text/plain": [
              "'ok'"
            ],
            "application/vnd.google.colaboratory.intrinsic+json": {
              "type": "string"
            }
          },
          "metadata": {},
          "execution_count": 35
        }
      ]
    },
    {
      "metadata": {
        "trusted": true,
        "id": "2c79bf31",
        "outputId": "b3ee73a1-d98d-4870-fc9c-41910cf4f036",
        "colab": {
          "base_uri": "https://localhost:8080/"
        }
      },
      "id": "2c79bf31",
      "cell_type": "code",
      "source": [
        "response_json['totalResults']"
      ],
      "execution_count": 36,
      "outputs": [
        {
          "output_type": "execute_result",
          "data": {
            "text/plain": [
              "19572"
            ]
          },
          "metadata": {},
          "execution_count": 36
        }
      ]
    },
    {
      "metadata": {
        "trusted": true,
        "id": "64b78314",
        "outputId": "5d4ab464-1af1-45a2-fdce-c214388c8755",
        "colab": {
          "base_uri": "https://localhost:8080/"
        }
      },
      "id": "64b78314",
      "cell_type": "code",
      "source": [
        "response_json['articles']"
      ],
      "execution_count": 37,
      "outputs": [
        {
          "output_type": "execute_result",
          "data": {
            "text/plain": [
              "[{'source': {'id': 'business-insider', 'name': 'Business Insider'},\n",
              "  'author': 'Aditi Bharade',\n",
              "  'title': 'New York City Mayor Eric Adams has been indicted',\n",
              "  'description': 'The mayor has been the center of a federal investigation into donations to his 2021 campaign.',\n",
              "  'url': 'https://www.businessinsider.com/nyc-mayor-eric-adams-indicted-2024-9',\n",
              "  'urlToImage': 'https://i.insider.com/66f4b713de59ade1a3b4abfe?width=1200&format=jpeg',\n",
              "  'publishedAt': '2024-09-26T01:25:41Z',\n",
              "  'content': 'New York City Mayor Eric Adams.Andrew Lichtenstein/Getty Images\\r\\n<ul><li>Eric Adams has been indicted, The New York Times first reported on Wednesday.</li><li>The mayor has been the center of an inve… [+643 chars]'},\n",
              " {'source': {'id': None, 'name': 'NPR'},\n",
              "  'author': 'Jeongyoon Han',\n",
              "  'title': 'New York City has a rat problem. Officials have a plan to kick it from the curb',\n",
              "  'description': 'New York City has a well known rat problem. And the city is trying to tackle it — with trash cans and by changing human behavior.',\n",
              "  'url': 'https://www.npr.org/2024/09/24/nx-s1-5115893/rats-nyc-trash-czar',\n",
              "  'urlToImage': 'https://npr.brightspotcdn.com/dims3/default/strip/false/crop/8842x4974+0+454/resize/1400/quality/100/format/jpeg/?url=http%3A%2F%2Fnpr-brightspot.s3.amazonaws.com%2F48%2F93%2F9d3fed014720a9edda984f16825b%2F20240807-hammar-ratsandtrash-8.jpg',\n",
              "  'publishedAt': '2024-09-24T10:01:00Z',\n",
              "  'content': 'It was two years ago. Morningside Heights resident Carl Mahaney was walking with his kid to the first day of school, when they came across heaps of trash bags lying on a sidewalk.\\r\\nThe rats would com… [+6384 chars]'},\n",
              " {'source': {'id': None, 'name': 'NPR'},\n",
              "  'author': 'The Associated Press',\n",
              "  'title': 'Top legal adviser to New York City mayor quits as investigations swell',\n",
              "  'description': \"The top legal adviser to New York City Mayor Eric Adams resigned over the weekend, the latest sign of instability in the Democrat's administration as it deals with multiple federal investigations.\",\n",
              "  'url': 'https://www.npr.org/2024/09/15/g-s1-23108/top-legal-adviser-to-new-york-city-mayor-quits-as-investigations-swell',\n",
              "  'urlToImage': 'https://npr.brightspotcdn.com/dims3/default/strip/false/crop/6000x3375+0+313/resize/1400/quality/100/format/jpeg/?url=http%3A%2F%2Fnpr-brightspot.s3.amazonaws.com%2F10%2F12%2F582c7c304b3b8ea734a15e9c8e89%2Fap24259452564171.jpg',\n",
              "  'publishedAt': '2024-09-15T17:38:24Z',\n",
              "  'content': \"NEW YORK The top legal adviser to New York City Mayor Eric Adams resigned abruptly over the weekend, the latest sign of instability in the Democrat's administration as it deals with multiple federal … [+2216 chars]\"},\n",
              " {'source': {'id': 'business-insider', 'name': 'Business Insider'},\n",
              "  'author': 'Jacob Shamsian',\n",
              "  'title': \"New York City taxpayers aren't footing the bill for Eric Adams' criminal corruption case\",\n",
              "  'description': 'Defense lawyer Alex Spiro, who is representing the New York City mayor, charges over $2,000 per hour and represented Elon Musk.',\n",
              "  'url': 'https://www.businessinsider.com/eric-adams-legal-bill-nyc-taxpayers-alex-spiro-criminal-defense-2024-9',\n",
              "  'urlToImage': 'https://i.insider.com/66f7193875c877a99b617dd2?width=1200&format=jpeg',\n",
              "  'publishedAt': '2024-09-27T20:55:52Z',\n",
              "  'content': 'Mayor Eric Adams leaves Manhattan Federal Court with his lawyer Alex Spiro after pleading not guilty on multiple corruption charges.Barry Williams for New York Daily News via Getty Images\\r\\n<ul><li>Er… [+1916 chars]'},\n",
              " {'source': {'id': 'business-insider', 'name': 'Business Insider'},\n",
              "  'author': 'Alice Tecotzky,Lloyd Lee',\n",
              "  'title': 'What it would take to remove embattled New York City Mayor Eric Adams from office',\n",
              "  'description': \"NYC law outlines two ways Mayor Eric Adams could be removed from office if he doesn't resign: A removal by Gov. Kathy Hochul or by a committee.\",\n",
              "  'url': 'https://www.businessinsider.com/eric-adams-indictment-how-mayor-would-be-removed-from-office-2024-9',\n",
              "  'urlToImage': 'https://i.insider.com/66f60674de59ade1a3b52386?width=1200&format=jpeg',\n",
              "  'publishedAt': '2024-09-27T01:38:36Z',\n",
              "  'content': 'New York City Mayor Eric Adams was indicted on five counts. He has denied wrongdoing.AP Photo/Seth Wenig\\r\\n<ul><li>NYC Mayor Eric Adams insisted that he will remain in office despite his indictment.</… [+3534 chars]'},\n",
              " {'source': {'id': 'business-insider', 'name': 'Business Insider'},\n",
              "  'author': 'Jacob Shamsian',\n",
              "  'title': 'Eric Adams is showing up to court for the first time since his historic indictment',\n",
              "  'description': 'The indicted New York City mayor is being arraigned in the same courtroom as Sean \"Diddy\" Combs last week.',\n",
              "  'url': 'https://www.businessinsider.com/eric-adams-court-appearance-criminal-case-indictment-2024-9',\n",
              "  'urlToImage': 'https://i.insider.com/66f6b759f9f6733e4be035fa?width=1200&format=jpeg',\n",
              "  'publishedAt': '2024-09-27T14:00:04Z',\n",
              "  'content': 'New York City Mayor Eric Adams arrives for his arraignment outside Manhattan Federal Court on Friday, Sept. 27, 2024 in Manhattan, New York.Barry Williams for New York Daily News via Getty Images\\r\\n<u… [+1859 chars]'},\n",
              " {'source': {'id': 'business-insider', 'name': 'Business Insider'},\n",
              "  'author': 'Erin McDowell',\n",
              "  'title': \"I went to a food festival that served elevated versions of chain restaurant menu items. Here's everything I ate.\",\n",
              "  'description': 'I attended the first ChainFest in New York City. I tried a new KFC menu item and some reimagined chain-restaurant classics.',\n",
              "  'url': 'https://www.businessinsider.com/review-best-menu-items-chainfest-new-york-city-ranked-2024-9',\n",
              "  'urlToImage': 'https://i.insider.com/66f46583de59ade1a3b49ce8?width=1200&format=jpeg',\n",
              "  'publishedAt': '2024-09-26T19:40:53Z',\n",
              "  'content': 'I attended the first-ever ChainFest in New York City and ranked everything I ate.Erin McDowell/Business Insider\\r\\n<ul><li>I attended the first-ever ChainFest in New York City and ranked everything I a… [+9914 chars]'},\n",
              " {'source': {'id': 'business-insider', 'name': 'Business Insider'},\n",
              "  'author': 'Natalie Musumeci',\n",
              "  'title': 'The charges against NYC Mayor Eric Adams explained in 60 seconds',\n",
              "  'description': 'New York City Mayor Eric Adams has been charged with five criminal counts as part of a federal corruption probe.',\n",
              "  'url': 'https://www.businessinsider.com/new-york-city-mayor-eric-adams-charges-indicted-2024-9',\n",
              "  'urlToImage': 'https://i.insider.com/66f5883fde59ade1a3b4d4f5?width=1200&format=jpeg',\n",
              "  'publishedAt': '2024-09-26T16:35:38Z',\n",
              "  'content': 'New York City Mayor Eric Adams has been charged with five criminal counts. AP/Seth Wenig\\r\\n<ul><li>A grand jury has indicted New York City Mayor Eric Adams on 5 criminal counts in a corruption probe.<… [+2087 chars]'},\n",
              " {'source': {'id': 'business-insider', 'name': 'Business Insider'},\n",
              "  'author': 'Katie Balevic',\n",
              "  'title': \"An iconic gem of New York City's skyline is the latest victim of the office collapse\",\n",
              "  'description': \"The Chrysler Building may become the latest high-profile victim of the commercial real estate collapse that's plagued the city, and nation, since the pandemic.\",\n",
              "  'url': 'https://www.businessinsider.com/chrysler-building-new-york-skyline-office-commercial-real-estate-collapse-2024-10',\n",
              "  'urlToImage': 'https://i.insider.com/66feca545ccfc192a552fdb3?width=1200&format=jpeg',\n",
              "  'publishedAt': '2024-10-03T18:10:46Z',\n",
              "  'content': 'The Chrysler Building.Roy Rochlin/Getty Images\\r\\n<ul><li>The Chrysler Building, a renowned gem of NYC, is the latest victim of the office apocalypse.</li><li>Cooper Union, the property owner, told the… [+2470 chars]'},\n",
              " {'source': {'id': None, 'name': 'Yahoo Entertainment'},\n",
              "  'author': None,\n",
              "  'title': 'New York City police commissioner resigns, AP Explains',\n",
              "  'description': None,\n",
              "  'url': 'https://consent.yahoo.com/v2/collectConsent?sessionId=1_cc-session_0cf19eda-e9cc-4427-9275-84838611ae7b',\n",
              "  'urlToImage': None,\n",
              "  'publishedAt': '2024-09-12T19:44:40Z',\n",
              "  'content': \"If you click 'Accept all', we and our partners, including 239 who are part of the IAB Transparency &amp; Consent Framework, will also store and/or access information on a device (in other words, use … [+678 chars]\"},\n",
              " {'source': {'id': 'time', 'name': 'Time'},\n",
              "  'author': 'JAKE OFFENHARTZ and MICHAEL R. SISAK / AP',\n",
              "  'title': 'New York City Police Commissioner Resigns Amid Federal Investigation',\n",
              "  'description': 'New York City Police Commissioner Edward Caban resigned Thursday, one week after it emerged that\\xa0his phone was seized\\xa0as part of\\xa0a federal investigation\\xa0that touched several members of Mayor Eric Adams’ inner circle.',\n",
              "  'url': 'https://time.com/7020941/new-york-city-police-commissioner-resigns/',\n",
              "  'urlToImage': 'https://api.time.com/wp-content/uploads/2024/09/resign.jpg?quality=85&w=1024&h=628&crop=1',\n",
              "  'publishedAt': '2024-09-12T19:45:42Z',\n",
              "  'content': 'NEW YORK New York City Police Commissioner Edward Caban resigned Thursday, one week after it emerged that his phone was seized as part of a federal investigation that touched several members of Mayor… [+5740 chars]'},\n",
              " {'source': {'id': 'business-insider', 'name': 'Business Insider'},\n",
              "  'author': 'Laura Italiano,Jacob Shamsian',\n",
              "  'title': \"Eric Adams says his lavish, Turkey-funded travels were legal 'gifts,' not bribes\",\n",
              "  'description': \"In a motion to dismiss filed Monday, the New York City mayor minimizes the lavish travel accommodations he's accused of taking as bribes.\",\n",
              "  'url': 'https://www.businessinsider.com/eric-adams-dismiss-turkish-travels-were-gifts-not-bribes-2024-9',\n",
              "  'urlToImage': 'https://i.insider.com/66fa9f4d75c877a99b61a5f0?width=1200&format=jpeg',\n",
              "  'publishedAt': '2024-09-30T13:12:10Z',\n",
              "  'content': 'New York City Mayor Eric Adams was indicted on five counts. He has denied wrongdoing.AP Photo/Seth Wenig\\r\\n<ul><li>In a court filing Monday, Eric Adams argues his bribery charge should be dismissed.</… [+2989 chars]'},\n",
              " {'source': {'id': 'business-insider', 'name': 'Business Insider'},\n",
              "  'author': 'Dennis Green,Alcynna Lloyd,Maria Noyen',\n",
              "  'title': 'See the luxury hotel suite feds say Eric Adams paid only $600 for when the stay was worth $7,000',\n",
              "  'description': 'Prosecutors said that New York City Mayor Eric Adams spent two nights at the St. Regis hotel in Istanbul in the summer of 2017. Take a look inside.',\n",
              "  'url': 'https://www.businessinsider.com/bentley-and-st-regis-suite-in-istanbul-2015-4',\n",
              "  'urlToImage': 'https://i.insider.com/5528386feab8ea4a0cfe8722?width=1200&format=jpeg',\n",
              "  'publishedAt': '2024-09-26T22:09:00Z',\n",
              "  'content': 'Prosecutors said Eric Adams stayed in the Bentley suite at the St. Regis in Istanbul paying a heavily discounted rate.St. Regis and Bentley\\r\\n<ul>\\n<li>Eric Adams spent two nights at the St. Regis Ista… [+3780 chars]'},\n",
              " {'source': {'id': 'business-insider', 'name': 'Business Insider'},\n",
              "  'author': 'Mikhaila Friel',\n",
              "  'title': 'As Eric Adams prepares to appear in court, the number of Democrats calling for his resignation keeps growing',\n",
              "  'description': 'New York City Mayor Eric Adams faces five criminal counts related to a federal corruption investigation, prompting calls for his resignation.',\n",
              "  'url': 'https://www.businessinsider.com/nyc-mayor-eric-adams-growing-calls-for-resignation-2024-9',\n",
              "  'urlToImage': 'https://i.insider.com/66f67951de59ade1a3b52a9f?width=1200&format=jpeg',\n",
              "  'publishedAt': '2024-09-27T11:19:46Z',\n",
              "  'content': \"Eric Adams is the first of New York City's mayors to be charged while in office.AP/Seth Wenig\\r\\n<ul><li>New York City Mayor Eric Adams is set to appear in court over bribery and wire fraud charges.</l… [+3310 chars]\"},\n",
              " {'source': {'id': 'business-insider', 'name': 'Business Insider'},\n",
              "  'author': 'Erin Snodgrass',\n",
              "  'title': 'Eric Adams indictment: All the travel benefits the New York City mayor is alleged by prosecutors to have accepted',\n",
              "  'description': 'New York City Mayor Eric Adams faces five counts connected to a corruption probe. Prosecutors say Adams accepted travel from foreign businesspeople.',\n",
              "  'url': 'https://www.businessinsider.com/travel-new-york-mayor-eric-adam-alleged-accepted-court-documents-2024-9',\n",
              "  'urlToImage': 'https://i.insider.com/66f5ff2075c877a99b611ca0?width=1200&format=jpeg',\n",
              "  'publishedAt': '2024-09-27T02:06:17Z',\n",
              "  'content': 'Eric Adams faces five criminal counts in connection with a federal corruption investigation.Stephanie Keith\\r\\n<ul><li>Prosecutors allege New York City Mayor Eric Adams solicited travel from foreign bu… [+4585 chars]'},\n",
              " {'source': {'id': 'business-insider', 'name': 'Business Insider'},\n",
              "  'author': 'Natalie Musumeci',\n",
              "  'title': \"Eric Adams to appear in court Friday: Here's a timeline of the chaos leading up to his indictment.\",\n",
              "  'description': \"New York City Mayor Eric Adams' administration has been embroiled in turmoil for months. That chaos exploded into a crisis after his indictment.\",\n",
              "  'url': 'https://www.businessinsider.com/new-york-city-mayor-eric-adams-indictment-timeline-corruption-investigation-2024-9',\n",
              "  'urlToImage': 'https://i.insider.com/66f5a39fde59ade1a3b5051d?width=1200&format=jpeg',\n",
              "  'publishedAt': '2024-09-26T21:07:09Z',\n",
              "  'content': \"New York City Mayor Eric Adams' administration was in turmoil before he was indicted.New York Daily News/Getty Images\\r\\n<ul><li>New York City Mayor Eric Adams was indicted by federal grand jury amid a… [+7263 chars]\"},\n",
              " {'source': {'id': None, 'name': '[Removed]'},\n",
              "  'author': None,\n",
              "  'title': '[Removed]',\n",
              "  'description': '[Removed]',\n",
              "  'url': 'https://removed.com',\n",
              "  'urlToImage': None,\n",
              "  'publishedAt': '2024-09-18T11:15:37Z',\n",
              "  'content': '[Removed]'},\n",
              " {'source': {'id': 'the-verge', 'name': 'The Verge'},\n",
              "  'author': 'Andrew J. Hawkins',\n",
              "  'title': 'Uber is now asking riders to get verified as a safety measure for drivers',\n",
              "  'description': 'Uber riders are now being asked to verify their accounts to better protect drivers from potential fraud. New verified badges will show up on their accounts.',\n",
              "  'url': 'https://www.theverge.com/2024/9/17/24246397/uber-rider-verification-fraud-driver-safety',\n",
              "  'urlToImage': 'https://cdn.vox-cdn.com/thumbor/gXmoCdNB7J7kZGK5_9jPo3xy3Y4=/0x0:2040x1360/1200x628/filters:focal(1020x680:1021x681)/cdn.vox-cdn.com/uploads/chorus_asset/file/23932656/acastro_STK106__02.jpg',\n",
              "  'publishedAt': '2024-09-17T14:30:00Z',\n",
              "  'content': 'Uber is now asking riders to get verified as a safety measure for drivers\\r\\nUber is now asking riders to get verified as a safety measure for drivers\\r\\n / Riders can opt to have their personal informat… [+3345 chars]'},\n",
              " {'source': {'id': 'wired', 'name': 'Wired'},\n",
              "  'author': 'Makena Kelly',\n",
              "  'title': 'Get Your VP Debate Bingo Card Right Here',\n",
              "  'description': \"Vice presidential nominees J.D. Vance and Tim Walz are debating tonight. Let's follow along together!\",\n",
              "  'url': 'https://www.wired.com/story/bingo-how-to-watch-vp-walz-vance-debate/',\n",
              "  'urlToImage': 'https://media.wired.com/photos/66f70c288af4eb900c2450f5/191:100/w_1280,c_limit/vp-debate-498125917.jpg',\n",
              "  'publishedAt': '2024-10-01T10:00:00Z',\n",
              "  'content': 'On Tuesday night, vice presidential nominees J.D. Vance and Tim Walz will debate one another for the first and only time ahead of the November presidential election.\\r\\nBefore becoming an Ohio senator,… [+1908 chars]'},\n",
              " {'source': {'id': None, 'name': 'NPR'},\n",
              "  'author': 'C Mandler',\n",
              "  'title': \"Disney trips meant for homeless NYC students went to school employees' families\",\n",
              "  'description': \"Disney trips that were meant for homeless students in New York City public schools were used by school employees' families instead, according to a report released by the district earlier this month.\",\n",
              "  'url': 'https://www.npr.org/2024/09/17/g-s1-23420/disney-homeless-students-fraud',\n",
              "  'urlToImage': 'https://npr.brightspotcdn.com/dims3/default/strip/false/crop/3984x2241+0+208/resize/1400/quality/100/format/jpeg/?url=http%3A%2F%2Fnpr-brightspot.s3.amazonaws.com%2Fb2%2F5b%2F15435f1041ef866747530bf653ba%2Fgettyimages-1378373059.jpg',\n",
              "  'publishedAt': '2024-09-17T17:13:12Z',\n",
              "  'content': \"Disney trips that were meant for homeless students in New York City public schools were used by school system employees' families instead, according to a report released earlier this month by the dis… [+1776 chars]\"}]"
            ]
          },
          "metadata": {},
          "execution_count": 37
        }
      ]
    },
    {
      "metadata": {
        "trusted": true,
        "id": "0be4d9d0",
        "outputId": "d8126c7a-41b9-4771-9358-91e64b2dadac",
        "colab": {
          "base_uri": "https://localhost:8080/"
        }
      },
      "id": "0be4d9d0",
      "cell_type": "code",
      "source": [
        "type(response_json['status'])"
      ],
      "execution_count": 38,
      "outputs": [
        {
          "output_type": "execute_result",
          "data": {
            "text/plain": [
              "str"
            ]
          },
          "metadata": {},
          "execution_count": 38
        }
      ]
    },
    {
      "metadata": {
        "trusted": true,
        "id": "01b63d7a",
        "outputId": "f9af56c2-ba2a-4531-c01f-19c1086d9bff",
        "colab": {
          "base_uri": "https://localhost:8080/"
        }
      },
      "id": "01b63d7a",
      "cell_type": "code",
      "source": [
        "type(response_json['totalResults'])"
      ],
      "execution_count": 39,
      "outputs": [
        {
          "output_type": "execute_result",
          "data": {
            "text/plain": [
              "int"
            ]
          },
          "metadata": {},
          "execution_count": 39
        }
      ]
    },
    {
      "metadata": {
        "trusted": true,
        "id": "857436b4",
        "outputId": "545112cf-5d8e-4ed1-bc1b-8b4c31165995",
        "colab": {
          "base_uri": "https://localhost:8080/"
        }
      },
      "id": "857436b4",
      "cell_type": "code",
      "source": [
        "type(response_json['articles'])"
      ],
      "execution_count": 40,
      "outputs": [
        {
          "output_type": "execute_result",
          "data": {
            "text/plain": [
              "list"
            ]
          },
          "metadata": {},
          "execution_count": 40
        }
      ]
    },
    {
      "metadata": {
        "trusted": true,
        "id": "25b6eabe",
        "outputId": "356b4d9f-1121-404a-fe82-4797ded757c4",
        "colab": {
          "base_uri": "https://localhost:8080/"
        }
      },
      "id": "25b6eabe",
      "cell_type": "code",
      "source": [
        "type(response_json['articles'][0])"
      ],
      "execution_count": 41,
      "outputs": [
        {
          "output_type": "execute_result",
          "data": {
            "text/plain": [
              "dict"
            ]
          },
          "metadata": {},
          "execution_count": 41
        }
      ]
    },
    {
      "metadata": {
        "trusted": true,
        "id": "eae56ce9"
      },
      "id": "eae56ce9",
      "cell_type": "code",
      "source": [
        "df = pd.DataFrame(response_json['articles'])"
      ],
      "execution_count": 42,
      "outputs": []
    },
    {
      "metadata": {
        "scrolled": false,
        "trusted": true,
        "id": "3a75fe3e",
        "outputId": "406f1aa2-9896-46ac-ced9-126e6eaa7e80",
        "colab": {
          "base_uri": "https://localhost:8080/",
          "height": 1000
        }
      },
      "id": "3a75fe3e",
      "cell_type": "code",
      "source": [
        "df"
      ],
      "execution_count": 43,
      "outputs": [
        {
          "output_type": "execute_result",
          "data": {
            "text/plain": [
              "                                               source  \\\n",
              "0   {'id': 'business-insider', 'name': 'Business I...   \n",
              "1                         {'id': None, 'name': 'NPR'}   \n",
              "2                         {'id': None, 'name': 'NPR'}   \n",
              "3   {'id': 'business-insider', 'name': 'Business I...   \n",
              "4   {'id': 'business-insider', 'name': 'Business I...   \n",
              "5   {'id': 'business-insider', 'name': 'Business I...   \n",
              "6   {'id': 'business-insider', 'name': 'Business I...   \n",
              "7   {'id': 'business-insider', 'name': 'Business I...   \n",
              "8   {'id': 'business-insider', 'name': 'Business I...   \n",
              "9         {'id': None, 'name': 'Yahoo Entertainment'}   \n",
              "10                     {'id': 'time', 'name': 'Time'}   \n",
              "11  {'id': 'business-insider', 'name': 'Business I...   \n",
              "12  {'id': 'business-insider', 'name': 'Business I...   \n",
              "13  {'id': 'business-insider', 'name': 'Business I...   \n",
              "14  {'id': 'business-insider', 'name': 'Business I...   \n",
              "15  {'id': 'business-insider', 'name': 'Business I...   \n",
              "16                  {'id': None, 'name': '[Removed]'}   \n",
              "17           {'id': 'the-verge', 'name': 'The Verge'}   \n",
              "18                   {'id': 'wired', 'name': 'Wired'}   \n",
              "19                        {'id': None, 'name': 'NPR'}   \n",
              "\n",
              "                                       author  \\\n",
              "0                               Aditi Bharade   \n",
              "1                               Jeongyoon Han   \n",
              "2                        The Associated Press   \n",
              "3                              Jacob Shamsian   \n",
              "4                    Alice Tecotzky,Lloyd Lee   \n",
              "5                              Jacob Shamsian   \n",
              "6                               Erin McDowell   \n",
              "7                            Natalie Musumeci   \n",
              "8                               Katie Balevic   \n",
              "9                                        None   \n",
              "10  JAKE OFFENHARTZ and MICHAEL R. SISAK / AP   \n",
              "11              Laura Italiano,Jacob Shamsian   \n",
              "12     Dennis Green,Alcynna Lloyd,Maria Noyen   \n",
              "13                             Mikhaila Friel   \n",
              "14                             Erin Snodgrass   \n",
              "15                           Natalie Musumeci   \n",
              "16                                       None   \n",
              "17                          Andrew J. Hawkins   \n",
              "18                               Makena Kelly   \n",
              "19                                  C Mandler   \n",
              "\n",
              "                                                title  \\\n",
              "0    New York City Mayor Eric Adams has been indicted   \n",
              "1   New York City has a rat problem. Officials hav...   \n",
              "2   Top legal adviser to New York City mayor quits...   \n",
              "3   New York City taxpayers aren't footing the bil...   \n",
              "4   What it would take to remove embattled New Yor...   \n",
              "5   Eric Adams is showing up to court for the firs...   \n",
              "6   I went to a food festival that served elevated...   \n",
              "7   The charges against NYC Mayor Eric Adams expla...   \n",
              "8   An iconic gem of New York City's skyline is th...   \n",
              "9   New York City police commissioner resigns, AP ...   \n",
              "10  New York City Police Commissioner Resigns Amid...   \n",
              "11  Eric Adams says his lavish, Turkey-funded trav...   \n",
              "12  See the luxury hotel suite feds say Eric Adams...   \n",
              "13  As Eric Adams prepares to appear in court, the...   \n",
              "14  Eric Adams indictment: All the travel benefits...   \n",
              "15  Eric Adams to appear in court Friday: Here's a...   \n",
              "16                                          [Removed]   \n",
              "17  Uber is now asking riders to get verified as a...   \n",
              "18           Get Your VP Debate Bingo Card Right Here   \n",
              "19  Disney trips meant for homeless NYC students w...   \n",
              "\n",
              "                                          description  \\\n",
              "0   The mayor has been the center of a federal inv...   \n",
              "1   New York City has a well known rat problem. An...   \n",
              "2   The top legal adviser to New York City Mayor E...   \n",
              "3   Defense lawyer Alex Spiro, who is representing...   \n",
              "4   NYC law outlines two ways Mayor Eric Adams cou...   \n",
              "5   The indicted New York City mayor is being arra...   \n",
              "6   I attended the first ChainFest in New York Cit...   \n",
              "7   New York City Mayor Eric Adams has been charge...   \n",
              "8   The Chrysler Building may become the latest hi...   \n",
              "9                                                None   \n",
              "10  New York City Police Commissioner Edward Caban...   \n",
              "11  In a motion to dismiss filed Monday, the New Y...   \n",
              "12  Prosecutors said that New York City Mayor Eric...   \n",
              "13  New York City Mayor Eric Adams faces five crim...   \n",
              "14  New York City Mayor Eric Adams faces five coun...   \n",
              "15  New York City Mayor Eric Adams' administration...   \n",
              "16                                          [Removed]   \n",
              "17  Uber riders are now being asked to verify thei...   \n",
              "18  Vice presidential nominees J.D. Vance and Tim ...   \n",
              "19  Disney trips that were meant for homeless stud...   \n",
              "\n",
              "                                                  url  \\\n",
              "0   https://www.businessinsider.com/nyc-mayor-eric...   \n",
              "1   https://www.npr.org/2024/09/24/nx-s1-5115893/r...   \n",
              "2   https://www.npr.org/2024/09/15/g-s1-23108/top-...   \n",
              "3   https://www.businessinsider.com/eric-adams-leg...   \n",
              "4   https://www.businessinsider.com/eric-adams-ind...   \n",
              "5   https://www.businessinsider.com/eric-adams-cou...   \n",
              "6   https://www.businessinsider.com/review-best-me...   \n",
              "7   https://www.businessinsider.com/new-york-city-...   \n",
              "8   https://www.businessinsider.com/chrysler-build...   \n",
              "9   https://consent.yahoo.com/v2/collectConsent?se...   \n",
              "10  https://time.com/7020941/new-york-city-police-...   \n",
              "11  https://www.businessinsider.com/eric-adams-dis...   \n",
              "12  https://www.businessinsider.com/bentley-and-st...   \n",
              "13  https://www.businessinsider.com/nyc-mayor-eric...   \n",
              "14  https://www.businessinsider.com/travel-new-yor...   \n",
              "15  https://www.businessinsider.com/new-york-city-...   \n",
              "16                                https://removed.com   \n",
              "17  https://www.theverge.com/2024/9/17/24246397/ub...   \n",
              "18  https://www.wired.com/story/bingo-how-to-watch...   \n",
              "19  https://www.npr.org/2024/09/17/g-s1-23420/disn...   \n",
              "\n",
              "                                           urlToImage           publishedAt  \\\n",
              "0   https://i.insider.com/66f4b713de59ade1a3b4abfe...  2024-09-26T01:25:41Z   \n",
              "1   https://npr.brightspotcdn.com/dims3/default/st...  2024-09-24T10:01:00Z   \n",
              "2   https://npr.brightspotcdn.com/dims3/default/st...  2024-09-15T17:38:24Z   \n",
              "3   https://i.insider.com/66f7193875c877a99b617dd2...  2024-09-27T20:55:52Z   \n",
              "4   https://i.insider.com/66f60674de59ade1a3b52386...  2024-09-27T01:38:36Z   \n",
              "5   https://i.insider.com/66f6b759f9f6733e4be035fa...  2024-09-27T14:00:04Z   \n",
              "6   https://i.insider.com/66f46583de59ade1a3b49ce8...  2024-09-26T19:40:53Z   \n",
              "7   https://i.insider.com/66f5883fde59ade1a3b4d4f5...  2024-09-26T16:35:38Z   \n",
              "8   https://i.insider.com/66feca545ccfc192a552fdb3...  2024-10-03T18:10:46Z   \n",
              "9                                                None  2024-09-12T19:44:40Z   \n",
              "10  https://api.time.com/wp-content/uploads/2024/0...  2024-09-12T19:45:42Z   \n",
              "11  https://i.insider.com/66fa9f4d75c877a99b61a5f0...  2024-09-30T13:12:10Z   \n",
              "12  https://i.insider.com/5528386feab8ea4a0cfe8722...  2024-09-26T22:09:00Z   \n",
              "13  https://i.insider.com/66f67951de59ade1a3b52a9f...  2024-09-27T11:19:46Z   \n",
              "14  https://i.insider.com/66f5ff2075c877a99b611ca0...  2024-09-27T02:06:17Z   \n",
              "15  https://i.insider.com/66f5a39fde59ade1a3b5051d...  2024-09-26T21:07:09Z   \n",
              "16                                               None  2024-09-18T11:15:37Z   \n",
              "17  https://cdn.vox-cdn.com/thumbor/gXmoCdNB7J7kZG...  2024-09-17T14:30:00Z   \n",
              "18  https://media.wired.com/photos/66f70c288af4eb9...  2024-10-01T10:00:00Z   \n",
              "19  https://npr.brightspotcdn.com/dims3/default/st...  2024-09-17T17:13:12Z   \n",
              "\n",
              "                                              content  \n",
              "0   New York City Mayor Eric Adams.Andrew Lichtens...  \n",
              "1   It was two years ago. Morningside Heights resi...  \n",
              "2   NEW YORK The top legal adviser to New York Cit...  \n",
              "3   Mayor Eric Adams leaves Manhattan Federal Cour...  \n",
              "4   New York City Mayor Eric Adams was indicted on...  \n",
              "5   New York City Mayor Eric Adams arrives for his...  \n",
              "6   I attended the first-ever ChainFest in New Yor...  \n",
              "7   New York City Mayor Eric Adams has been charge...  \n",
              "8   The Chrysler Building.Roy Rochlin/Getty Images...  \n",
              "9   If you click 'Accept all', we and our partners...  \n",
              "10  NEW YORK New York City Police Commissioner Edw...  \n",
              "11  New York City Mayor Eric Adams was indicted on...  \n",
              "12  Prosecutors said Eric Adams stayed in the Bent...  \n",
              "13  Eric Adams is the first of New York City's may...  \n",
              "14  Eric Adams faces five criminal counts in conne...  \n",
              "15  New York City Mayor Eric Adams' administration...  \n",
              "16                                          [Removed]  \n",
              "17  Uber is now asking riders to get verified as a...  \n",
              "18  On Tuesday night, vice presidential nominees J...  \n",
              "19  Disney trips that were meant for homeless stud...  "
            ],
            "text/html": [
              "\n",
              "  <div id=\"df-3a9b1af9-ad2b-44b0-8bca-66f18384740d\" class=\"colab-df-container\">\n",
              "    <div>\n",
              "<style scoped>\n",
              "    .dataframe tbody tr th:only-of-type {\n",
              "        vertical-align: middle;\n",
              "    }\n",
              "\n",
              "    .dataframe tbody tr th {\n",
              "        vertical-align: top;\n",
              "    }\n",
              "\n",
              "    .dataframe thead th {\n",
              "        text-align: right;\n",
              "    }\n",
              "</style>\n",
              "<table border=\"1\" class=\"dataframe\">\n",
              "  <thead>\n",
              "    <tr style=\"text-align: right;\">\n",
              "      <th></th>\n",
              "      <th>source</th>\n",
              "      <th>author</th>\n",
              "      <th>title</th>\n",
              "      <th>description</th>\n",
              "      <th>url</th>\n",
              "      <th>urlToImage</th>\n",
              "      <th>publishedAt</th>\n",
              "      <th>content</th>\n",
              "    </tr>\n",
              "  </thead>\n",
              "  <tbody>\n",
              "    <tr>\n",
              "      <th>0</th>\n",
              "      <td>{'id': 'business-insider', 'name': 'Business I...</td>\n",
              "      <td>Aditi Bharade</td>\n",
              "      <td>New York City Mayor Eric Adams has been indicted</td>\n",
              "      <td>The mayor has been the center of a federal inv...</td>\n",
              "      <td>https://www.businessinsider.com/nyc-mayor-eric...</td>\n",
              "      <td>https://i.insider.com/66f4b713de59ade1a3b4abfe...</td>\n",
              "      <td>2024-09-26T01:25:41Z</td>\n",
              "      <td>New York City Mayor Eric Adams.Andrew Lichtens...</td>\n",
              "    </tr>\n",
              "    <tr>\n",
              "      <th>1</th>\n",
              "      <td>{'id': None, 'name': 'NPR'}</td>\n",
              "      <td>Jeongyoon Han</td>\n",
              "      <td>New York City has a rat problem. Officials hav...</td>\n",
              "      <td>New York City has a well known rat problem. An...</td>\n",
              "      <td>https://www.npr.org/2024/09/24/nx-s1-5115893/r...</td>\n",
              "      <td>https://npr.brightspotcdn.com/dims3/default/st...</td>\n",
              "      <td>2024-09-24T10:01:00Z</td>\n",
              "      <td>It was two years ago. Morningside Heights resi...</td>\n",
              "    </tr>\n",
              "    <tr>\n",
              "      <th>2</th>\n",
              "      <td>{'id': None, 'name': 'NPR'}</td>\n",
              "      <td>The Associated Press</td>\n",
              "      <td>Top legal adviser to New York City mayor quits...</td>\n",
              "      <td>The top legal adviser to New York City Mayor E...</td>\n",
              "      <td>https://www.npr.org/2024/09/15/g-s1-23108/top-...</td>\n",
              "      <td>https://npr.brightspotcdn.com/dims3/default/st...</td>\n",
              "      <td>2024-09-15T17:38:24Z</td>\n",
              "      <td>NEW YORK The top legal adviser to New York Cit...</td>\n",
              "    </tr>\n",
              "    <tr>\n",
              "      <th>3</th>\n",
              "      <td>{'id': 'business-insider', 'name': 'Business I...</td>\n",
              "      <td>Jacob Shamsian</td>\n",
              "      <td>New York City taxpayers aren't footing the bil...</td>\n",
              "      <td>Defense lawyer Alex Spiro, who is representing...</td>\n",
              "      <td>https://www.businessinsider.com/eric-adams-leg...</td>\n",
              "      <td>https://i.insider.com/66f7193875c877a99b617dd2...</td>\n",
              "      <td>2024-09-27T20:55:52Z</td>\n",
              "      <td>Mayor Eric Adams leaves Manhattan Federal Cour...</td>\n",
              "    </tr>\n",
              "    <tr>\n",
              "      <th>4</th>\n",
              "      <td>{'id': 'business-insider', 'name': 'Business I...</td>\n",
              "      <td>Alice Tecotzky,Lloyd Lee</td>\n",
              "      <td>What it would take to remove embattled New Yor...</td>\n",
              "      <td>NYC law outlines two ways Mayor Eric Adams cou...</td>\n",
              "      <td>https://www.businessinsider.com/eric-adams-ind...</td>\n",
              "      <td>https://i.insider.com/66f60674de59ade1a3b52386...</td>\n",
              "      <td>2024-09-27T01:38:36Z</td>\n",
              "      <td>New York City Mayor Eric Adams was indicted on...</td>\n",
              "    </tr>\n",
              "    <tr>\n",
              "      <th>5</th>\n",
              "      <td>{'id': 'business-insider', 'name': 'Business I...</td>\n",
              "      <td>Jacob Shamsian</td>\n",
              "      <td>Eric Adams is showing up to court for the firs...</td>\n",
              "      <td>The indicted New York City mayor is being arra...</td>\n",
              "      <td>https://www.businessinsider.com/eric-adams-cou...</td>\n",
              "      <td>https://i.insider.com/66f6b759f9f6733e4be035fa...</td>\n",
              "      <td>2024-09-27T14:00:04Z</td>\n",
              "      <td>New York City Mayor Eric Adams arrives for his...</td>\n",
              "    </tr>\n",
              "    <tr>\n",
              "      <th>6</th>\n",
              "      <td>{'id': 'business-insider', 'name': 'Business I...</td>\n",
              "      <td>Erin McDowell</td>\n",
              "      <td>I went to a food festival that served elevated...</td>\n",
              "      <td>I attended the first ChainFest in New York Cit...</td>\n",
              "      <td>https://www.businessinsider.com/review-best-me...</td>\n",
              "      <td>https://i.insider.com/66f46583de59ade1a3b49ce8...</td>\n",
              "      <td>2024-09-26T19:40:53Z</td>\n",
              "      <td>I attended the first-ever ChainFest in New Yor...</td>\n",
              "    </tr>\n",
              "    <tr>\n",
              "      <th>7</th>\n",
              "      <td>{'id': 'business-insider', 'name': 'Business I...</td>\n",
              "      <td>Natalie Musumeci</td>\n",
              "      <td>The charges against NYC Mayor Eric Adams expla...</td>\n",
              "      <td>New York City Mayor Eric Adams has been charge...</td>\n",
              "      <td>https://www.businessinsider.com/new-york-city-...</td>\n",
              "      <td>https://i.insider.com/66f5883fde59ade1a3b4d4f5...</td>\n",
              "      <td>2024-09-26T16:35:38Z</td>\n",
              "      <td>New York City Mayor Eric Adams has been charge...</td>\n",
              "    </tr>\n",
              "    <tr>\n",
              "      <th>8</th>\n",
              "      <td>{'id': 'business-insider', 'name': 'Business I...</td>\n",
              "      <td>Katie Balevic</td>\n",
              "      <td>An iconic gem of New York City's skyline is th...</td>\n",
              "      <td>The Chrysler Building may become the latest hi...</td>\n",
              "      <td>https://www.businessinsider.com/chrysler-build...</td>\n",
              "      <td>https://i.insider.com/66feca545ccfc192a552fdb3...</td>\n",
              "      <td>2024-10-03T18:10:46Z</td>\n",
              "      <td>The Chrysler Building.Roy Rochlin/Getty Images...</td>\n",
              "    </tr>\n",
              "    <tr>\n",
              "      <th>9</th>\n",
              "      <td>{'id': None, 'name': 'Yahoo Entertainment'}</td>\n",
              "      <td>None</td>\n",
              "      <td>New York City police commissioner resigns, AP ...</td>\n",
              "      <td>None</td>\n",
              "      <td>https://consent.yahoo.com/v2/collectConsent?se...</td>\n",
              "      <td>None</td>\n",
              "      <td>2024-09-12T19:44:40Z</td>\n",
              "      <td>If you click 'Accept all', we and our partners...</td>\n",
              "    </tr>\n",
              "    <tr>\n",
              "      <th>10</th>\n",
              "      <td>{'id': 'time', 'name': 'Time'}</td>\n",
              "      <td>JAKE OFFENHARTZ and MICHAEL R. SISAK / AP</td>\n",
              "      <td>New York City Police Commissioner Resigns Amid...</td>\n",
              "      <td>New York City Police Commissioner Edward Caban...</td>\n",
              "      <td>https://time.com/7020941/new-york-city-police-...</td>\n",
              "      <td>https://api.time.com/wp-content/uploads/2024/0...</td>\n",
              "      <td>2024-09-12T19:45:42Z</td>\n",
              "      <td>NEW YORK New York City Police Commissioner Edw...</td>\n",
              "    </tr>\n",
              "    <tr>\n",
              "      <th>11</th>\n",
              "      <td>{'id': 'business-insider', 'name': 'Business I...</td>\n",
              "      <td>Laura Italiano,Jacob Shamsian</td>\n",
              "      <td>Eric Adams says his lavish, Turkey-funded trav...</td>\n",
              "      <td>In a motion to dismiss filed Monday, the New Y...</td>\n",
              "      <td>https://www.businessinsider.com/eric-adams-dis...</td>\n",
              "      <td>https://i.insider.com/66fa9f4d75c877a99b61a5f0...</td>\n",
              "      <td>2024-09-30T13:12:10Z</td>\n",
              "      <td>New York City Mayor Eric Adams was indicted on...</td>\n",
              "    </tr>\n",
              "    <tr>\n",
              "      <th>12</th>\n",
              "      <td>{'id': 'business-insider', 'name': 'Business I...</td>\n",
              "      <td>Dennis Green,Alcynna Lloyd,Maria Noyen</td>\n",
              "      <td>See the luxury hotel suite feds say Eric Adams...</td>\n",
              "      <td>Prosecutors said that New York City Mayor Eric...</td>\n",
              "      <td>https://www.businessinsider.com/bentley-and-st...</td>\n",
              "      <td>https://i.insider.com/5528386feab8ea4a0cfe8722...</td>\n",
              "      <td>2024-09-26T22:09:00Z</td>\n",
              "      <td>Prosecutors said Eric Adams stayed in the Bent...</td>\n",
              "    </tr>\n",
              "    <tr>\n",
              "      <th>13</th>\n",
              "      <td>{'id': 'business-insider', 'name': 'Business I...</td>\n",
              "      <td>Mikhaila Friel</td>\n",
              "      <td>As Eric Adams prepares to appear in court, the...</td>\n",
              "      <td>New York City Mayor Eric Adams faces five crim...</td>\n",
              "      <td>https://www.businessinsider.com/nyc-mayor-eric...</td>\n",
              "      <td>https://i.insider.com/66f67951de59ade1a3b52a9f...</td>\n",
              "      <td>2024-09-27T11:19:46Z</td>\n",
              "      <td>Eric Adams is the first of New York City's may...</td>\n",
              "    </tr>\n",
              "    <tr>\n",
              "      <th>14</th>\n",
              "      <td>{'id': 'business-insider', 'name': 'Business I...</td>\n",
              "      <td>Erin Snodgrass</td>\n",
              "      <td>Eric Adams indictment: All the travel benefits...</td>\n",
              "      <td>New York City Mayor Eric Adams faces five coun...</td>\n",
              "      <td>https://www.businessinsider.com/travel-new-yor...</td>\n",
              "      <td>https://i.insider.com/66f5ff2075c877a99b611ca0...</td>\n",
              "      <td>2024-09-27T02:06:17Z</td>\n",
              "      <td>Eric Adams faces five criminal counts in conne...</td>\n",
              "    </tr>\n",
              "    <tr>\n",
              "      <th>15</th>\n",
              "      <td>{'id': 'business-insider', 'name': 'Business I...</td>\n",
              "      <td>Natalie Musumeci</td>\n",
              "      <td>Eric Adams to appear in court Friday: Here's a...</td>\n",
              "      <td>New York City Mayor Eric Adams' administration...</td>\n",
              "      <td>https://www.businessinsider.com/new-york-city-...</td>\n",
              "      <td>https://i.insider.com/66f5a39fde59ade1a3b5051d...</td>\n",
              "      <td>2024-09-26T21:07:09Z</td>\n",
              "      <td>New York City Mayor Eric Adams' administration...</td>\n",
              "    </tr>\n",
              "    <tr>\n",
              "      <th>16</th>\n",
              "      <td>{'id': None, 'name': '[Removed]'}</td>\n",
              "      <td>None</td>\n",
              "      <td>[Removed]</td>\n",
              "      <td>[Removed]</td>\n",
              "      <td>https://removed.com</td>\n",
              "      <td>None</td>\n",
              "      <td>2024-09-18T11:15:37Z</td>\n",
              "      <td>[Removed]</td>\n",
              "    </tr>\n",
              "    <tr>\n",
              "      <th>17</th>\n",
              "      <td>{'id': 'the-verge', 'name': 'The Verge'}</td>\n",
              "      <td>Andrew J. Hawkins</td>\n",
              "      <td>Uber is now asking riders to get verified as a...</td>\n",
              "      <td>Uber riders are now being asked to verify thei...</td>\n",
              "      <td>https://www.theverge.com/2024/9/17/24246397/ub...</td>\n",
              "      <td>https://cdn.vox-cdn.com/thumbor/gXmoCdNB7J7kZG...</td>\n",
              "      <td>2024-09-17T14:30:00Z</td>\n",
              "      <td>Uber is now asking riders to get verified as a...</td>\n",
              "    </tr>\n",
              "    <tr>\n",
              "      <th>18</th>\n",
              "      <td>{'id': 'wired', 'name': 'Wired'}</td>\n",
              "      <td>Makena Kelly</td>\n",
              "      <td>Get Your VP Debate Bingo Card Right Here</td>\n",
              "      <td>Vice presidential nominees J.D. Vance and Tim ...</td>\n",
              "      <td>https://www.wired.com/story/bingo-how-to-watch...</td>\n",
              "      <td>https://media.wired.com/photos/66f70c288af4eb9...</td>\n",
              "      <td>2024-10-01T10:00:00Z</td>\n",
              "      <td>On Tuesday night, vice presidential nominees J...</td>\n",
              "    </tr>\n",
              "    <tr>\n",
              "      <th>19</th>\n",
              "      <td>{'id': None, 'name': 'NPR'}</td>\n",
              "      <td>C Mandler</td>\n",
              "      <td>Disney trips meant for homeless NYC students w...</td>\n",
              "      <td>Disney trips that were meant for homeless stud...</td>\n",
              "      <td>https://www.npr.org/2024/09/17/g-s1-23420/disn...</td>\n",
              "      <td>https://npr.brightspotcdn.com/dims3/default/st...</td>\n",
              "      <td>2024-09-17T17:13:12Z</td>\n",
              "      <td>Disney trips that were meant for homeless stud...</td>\n",
              "    </tr>\n",
              "  </tbody>\n",
              "</table>\n",
              "</div>\n",
              "    <div class=\"colab-df-buttons\">\n",
              "\n",
              "  <div class=\"colab-df-container\">\n",
              "    <button class=\"colab-df-convert\" onclick=\"convertToInteractive('df-3a9b1af9-ad2b-44b0-8bca-66f18384740d')\"\n",
              "            title=\"Convert this dataframe to an interactive table.\"\n",
              "            style=\"display:none;\">\n",
              "\n",
              "  <svg xmlns=\"http://www.w3.org/2000/svg\" height=\"24px\" viewBox=\"0 -960 960 960\">\n",
              "    <path d=\"M120-120v-720h720v720H120Zm60-500h600v-160H180v160Zm220 220h160v-160H400v160Zm0 220h160v-160H400v160ZM180-400h160v-160H180v160Zm440 0h160v-160H620v160ZM180-180h160v-160H180v160Zm440 0h160v-160H620v160Z\"/>\n",
              "  </svg>\n",
              "    </button>\n",
              "\n",
              "  <style>\n",
              "    .colab-df-container {\n",
              "      display:flex;\n",
              "      gap: 12px;\n",
              "    }\n",
              "\n",
              "    .colab-df-convert {\n",
              "      background-color: #E8F0FE;\n",
              "      border: none;\n",
              "      border-radius: 50%;\n",
              "      cursor: pointer;\n",
              "      display: none;\n",
              "      fill: #1967D2;\n",
              "      height: 32px;\n",
              "      padding: 0 0 0 0;\n",
              "      width: 32px;\n",
              "    }\n",
              "\n",
              "    .colab-df-convert:hover {\n",
              "      background-color: #E2EBFA;\n",
              "      box-shadow: 0px 1px 2px rgba(60, 64, 67, 0.3), 0px 1px 3px 1px rgba(60, 64, 67, 0.15);\n",
              "      fill: #174EA6;\n",
              "    }\n",
              "\n",
              "    .colab-df-buttons div {\n",
              "      margin-bottom: 4px;\n",
              "    }\n",
              "\n",
              "    [theme=dark] .colab-df-convert {\n",
              "      background-color: #3B4455;\n",
              "      fill: #D2E3FC;\n",
              "    }\n",
              "\n",
              "    [theme=dark] .colab-df-convert:hover {\n",
              "      background-color: #434B5C;\n",
              "      box-shadow: 0px 1px 3px 1px rgba(0, 0, 0, 0.15);\n",
              "      filter: drop-shadow(0px 1px 2px rgba(0, 0, 0, 0.3));\n",
              "      fill: #FFFFFF;\n",
              "    }\n",
              "  </style>\n",
              "\n",
              "    <script>\n",
              "      const buttonEl =\n",
              "        document.querySelector('#df-3a9b1af9-ad2b-44b0-8bca-66f18384740d button.colab-df-convert');\n",
              "      buttonEl.style.display =\n",
              "        google.colab.kernel.accessAllowed ? 'block' : 'none';\n",
              "\n",
              "      async function convertToInteractive(key) {\n",
              "        const element = document.querySelector('#df-3a9b1af9-ad2b-44b0-8bca-66f18384740d');\n",
              "        const dataTable =\n",
              "          await google.colab.kernel.invokeFunction('convertToInteractive',\n",
              "                                                    [key], {});\n",
              "        if (!dataTable) return;\n",
              "\n",
              "        const docLinkHtml = 'Like what you see? Visit the ' +\n",
              "          '<a target=\"_blank\" href=https://colab.research.google.com/notebooks/data_table.ipynb>data table notebook</a>'\n",
              "          + ' to learn more about interactive tables.';\n",
              "        element.innerHTML = '';\n",
              "        dataTable['output_type'] = 'display_data';\n",
              "        await google.colab.output.renderOutput(dataTable, element);\n",
              "        const docLink = document.createElement('div');\n",
              "        docLink.innerHTML = docLinkHtml;\n",
              "        element.appendChild(docLink);\n",
              "      }\n",
              "    </script>\n",
              "  </div>\n",
              "\n",
              "\n",
              "<div id=\"df-33de1cc0-08bf-40f9-81ae-4e26896364b9\">\n",
              "  <button class=\"colab-df-quickchart\" onclick=\"quickchart('df-33de1cc0-08bf-40f9-81ae-4e26896364b9')\"\n",
              "            title=\"Suggest charts\"\n",
              "            style=\"display:none;\">\n",
              "\n",
              "<svg xmlns=\"http://www.w3.org/2000/svg\" height=\"24px\"viewBox=\"0 0 24 24\"\n",
              "     width=\"24px\">\n",
              "    <g>\n",
              "        <path d=\"M19 3H5c-1.1 0-2 .9-2 2v14c0 1.1.9 2 2 2h14c1.1 0 2-.9 2-2V5c0-1.1-.9-2-2-2zM9 17H7v-7h2v7zm4 0h-2V7h2v10zm4 0h-2v-4h2v4z\"/>\n",
              "    </g>\n",
              "</svg>\n",
              "  </button>\n",
              "\n",
              "<style>\n",
              "  .colab-df-quickchart {\n",
              "      --bg-color: #E8F0FE;\n",
              "      --fill-color: #1967D2;\n",
              "      --hover-bg-color: #E2EBFA;\n",
              "      --hover-fill-color: #174EA6;\n",
              "      --disabled-fill-color: #AAA;\n",
              "      --disabled-bg-color: #DDD;\n",
              "  }\n",
              "\n",
              "  [theme=dark] .colab-df-quickchart {\n",
              "      --bg-color: #3B4455;\n",
              "      --fill-color: #D2E3FC;\n",
              "      --hover-bg-color: #434B5C;\n",
              "      --hover-fill-color: #FFFFFF;\n",
              "      --disabled-bg-color: #3B4455;\n",
              "      --disabled-fill-color: #666;\n",
              "  }\n",
              "\n",
              "  .colab-df-quickchart {\n",
              "    background-color: var(--bg-color);\n",
              "    border: none;\n",
              "    border-radius: 50%;\n",
              "    cursor: pointer;\n",
              "    display: none;\n",
              "    fill: var(--fill-color);\n",
              "    height: 32px;\n",
              "    padding: 0;\n",
              "    width: 32px;\n",
              "  }\n",
              "\n",
              "  .colab-df-quickchart:hover {\n",
              "    background-color: var(--hover-bg-color);\n",
              "    box-shadow: 0 1px 2px rgba(60, 64, 67, 0.3), 0 1px 3px 1px rgba(60, 64, 67, 0.15);\n",
              "    fill: var(--button-hover-fill-color);\n",
              "  }\n",
              "\n",
              "  .colab-df-quickchart-complete:disabled,\n",
              "  .colab-df-quickchart-complete:disabled:hover {\n",
              "    background-color: var(--disabled-bg-color);\n",
              "    fill: var(--disabled-fill-color);\n",
              "    box-shadow: none;\n",
              "  }\n",
              "\n",
              "  .colab-df-spinner {\n",
              "    border: 2px solid var(--fill-color);\n",
              "    border-color: transparent;\n",
              "    border-bottom-color: var(--fill-color);\n",
              "    animation:\n",
              "      spin 1s steps(1) infinite;\n",
              "  }\n",
              "\n",
              "  @keyframes spin {\n",
              "    0% {\n",
              "      border-color: transparent;\n",
              "      border-bottom-color: var(--fill-color);\n",
              "      border-left-color: var(--fill-color);\n",
              "    }\n",
              "    20% {\n",
              "      border-color: transparent;\n",
              "      border-left-color: var(--fill-color);\n",
              "      border-top-color: var(--fill-color);\n",
              "    }\n",
              "    30% {\n",
              "      border-color: transparent;\n",
              "      border-left-color: var(--fill-color);\n",
              "      border-top-color: var(--fill-color);\n",
              "      border-right-color: var(--fill-color);\n",
              "    }\n",
              "    40% {\n",
              "      border-color: transparent;\n",
              "      border-right-color: var(--fill-color);\n",
              "      border-top-color: var(--fill-color);\n",
              "    }\n",
              "    60% {\n",
              "      border-color: transparent;\n",
              "      border-right-color: var(--fill-color);\n",
              "    }\n",
              "    80% {\n",
              "      border-color: transparent;\n",
              "      border-right-color: var(--fill-color);\n",
              "      border-bottom-color: var(--fill-color);\n",
              "    }\n",
              "    90% {\n",
              "      border-color: transparent;\n",
              "      border-bottom-color: var(--fill-color);\n",
              "    }\n",
              "  }\n",
              "</style>\n",
              "\n",
              "  <script>\n",
              "    async function quickchart(key) {\n",
              "      const quickchartButtonEl =\n",
              "        document.querySelector('#' + key + ' button');\n",
              "      quickchartButtonEl.disabled = true;  // To prevent multiple clicks.\n",
              "      quickchartButtonEl.classList.add('colab-df-spinner');\n",
              "      try {\n",
              "        const charts = await google.colab.kernel.invokeFunction(\n",
              "            'suggestCharts', [key], {});\n",
              "      } catch (error) {\n",
              "        console.error('Error during call to suggestCharts:', error);\n",
              "      }\n",
              "      quickchartButtonEl.classList.remove('colab-df-spinner');\n",
              "      quickchartButtonEl.classList.add('colab-df-quickchart-complete');\n",
              "    }\n",
              "    (() => {\n",
              "      let quickchartButtonEl =\n",
              "        document.querySelector('#df-33de1cc0-08bf-40f9-81ae-4e26896364b9 button');\n",
              "      quickchartButtonEl.style.display =\n",
              "        google.colab.kernel.accessAllowed ? 'block' : 'none';\n",
              "    })();\n",
              "  </script>\n",
              "</div>\n",
              "\n",
              "  <div id=\"id_87a52226-d1d5-45d7-9b7f-f0d06e605d5c\">\n",
              "    <style>\n",
              "      .colab-df-generate {\n",
              "        background-color: #E8F0FE;\n",
              "        border: none;\n",
              "        border-radius: 50%;\n",
              "        cursor: pointer;\n",
              "        display: none;\n",
              "        fill: #1967D2;\n",
              "        height: 32px;\n",
              "        padding: 0 0 0 0;\n",
              "        width: 32px;\n",
              "      }\n",
              "\n",
              "      .colab-df-generate:hover {\n",
              "        background-color: #E2EBFA;\n",
              "        box-shadow: 0px 1px 2px rgba(60, 64, 67, 0.3), 0px 1px 3px 1px rgba(60, 64, 67, 0.15);\n",
              "        fill: #174EA6;\n",
              "      }\n",
              "\n",
              "      [theme=dark] .colab-df-generate {\n",
              "        background-color: #3B4455;\n",
              "        fill: #D2E3FC;\n",
              "      }\n",
              "\n",
              "      [theme=dark] .colab-df-generate:hover {\n",
              "        background-color: #434B5C;\n",
              "        box-shadow: 0px 1px 3px 1px rgba(0, 0, 0, 0.15);\n",
              "        filter: drop-shadow(0px 1px 2px rgba(0, 0, 0, 0.3));\n",
              "        fill: #FFFFFF;\n",
              "      }\n",
              "    </style>\n",
              "    <button class=\"colab-df-generate\" onclick=\"generateWithVariable('df')\"\n",
              "            title=\"Generate code using this dataframe.\"\n",
              "            style=\"display:none;\">\n",
              "\n",
              "  <svg xmlns=\"http://www.w3.org/2000/svg\" height=\"24px\"viewBox=\"0 0 24 24\"\n",
              "       width=\"24px\">\n",
              "    <path d=\"M7,19H8.4L18.45,9,17,7.55,7,17.6ZM5,21V16.75L18.45,3.32a2,2,0,0,1,2.83,0l1.4,1.43a1.91,1.91,0,0,1,.58,1.4,1.91,1.91,0,0,1-.58,1.4L9.25,21ZM18.45,9,17,7.55Zm-12,3A5.31,5.31,0,0,0,4.9,8.1,5.31,5.31,0,0,0,1,6.5,5.31,5.31,0,0,0,4.9,4.9,5.31,5.31,0,0,0,6.5,1,5.31,5.31,0,0,0,8.1,4.9,5.31,5.31,0,0,0,12,6.5,5.46,5.46,0,0,0,6.5,12Z\"/>\n",
              "  </svg>\n",
              "    </button>\n",
              "    <script>\n",
              "      (() => {\n",
              "      const buttonEl =\n",
              "        document.querySelector('#id_87a52226-d1d5-45d7-9b7f-f0d06e605d5c button.colab-df-generate');\n",
              "      buttonEl.style.display =\n",
              "        google.colab.kernel.accessAllowed ? 'block' : 'none';\n",
              "\n",
              "      buttonEl.onclick = () => {\n",
              "        google.colab.notebook.generateWithVariable('df');\n",
              "      }\n",
              "      })();\n",
              "    </script>\n",
              "  </div>\n",
              "\n",
              "    </div>\n",
              "  </div>\n"
            ],
            "application/vnd.google.colaboratory.intrinsic+json": {
              "type": "dataframe",
              "variable_name": "df",
              "summary": "{\n  \"name\": \"df\",\n  \"rows\": 20,\n  \"fields\": [\n    {\n      \"column\": \"source\",\n      \"properties\": {\n        \"dtype\": \"object\",\n        \"semantic_type\": \"\",\n        \"description\": \"\"\n      }\n    },\n    {\n      \"column\": \"author\",\n      \"properties\": {\n        \"dtype\": \"string\",\n        \"num_unique_values\": 16,\n        \"samples\": [\n          \"Aditi Bharade\",\n          \"Jeongyoon Han\",\n          \"Erin McDowell\"\n        ],\n        \"semantic_type\": \"\",\n        \"description\": \"\"\n      }\n    },\n    {\n      \"column\": \"title\",\n      \"properties\": {\n        \"dtype\": \"string\",\n        \"num_unique_values\": 20,\n        \"samples\": [\n          \"New York City Mayor Eric Adams has been indicted\",\n          \"Uber is now asking riders to get verified as a safety measure for drivers\",\n          \"Eric Adams to appear in court Friday: Here's a timeline of the chaos leading up to his indictment.\"\n        ],\n        \"semantic_type\": \"\",\n        \"description\": \"\"\n      }\n    },\n    {\n      \"column\": \"description\",\n      \"properties\": {\n        \"dtype\": \"string\",\n        \"num_unique_values\": 19,\n        \"samples\": [\n          \"The mayor has been the center of a federal investigation into donations to his 2021 campaign.\",\n          \"The indicted New York City mayor is being arraigned in the same courtroom as Sean \\\"Diddy\\\" Combs last week.\",\n          \"Prosecutors said that New York City Mayor Eric Adams spent two nights at the St. Regis hotel in Istanbul in the summer of 2017. Take a look inside.\"\n        ],\n        \"semantic_type\": \"\",\n        \"description\": \"\"\n      }\n    },\n    {\n      \"column\": \"url\",\n      \"properties\": {\n        \"dtype\": \"string\",\n        \"num_unique_values\": 20,\n        \"samples\": [\n          \"https://www.businessinsider.com/nyc-mayor-eric-adams-indicted-2024-9\",\n          \"https://www.theverge.com/2024/9/17/24246397/uber-rider-verification-fraud-driver-safety\",\n          \"https://www.businessinsider.com/new-york-city-mayor-eric-adams-indictment-timeline-corruption-investigation-2024-9\"\n        ],\n        \"semantic_type\": \"\",\n        \"description\": \"\"\n      }\n    },\n    {\n      \"column\": \"urlToImage\",\n      \"properties\": {\n        \"dtype\": \"string\",\n        \"num_unique_values\": 18,\n        \"samples\": [\n          \"https://i.insider.com/66f4b713de59ade1a3b4abfe?width=1200&format=jpeg\",\n          \"https://npr.brightspotcdn.com/dims3/default/strip/false/crop/8842x4974+0+454/resize/1400/quality/100/format/jpeg/?url=http%3A%2F%2Fnpr-brightspot.s3.amazonaws.com%2F48%2F93%2F9d3fed014720a9edda984f16825b%2F20240807-hammar-ratsandtrash-8.jpg\",\n          \"https://i.insider.com/66feca545ccfc192a552fdb3?width=1200&format=jpeg\"\n        ],\n        \"semantic_type\": \"\",\n        \"description\": \"\"\n      }\n    },\n    {\n      \"column\": \"publishedAt\",\n      \"properties\": {\n        \"dtype\": \"object\",\n        \"num_unique_values\": 20,\n        \"samples\": [\n          \"2024-09-26T01:25:41Z\",\n          \"2024-09-17T14:30:00Z\",\n          \"2024-09-26T21:07:09Z\"\n        ],\n        \"semantic_type\": \"\",\n        \"description\": \"\"\n      }\n    },\n    {\n      \"column\": \"content\",\n      \"properties\": {\n        \"dtype\": \"string\",\n        \"num_unique_values\": 20,\n        \"samples\": [\n          \"New York City Mayor Eric Adams.Andrew Lichtenstein/Getty Images\\r\\n<ul><li>Eric Adams has been indicted, The New York Times first reported on Wednesday.</li><li>The mayor has been the center of an inve\\u2026 [+643 chars]\",\n          \"Uber is now asking riders to get verified as a safety measure for drivers\\r\\nUber is now asking riders to get verified as a safety measure for drivers\\r\\n / Riders can opt to have their personal informat\\u2026 [+3345 chars]\",\n          \"New York City Mayor Eric Adams' administration was in turmoil before he was indicted.New York Daily News/Getty Images\\r\\n<ul><li>New York City Mayor Eric Adams was indicted by federal grand jury amid a\\u2026 [+7263 chars]\"\n        ],\n        \"semantic_type\": \"\",\n        \"description\": \"\"\n      }\n    }\n  ]\n}"
            }
          },
          "metadata": {},
          "execution_count": 43
        }
      ]
    },
    {
      "metadata": {
        "id": "15d18c28"
      },
      "id": "15d18c28",
      "cell_type": "markdown",
      "source": [
        "### 2.12 Next Step: Data Cleaning!"
      ]
    },
    {
      "metadata": {
        "id": "6860fb2a"
      },
      "id": "6860fb2a",
      "cell_type": "markdown",
      "source": [
        "Looking at the dataframe above, it's clear that the data received from the NewsAPI lacks uniformity. For example, in the author column, some authors are listed with their emails, others with their locations. In addition, the source column includes both the source 'id' and 'name'.\n",
        "\n",
        "This is a common experience when collecting data from APIs. Even though the data is shared in a structured way based on specific query parameters, this does not mean the data is clean.\n",
        "\n",
        "Remember that the data process starts with data collection, followed by data wrangling (e.g., converting data from JSON to a dataframe) and data cleaning, which includes making sure your data is stored in consistent formats.\n",
        "\n",
        "For example, if we wanted to clean our source column so as to just keep the name of the publication, we could first define a function:"
      ]
    },
    {
      "metadata": {
        "trusted": true,
        "id": "XOczO4QPDL8w"
      },
      "cell_type": "code",
      "source": [
        "def dict_to_value(dict):\n",
        "    for value in dict:\n",
        "        resultList = list(dict.values())\n",
        "        resultList.reverse()\n",
        "        return str(resultList[0])"
      ],
      "execution_count": 44,
      "outputs": [],
      "id": "XOczO4QPDL8w"
    },
    {
      "metadata": {
        "id": "HJ-bVpy8DL8w"
      },
      "cell_type": "markdown",
      "source": [
        "then, apply it to our dataframe:"
      ],
      "id": "HJ-bVpy8DL8w"
    },
    {
      "metadata": {
        "trusted": true,
        "id": "VtTYZQv3DL8w",
        "outputId": "32298feb-efd1-4aa3-883d-030f7b4240da",
        "colab": {
          "base_uri": "https://localhost:8080/",
          "height": 1000
        }
      },
      "cell_type": "code",
      "source": [
        "df['source'] = df['source'].apply(dict_to_value)\n",
        "df"
      ],
      "execution_count": 45,
      "outputs": [
        {
          "output_type": "execute_result",
          "data": {
            "text/plain": [
              "                 source                                     author  \\\n",
              "0      Business Insider                              Aditi Bharade   \n",
              "1                   NPR                              Jeongyoon Han   \n",
              "2                   NPR                       The Associated Press   \n",
              "3      Business Insider                             Jacob Shamsian   \n",
              "4      Business Insider                   Alice Tecotzky,Lloyd Lee   \n",
              "5      Business Insider                             Jacob Shamsian   \n",
              "6      Business Insider                              Erin McDowell   \n",
              "7      Business Insider                           Natalie Musumeci   \n",
              "8      Business Insider                              Katie Balevic   \n",
              "9   Yahoo Entertainment                                       None   \n",
              "10                 Time  JAKE OFFENHARTZ and MICHAEL R. SISAK / AP   \n",
              "11     Business Insider              Laura Italiano,Jacob Shamsian   \n",
              "12     Business Insider     Dennis Green,Alcynna Lloyd,Maria Noyen   \n",
              "13     Business Insider                             Mikhaila Friel   \n",
              "14     Business Insider                             Erin Snodgrass   \n",
              "15     Business Insider                           Natalie Musumeci   \n",
              "16            [Removed]                                       None   \n",
              "17            The Verge                          Andrew J. Hawkins   \n",
              "18                Wired                               Makena Kelly   \n",
              "19                  NPR                                  C Mandler   \n",
              "\n",
              "                                                title  \\\n",
              "0    New York City Mayor Eric Adams has been indicted   \n",
              "1   New York City has a rat problem. Officials hav...   \n",
              "2   Top legal adviser to New York City mayor quits...   \n",
              "3   New York City taxpayers aren't footing the bil...   \n",
              "4   What it would take to remove embattled New Yor...   \n",
              "5   Eric Adams is showing up to court for the firs...   \n",
              "6   I went to a food festival that served elevated...   \n",
              "7   The charges against NYC Mayor Eric Adams expla...   \n",
              "8   An iconic gem of New York City's skyline is th...   \n",
              "9   New York City police commissioner resigns, AP ...   \n",
              "10  New York City Police Commissioner Resigns Amid...   \n",
              "11  Eric Adams says his lavish, Turkey-funded trav...   \n",
              "12  See the luxury hotel suite feds say Eric Adams...   \n",
              "13  As Eric Adams prepares to appear in court, the...   \n",
              "14  Eric Adams indictment: All the travel benefits...   \n",
              "15  Eric Adams to appear in court Friday: Here's a...   \n",
              "16                                          [Removed]   \n",
              "17  Uber is now asking riders to get verified as a...   \n",
              "18           Get Your VP Debate Bingo Card Right Here   \n",
              "19  Disney trips meant for homeless NYC students w...   \n",
              "\n",
              "                                          description  \\\n",
              "0   The mayor has been the center of a federal inv...   \n",
              "1   New York City has a well known rat problem. An...   \n",
              "2   The top legal adviser to New York City Mayor E...   \n",
              "3   Defense lawyer Alex Spiro, who is representing...   \n",
              "4   NYC law outlines two ways Mayor Eric Adams cou...   \n",
              "5   The indicted New York City mayor is being arra...   \n",
              "6   I attended the first ChainFest in New York Cit...   \n",
              "7   New York City Mayor Eric Adams has been charge...   \n",
              "8   The Chrysler Building may become the latest hi...   \n",
              "9                                                None   \n",
              "10  New York City Police Commissioner Edward Caban...   \n",
              "11  In a motion to dismiss filed Monday, the New Y...   \n",
              "12  Prosecutors said that New York City Mayor Eric...   \n",
              "13  New York City Mayor Eric Adams faces five crim...   \n",
              "14  New York City Mayor Eric Adams faces five coun...   \n",
              "15  New York City Mayor Eric Adams' administration...   \n",
              "16                                          [Removed]   \n",
              "17  Uber riders are now being asked to verify thei...   \n",
              "18  Vice presidential nominees J.D. Vance and Tim ...   \n",
              "19  Disney trips that were meant for homeless stud...   \n",
              "\n",
              "                                                  url  \\\n",
              "0   https://www.businessinsider.com/nyc-mayor-eric...   \n",
              "1   https://www.npr.org/2024/09/24/nx-s1-5115893/r...   \n",
              "2   https://www.npr.org/2024/09/15/g-s1-23108/top-...   \n",
              "3   https://www.businessinsider.com/eric-adams-leg...   \n",
              "4   https://www.businessinsider.com/eric-adams-ind...   \n",
              "5   https://www.businessinsider.com/eric-adams-cou...   \n",
              "6   https://www.businessinsider.com/review-best-me...   \n",
              "7   https://www.businessinsider.com/new-york-city-...   \n",
              "8   https://www.businessinsider.com/chrysler-build...   \n",
              "9   https://consent.yahoo.com/v2/collectConsent?se...   \n",
              "10  https://time.com/7020941/new-york-city-police-...   \n",
              "11  https://www.businessinsider.com/eric-adams-dis...   \n",
              "12  https://www.businessinsider.com/bentley-and-st...   \n",
              "13  https://www.businessinsider.com/nyc-mayor-eric...   \n",
              "14  https://www.businessinsider.com/travel-new-yor...   \n",
              "15  https://www.businessinsider.com/new-york-city-...   \n",
              "16                                https://removed.com   \n",
              "17  https://www.theverge.com/2024/9/17/24246397/ub...   \n",
              "18  https://www.wired.com/story/bingo-how-to-watch...   \n",
              "19  https://www.npr.org/2024/09/17/g-s1-23420/disn...   \n",
              "\n",
              "                                           urlToImage           publishedAt  \\\n",
              "0   https://i.insider.com/66f4b713de59ade1a3b4abfe...  2024-09-26T01:25:41Z   \n",
              "1   https://npr.brightspotcdn.com/dims3/default/st...  2024-09-24T10:01:00Z   \n",
              "2   https://npr.brightspotcdn.com/dims3/default/st...  2024-09-15T17:38:24Z   \n",
              "3   https://i.insider.com/66f7193875c877a99b617dd2...  2024-09-27T20:55:52Z   \n",
              "4   https://i.insider.com/66f60674de59ade1a3b52386...  2024-09-27T01:38:36Z   \n",
              "5   https://i.insider.com/66f6b759f9f6733e4be035fa...  2024-09-27T14:00:04Z   \n",
              "6   https://i.insider.com/66f46583de59ade1a3b49ce8...  2024-09-26T19:40:53Z   \n",
              "7   https://i.insider.com/66f5883fde59ade1a3b4d4f5...  2024-09-26T16:35:38Z   \n",
              "8   https://i.insider.com/66feca545ccfc192a552fdb3...  2024-10-03T18:10:46Z   \n",
              "9                                                None  2024-09-12T19:44:40Z   \n",
              "10  https://api.time.com/wp-content/uploads/2024/0...  2024-09-12T19:45:42Z   \n",
              "11  https://i.insider.com/66fa9f4d75c877a99b61a5f0...  2024-09-30T13:12:10Z   \n",
              "12  https://i.insider.com/5528386feab8ea4a0cfe8722...  2024-09-26T22:09:00Z   \n",
              "13  https://i.insider.com/66f67951de59ade1a3b52a9f...  2024-09-27T11:19:46Z   \n",
              "14  https://i.insider.com/66f5ff2075c877a99b611ca0...  2024-09-27T02:06:17Z   \n",
              "15  https://i.insider.com/66f5a39fde59ade1a3b5051d...  2024-09-26T21:07:09Z   \n",
              "16                                               None  2024-09-18T11:15:37Z   \n",
              "17  https://cdn.vox-cdn.com/thumbor/gXmoCdNB7J7kZG...  2024-09-17T14:30:00Z   \n",
              "18  https://media.wired.com/photos/66f70c288af4eb9...  2024-10-01T10:00:00Z   \n",
              "19  https://npr.brightspotcdn.com/dims3/default/st...  2024-09-17T17:13:12Z   \n",
              "\n",
              "                                              content  \n",
              "0   New York City Mayor Eric Adams.Andrew Lichtens...  \n",
              "1   It was two years ago. Morningside Heights resi...  \n",
              "2   NEW YORK The top legal adviser to New York Cit...  \n",
              "3   Mayor Eric Adams leaves Manhattan Federal Cour...  \n",
              "4   New York City Mayor Eric Adams was indicted on...  \n",
              "5   New York City Mayor Eric Adams arrives for his...  \n",
              "6   I attended the first-ever ChainFest in New Yor...  \n",
              "7   New York City Mayor Eric Adams has been charge...  \n",
              "8   The Chrysler Building.Roy Rochlin/Getty Images...  \n",
              "9   If you click 'Accept all', we and our partners...  \n",
              "10  NEW YORK New York City Police Commissioner Edw...  \n",
              "11  New York City Mayor Eric Adams was indicted on...  \n",
              "12  Prosecutors said Eric Adams stayed in the Bent...  \n",
              "13  Eric Adams is the first of New York City's may...  \n",
              "14  Eric Adams faces five criminal counts in conne...  \n",
              "15  New York City Mayor Eric Adams' administration...  \n",
              "16                                          [Removed]  \n",
              "17  Uber is now asking riders to get verified as a...  \n",
              "18  On Tuesday night, vice presidential nominees J...  \n",
              "19  Disney trips that were meant for homeless stud...  "
            ],
            "text/html": [
              "\n",
              "  <div id=\"df-997af82c-8d12-45ea-b702-6e18b4d85376\" class=\"colab-df-container\">\n",
              "    <div>\n",
              "<style scoped>\n",
              "    .dataframe tbody tr th:only-of-type {\n",
              "        vertical-align: middle;\n",
              "    }\n",
              "\n",
              "    .dataframe tbody tr th {\n",
              "        vertical-align: top;\n",
              "    }\n",
              "\n",
              "    .dataframe thead th {\n",
              "        text-align: right;\n",
              "    }\n",
              "</style>\n",
              "<table border=\"1\" class=\"dataframe\">\n",
              "  <thead>\n",
              "    <tr style=\"text-align: right;\">\n",
              "      <th></th>\n",
              "      <th>source</th>\n",
              "      <th>author</th>\n",
              "      <th>title</th>\n",
              "      <th>description</th>\n",
              "      <th>url</th>\n",
              "      <th>urlToImage</th>\n",
              "      <th>publishedAt</th>\n",
              "      <th>content</th>\n",
              "    </tr>\n",
              "  </thead>\n",
              "  <tbody>\n",
              "    <tr>\n",
              "      <th>0</th>\n",
              "      <td>Business Insider</td>\n",
              "      <td>Aditi Bharade</td>\n",
              "      <td>New York City Mayor Eric Adams has been indicted</td>\n",
              "      <td>The mayor has been the center of a federal inv...</td>\n",
              "      <td>https://www.businessinsider.com/nyc-mayor-eric...</td>\n",
              "      <td>https://i.insider.com/66f4b713de59ade1a3b4abfe...</td>\n",
              "      <td>2024-09-26T01:25:41Z</td>\n",
              "      <td>New York City Mayor Eric Adams.Andrew Lichtens...</td>\n",
              "    </tr>\n",
              "    <tr>\n",
              "      <th>1</th>\n",
              "      <td>NPR</td>\n",
              "      <td>Jeongyoon Han</td>\n",
              "      <td>New York City has a rat problem. Officials hav...</td>\n",
              "      <td>New York City has a well known rat problem. An...</td>\n",
              "      <td>https://www.npr.org/2024/09/24/nx-s1-5115893/r...</td>\n",
              "      <td>https://npr.brightspotcdn.com/dims3/default/st...</td>\n",
              "      <td>2024-09-24T10:01:00Z</td>\n",
              "      <td>It was two years ago. Morningside Heights resi...</td>\n",
              "    </tr>\n",
              "    <tr>\n",
              "      <th>2</th>\n",
              "      <td>NPR</td>\n",
              "      <td>The Associated Press</td>\n",
              "      <td>Top legal adviser to New York City mayor quits...</td>\n",
              "      <td>The top legal adviser to New York City Mayor E...</td>\n",
              "      <td>https://www.npr.org/2024/09/15/g-s1-23108/top-...</td>\n",
              "      <td>https://npr.brightspotcdn.com/dims3/default/st...</td>\n",
              "      <td>2024-09-15T17:38:24Z</td>\n",
              "      <td>NEW YORK The top legal adviser to New York Cit...</td>\n",
              "    </tr>\n",
              "    <tr>\n",
              "      <th>3</th>\n",
              "      <td>Business Insider</td>\n",
              "      <td>Jacob Shamsian</td>\n",
              "      <td>New York City taxpayers aren't footing the bil...</td>\n",
              "      <td>Defense lawyer Alex Spiro, who is representing...</td>\n",
              "      <td>https://www.businessinsider.com/eric-adams-leg...</td>\n",
              "      <td>https://i.insider.com/66f7193875c877a99b617dd2...</td>\n",
              "      <td>2024-09-27T20:55:52Z</td>\n",
              "      <td>Mayor Eric Adams leaves Manhattan Federal Cour...</td>\n",
              "    </tr>\n",
              "    <tr>\n",
              "      <th>4</th>\n",
              "      <td>Business Insider</td>\n",
              "      <td>Alice Tecotzky,Lloyd Lee</td>\n",
              "      <td>What it would take to remove embattled New Yor...</td>\n",
              "      <td>NYC law outlines two ways Mayor Eric Adams cou...</td>\n",
              "      <td>https://www.businessinsider.com/eric-adams-ind...</td>\n",
              "      <td>https://i.insider.com/66f60674de59ade1a3b52386...</td>\n",
              "      <td>2024-09-27T01:38:36Z</td>\n",
              "      <td>New York City Mayor Eric Adams was indicted on...</td>\n",
              "    </tr>\n",
              "    <tr>\n",
              "      <th>5</th>\n",
              "      <td>Business Insider</td>\n",
              "      <td>Jacob Shamsian</td>\n",
              "      <td>Eric Adams is showing up to court for the firs...</td>\n",
              "      <td>The indicted New York City mayor is being arra...</td>\n",
              "      <td>https://www.businessinsider.com/eric-adams-cou...</td>\n",
              "      <td>https://i.insider.com/66f6b759f9f6733e4be035fa...</td>\n",
              "      <td>2024-09-27T14:00:04Z</td>\n",
              "      <td>New York City Mayor Eric Adams arrives for his...</td>\n",
              "    </tr>\n",
              "    <tr>\n",
              "      <th>6</th>\n",
              "      <td>Business Insider</td>\n",
              "      <td>Erin McDowell</td>\n",
              "      <td>I went to a food festival that served elevated...</td>\n",
              "      <td>I attended the first ChainFest in New York Cit...</td>\n",
              "      <td>https://www.businessinsider.com/review-best-me...</td>\n",
              "      <td>https://i.insider.com/66f46583de59ade1a3b49ce8...</td>\n",
              "      <td>2024-09-26T19:40:53Z</td>\n",
              "      <td>I attended the first-ever ChainFest in New Yor...</td>\n",
              "    </tr>\n",
              "    <tr>\n",
              "      <th>7</th>\n",
              "      <td>Business Insider</td>\n",
              "      <td>Natalie Musumeci</td>\n",
              "      <td>The charges against NYC Mayor Eric Adams expla...</td>\n",
              "      <td>New York City Mayor Eric Adams has been charge...</td>\n",
              "      <td>https://www.businessinsider.com/new-york-city-...</td>\n",
              "      <td>https://i.insider.com/66f5883fde59ade1a3b4d4f5...</td>\n",
              "      <td>2024-09-26T16:35:38Z</td>\n",
              "      <td>New York City Mayor Eric Adams has been charge...</td>\n",
              "    </tr>\n",
              "    <tr>\n",
              "      <th>8</th>\n",
              "      <td>Business Insider</td>\n",
              "      <td>Katie Balevic</td>\n",
              "      <td>An iconic gem of New York City's skyline is th...</td>\n",
              "      <td>The Chrysler Building may become the latest hi...</td>\n",
              "      <td>https://www.businessinsider.com/chrysler-build...</td>\n",
              "      <td>https://i.insider.com/66feca545ccfc192a552fdb3...</td>\n",
              "      <td>2024-10-03T18:10:46Z</td>\n",
              "      <td>The Chrysler Building.Roy Rochlin/Getty Images...</td>\n",
              "    </tr>\n",
              "    <tr>\n",
              "      <th>9</th>\n",
              "      <td>Yahoo Entertainment</td>\n",
              "      <td>None</td>\n",
              "      <td>New York City police commissioner resigns, AP ...</td>\n",
              "      <td>None</td>\n",
              "      <td>https://consent.yahoo.com/v2/collectConsent?se...</td>\n",
              "      <td>None</td>\n",
              "      <td>2024-09-12T19:44:40Z</td>\n",
              "      <td>If you click 'Accept all', we and our partners...</td>\n",
              "    </tr>\n",
              "    <tr>\n",
              "      <th>10</th>\n",
              "      <td>Time</td>\n",
              "      <td>JAKE OFFENHARTZ and MICHAEL R. SISAK / AP</td>\n",
              "      <td>New York City Police Commissioner Resigns Amid...</td>\n",
              "      <td>New York City Police Commissioner Edward Caban...</td>\n",
              "      <td>https://time.com/7020941/new-york-city-police-...</td>\n",
              "      <td>https://api.time.com/wp-content/uploads/2024/0...</td>\n",
              "      <td>2024-09-12T19:45:42Z</td>\n",
              "      <td>NEW YORK New York City Police Commissioner Edw...</td>\n",
              "    </tr>\n",
              "    <tr>\n",
              "      <th>11</th>\n",
              "      <td>Business Insider</td>\n",
              "      <td>Laura Italiano,Jacob Shamsian</td>\n",
              "      <td>Eric Adams says his lavish, Turkey-funded trav...</td>\n",
              "      <td>In a motion to dismiss filed Monday, the New Y...</td>\n",
              "      <td>https://www.businessinsider.com/eric-adams-dis...</td>\n",
              "      <td>https://i.insider.com/66fa9f4d75c877a99b61a5f0...</td>\n",
              "      <td>2024-09-30T13:12:10Z</td>\n",
              "      <td>New York City Mayor Eric Adams was indicted on...</td>\n",
              "    </tr>\n",
              "    <tr>\n",
              "      <th>12</th>\n",
              "      <td>Business Insider</td>\n",
              "      <td>Dennis Green,Alcynna Lloyd,Maria Noyen</td>\n",
              "      <td>See the luxury hotel suite feds say Eric Adams...</td>\n",
              "      <td>Prosecutors said that New York City Mayor Eric...</td>\n",
              "      <td>https://www.businessinsider.com/bentley-and-st...</td>\n",
              "      <td>https://i.insider.com/5528386feab8ea4a0cfe8722...</td>\n",
              "      <td>2024-09-26T22:09:00Z</td>\n",
              "      <td>Prosecutors said Eric Adams stayed in the Bent...</td>\n",
              "    </tr>\n",
              "    <tr>\n",
              "      <th>13</th>\n",
              "      <td>Business Insider</td>\n",
              "      <td>Mikhaila Friel</td>\n",
              "      <td>As Eric Adams prepares to appear in court, the...</td>\n",
              "      <td>New York City Mayor Eric Adams faces five crim...</td>\n",
              "      <td>https://www.businessinsider.com/nyc-mayor-eric...</td>\n",
              "      <td>https://i.insider.com/66f67951de59ade1a3b52a9f...</td>\n",
              "      <td>2024-09-27T11:19:46Z</td>\n",
              "      <td>Eric Adams is the first of New York City's may...</td>\n",
              "    </tr>\n",
              "    <tr>\n",
              "      <th>14</th>\n",
              "      <td>Business Insider</td>\n",
              "      <td>Erin Snodgrass</td>\n",
              "      <td>Eric Adams indictment: All the travel benefits...</td>\n",
              "      <td>New York City Mayor Eric Adams faces five coun...</td>\n",
              "      <td>https://www.businessinsider.com/travel-new-yor...</td>\n",
              "      <td>https://i.insider.com/66f5ff2075c877a99b611ca0...</td>\n",
              "      <td>2024-09-27T02:06:17Z</td>\n",
              "      <td>Eric Adams faces five criminal counts in conne...</td>\n",
              "    </tr>\n",
              "    <tr>\n",
              "      <th>15</th>\n",
              "      <td>Business Insider</td>\n",
              "      <td>Natalie Musumeci</td>\n",
              "      <td>Eric Adams to appear in court Friday: Here's a...</td>\n",
              "      <td>New York City Mayor Eric Adams' administration...</td>\n",
              "      <td>https://www.businessinsider.com/new-york-city-...</td>\n",
              "      <td>https://i.insider.com/66f5a39fde59ade1a3b5051d...</td>\n",
              "      <td>2024-09-26T21:07:09Z</td>\n",
              "      <td>New York City Mayor Eric Adams' administration...</td>\n",
              "    </tr>\n",
              "    <tr>\n",
              "      <th>16</th>\n",
              "      <td>[Removed]</td>\n",
              "      <td>None</td>\n",
              "      <td>[Removed]</td>\n",
              "      <td>[Removed]</td>\n",
              "      <td>https://removed.com</td>\n",
              "      <td>None</td>\n",
              "      <td>2024-09-18T11:15:37Z</td>\n",
              "      <td>[Removed]</td>\n",
              "    </tr>\n",
              "    <tr>\n",
              "      <th>17</th>\n",
              "      <td>The Verge</td>\n",
              "      <td>Andrew J. Hawkins</td>\n",
              "      <td>Uber is now asking riders to get verified as a...</td>\n",
              "      <td>Uber riders are now being asked to verify thei...</td>\n",
              "      <td>https://www.theverge.com/2024/9/17/24246397/ub...</td>\n",
              "      <td>https://cdn.vox-cdn.com/thumbor/gXmoCdNB7J7kZG...</td>\n",
              "      <td>2024-09-17T14:30:00Z</td>\n",
              "      <td>Uber is now asking riders to get verified as a...</td>\n",
              "    </tr>\n",
              "    <tr>\n",
              "      <th>18</th>\n",
              "      <td>Wired</td>\n",
              "      <td>Makena Kelly</td>\n",
              "      <td>Get Your VP Debate Bingo Card Right Here</td>\n",
              "      <td>Vice presidential nominees J.D. Vance and Tim ...</td>\n",
              "      <td>https://www.wired.com/story/bingo-how-to-watch...</td>\n",
              "      <td>https://media.wired.com/photos/66f70c288af4eb9...</td>\n",
              "      <td>2024-10-01T10:00:00Z</td>\n",
              "      <td>On Tuesday night, vice presidential nominees J...</td>\n",
              "    </tr>\n",
              "    <tr>\n",
              "      <th>19</th>\n",
              "      <td>NPR</td>\n",
              "      <td>C Mandler</td>\n",
              "      <td>Disney trips meant for homeless NYC students w...</td>\n",
              "      <td>Disney trips that were meant for homeless stud...</td>\n",
              "      <td>https://www.npr.org/2024/09/17/g-s1-23420/disn...</td>\n",
              "      <td>https://npr.brightspotcdn.com/dims3/default/st...</td>\n",
              "      <td>2024-09-17T17:13:12Z</td>\n",
              "      <td>Disney trips that were meant for homeless stud...</td>\n",
              "    </tr>\n",
              "  </tbody>\n",
              "</table>\n",
              "</div>\n",
              "    <div class=\"colab-df-buttons\">\n",
              "\n",
              "  <div class=\"colab-df-container\">\n",
              "    <button class=\"colab-df-convert\" onclick=\"convertToInteractive('df-997af82c-8d12-45ea-b702-6e18b4d85376')\"\n",
              "            title=\"Convert this dataframe to an interactive table.\"\n",
              "            style=\"display:none;\">\n",
              "\n",
              "  <svg xmlns=\"http://www.w3.org/2000/svg\" height=\"24px\" viewBox=\"0 -960 960 960\">\n",
              "    <path d=\"M120-120v-720h720v720H120Zm60-500h600v-160H180v160Zm220 220h160v-160H400v160Zm0 220h160v-160H400v160ZM180-400h160v-160H180v160Zm440 0h160v-160H620v160ZM180-180h160v-160H180v160Zm440 0h160v-160H620v160Z\"/>\n",
              "  </svg>\n",
              "    </button>\n",
              "\n",
              "  <style>\n",
              "    .colab-df-container {\n",
              "      display:flex;\n",
              "      gap: 12px;\n",
              "    }\n",
              "\n",
              "    .colab-df-convert {\n",
              "      background-color: #E8F0FE;\n",
              "      border: none;\n",
              "      border-radius: 50%;\n",
              "      cursor: pointer;\n",
              "      display: none;\n",
              "      fill: #1967D2;\n",
              "      height: 32px;\n",
              "      padding: 0 0 0 0;\n",
              "      width: 32px;\n",
              "    }\n",
              "\n",
              "    .colab-df-convert:hover {\n",
              "      background-color: #E2EBFA;\n",
              "      box-shadow: 0px 1px 2px rgba(60, 64, 67, 0.3), 0px 1px 3px 1px rgba(60, 64, 67, 0.15);\n",
              "      fill: #174EA6;\n",
              "    }\n",
              "\n",
              "    .colab-df-buttons div {\n",
              "      margin-bottom: 4px;\n",
              "    }\n",
              "\n",
              "    [theme=dark] .colab-df-convert {\n",
              "      background-color: #3B4455;\n",
              "      fill: #D2E3FC;\n",
              "    }\n",
              "\n",
              "    [theme=dark] .colab-df-convert:hover {\n",
              "      background-color: #434B5C;\n",
              "      box-shadow: 0px 1px 3px 1px rgba(0, 0, 0, 0.15);\n",
              "      filter: drop-shadow(0px 1px 2px rgba(0, 0, 0, 0.3));\n",
              "      fill: #FFFFFF;\n",
              "    }\n",
              "  </style>\n",
              "\n",
              "    <script>\n",
              "      const buttonEl =\n",
              "        document.querySelector('#df-997af82c-8d12-45ea-b702-6e18b4d85376 button.colab-df-convert');\n",
              "      buttonEl.style.display =\n",
              "        google.colab.kernel.accessAllowed ? 'block' : 'none';\n",
              "\n",
              "      async function convertToInteractive(key) {\n",
              "        const element = document.querySelector('#df-997af82c-8d12-45ea-b702-6e18b4d85376');\n",
              "        const dataTable =\n",
              "          await google.colab.kernel.invokeFunction('convertToInteractive',\n",
              "                                                    [key], {});\n",
              "        if (!dataTable) return;\n",
              "\n",
              "        const docLinkHtml = 'Like what you see? Visit the ' +\n",
              "          '<a target=\"_blank\" href=https://colab.research.google.com/notebooks/data_table.ipynb>data table notebook</a>'\n",
              "          + ' to learn more about interactive tables.';\n",
              "        element.innerHTML = '';\n",
              "        dataTable['output_type'] = 'display_data';\n",
              "        await google.colab.output.renderOutput(dataTable, element);\n",
              "        const docLink = document.createElement('div');\n",
              "        docLink.innerHTML = docLinkHtml;\n",
              "        element.appendChild(docLink);\n",
              "      }\n",
              "    </script>\n",
              "  </div>\n",
              "\n",
              "\n",
              "<div id=\"df-ebec6595-545b-48ac-9b17-f59157446892\">\n",
              "  <button class=\"colab-df-quickchart\" onclick=\"quickchart('df-ebec6595-545b-48ac-9b17-f59157446892')\"\n",
              "            title=\"Suggest charts\"\n",
              "            style=\"display:none;\">\n",
              "\n",
              "<svg xmlns=\"http://www.w3.org/2000/svg\" height=\"24px\"viewBox=\"0 0 24 24\"\n",
              "     width=\"24px\">\n",
              "    <g>\n",
              "        <path d=\"M19 3H5c-1.1 0-2 .9-2 2v14c0 1.1.9 2 2 2h14c1.1 0 2-.9 2-2V5c0-1.1-.9-2-2-2zM9 17H7v-7h2v7zm4 0h-2V7h2v10zm4 0h-2v-4h2v4z\"/>\n",
              "    </g>\n",
              "</svg>\n",
              "  </button>\n",
              "\n",
              "<style>\n",
              "  .colab-df-quickchart {\n",
              "      --bg-color: #E8F0FE;\n",
              "      --fill-color: #1967D2;\n",
              "      --hover-bg-color: #E2EBFA;\n",
              "      --hover-fill-color: #174EA6;\n",
              "      --disabled-fill-color: #AAA;\n",
              "      --disabled-bg-color: #DDD;\n",
              "  }\n",
              "\n",
              "  [theme=dark] .colab-df-quickchart {\n",
              "      --bg-color: #3B4455;\n",
              "      --fill-color: #D2E3FC;\n",
              "      --hover-bg-color: #434B5C;\n",
              "      --hover-fill-color: #FFFFFF;\n",
              "      --disabled-bg-color: #3B4455;\n",
              "      --disabled-fill-color: #666;\n",
              "  }\n",
              "\n",
              "  .colab-df-quickchart {\n",
              "    background-color: var(--bg-color);\n",
              "    border: none;\n",
              "    border-radius: 50%;\n",
              "    cursor: pointer;\n",
              "    display: none;\n",
              "    fill: var(--fill-color);\n",
              "    height: 32px;\n",
              "    padding: 0;\n",
              "    width: 32px;\n",
              "  }\n",
              "\n",
              "  .colab-df-quickchart:hover {\n",
              "    background-color: var(--hover-bg-color);\n",
              "    box-shadow: 0 1px 2px rgba(60, 64, 67, 0.3), 0 1px 3px 1px rgba(60, 64, 67, 0.15);\n",
              "    fill: var(--button-hover-fill-color);\n",
              "  }\n",
              "\n",
              "  .colab-df-quickchart-complete:disabled,\n",
              "  .colab-df-quickchart-complete:disabled:hover {\n",
              "    background-color: var(--disabled-bg-color);\n",
              "    fill: var(--disabled-fill-color);\n",
              "    box-shadow: none;\n",
              "  }\n",
              "\n",
              "  .colab-df-spinner {\n",
              "    border: 2px solid var(--fill-color);\n",
              "    border-color: transparent;\n",
              "    border-bottom-color: var(--fill-color);\n",
              "    animation:\n",
              "      spin 1s steps(1) infinite;\n",
              "  }\n",
              "\n",
              "  @keyframes spin {\n",
              "    0% {\n",
              "      border-color: transparent;\n",
              "      border-bottom-color: var(--fill-color);\n",
              "      border-left-color: var(--fill-color);\n",
              "    }\n",
              "    20% {\n",
              "      border-color: transparent;\n",
              "      border-left-color: var(--fill-color);\n",
              "      border-top-color: var(--fill-color);\n",
              "    }\n",
              "    30% {\n",
              "      border-color: transparent;\n",
              "      border-left-color: var(--fill-color);\n",
              "      border-top-color: var(--fill-color);\n",
              "      border-right-color: var(--fill-color);\n",
              "    }\n",
              "    40% {\n",
              "      border-color: transparent;\n",
              "      border-right-color: var(--fill-color);\n",
              "      border-top-color: var(--fill-color);\n",
              "    }\n",
              "    60% {\n",
              "      border-color: transparent;\n",
              "      border-right-color: var(--fill-color);\n",
              "    }\n",
              "    80% {\n",
              "      border-color: transparent;\n",
              "      border-right-color: var(--fill-color);\n",
              "      border-bottom-color: var(--fill-color);\n",
              "    }\n",
              "    90% {\n",
              "      border-color: transparent;\n",
              "      border-bottom-color: var(--fill-color);\n",
              "    }\n",
              "  }\n",
              "</style>\n",
              "\n",
              "  <script>\n",
              "    async function quickchart(key) {\n",
              "      const quickchartButtonEl =\n",
              "        document.querySelector('#' + key + ' button');\n",
              "      quickchartButtonEl.disabled = true;  // To prevent multiple clicks.\n",
              "      quickchartButtonEl.classList.add('colab-df-spinner');\n",
              "      try {\n",
              "        const charts = await google.colab.kernel.invokeFunction(\n",
              "            'suggestCharts', [key], {});\n",
              "      } catch (error) {\n",
              "        console.error('Error during call to suggestCharts:', error);\n",
              "      }\n",
              "      quickchartButtonEl.classList.remove('colab-df-spinner');\n",
              "      quickchartButtonEl.classList.add('colab-df-quickchart-complete');\n",
              "    }\n",
              "    (() => {\n",
              "      let quickchartButtonEl =\n",
              "        document.querySelector('#df-ebec6595-545b-48ac-9b17-f59157446892 button');\n",
              "      quickchartButtonEl.style.display =\n",
              "        google.colab.kernel.accessAllowed ? 'block' : 'none';\n",
              "    })();\n",
              "  </script>\n",
              "</div>\n",
              "\n",
              "  <div id=\"id_52291bcc-2c1e-44b8-8b9b-134159742b6c\">\n",
              "    <style>\n",
              "      .colab-df-generate {\n",
              "        background-color: #E8F0FE;\n",
              "        border: none;\n",
              "        border-radius: 50%;\n",
              "        cursor: pointer;\n",
              "        display: none;\n",
              "        fill: #1967D2;\n",
              "        height: 32px;\n",
              "        padding: 0 0 0 0;\n",
              "        width: 32px;\n",
              "      }\n",
              "\n",
              "      .colab-df-generate:hover {\n",
              "        background-color: #E2EBFA;\n",
              "        box-shadow: 0px 1px 2px rgba(60, 64, 67, 0.3), 0px 1px 3px 1px rgba(60, 64, 67, 0.15);\n",
              "        fill: #174EA6;\n",
              "      }\n",
              "\n",
              "      [theme=dark] .colab-df-generate {\n",
              "        background-color: #3B4455;\n",
              "        fill: #D2E3FC;\n",
              "      }\n",
              "\n",
              "      [theme=dark] .colab-df-generate:hover {\n",
              "        background-color: #434B5C;\n",
              "        box-shadow: 0px 1px 3px 1px rgba(0, 0, 0, 0.15);\n",
              "        filter: drop-shadow(0px 1px 2px rgba(0, 0, 0, 0.3));\n",
              "        fill: #FFFFFF;\n",
              "      }\n",
              "    </style>\n",
              "    <button class=\"colab-df-generate\" onclick=\"generateWithVariable('df')\"\n",
              "            title=\"Generate code using this dataframe.\"\n",
              "            style=\"display:none;\">\n",
              "\n",
              "  <svg xmlns=\"http://www.w3.org/2000/svg\" height=\"24px\"viewBox=\"0 0 24 24\"\n",
              "       width=\"24px\">\n",
              "    <path d=\"M7,19H8.4L18.45,9,17,7.55,7,17.6ZM5,21V16.75L18.45,3.32a2,2,0,0,1,2.83,0l1.4,1.43a1.91,1.91,0,0,1,.58,1.4,1.91,1.91,0,0,1-.58,1.4L9.25,21ZM18.45,9,17,7.55Zm-12,3A5.31,5.31,0,0,0,4.9,8.1,5.31,5.31,0,0,0,1,6.5,5.31,5.31,0,0,0,4.9,4.9,5.31,5.31,0,0,0,6.5,1,5.31,5.31,0,0,0,8.1,4.9,5.31,5.31,0,0,0,12,6.5,5.46,5.46,0,0,0,6.5,12Z\"/>\n",
              "  </svg>\n",
              "    </button>\n",
              "    <script>\n",
              "      (() => {\n",
              "      const buttonEl =\n",
              "        document.querySelector('#id_52291bcc-2c1e-44b8-8b9b-134159742b6c button.colab-df-generate');\n",
              "      buttonEl.style.display =\n",
              "        google.colab.kernel.accessAllowed ? 'block' : 'none';\n",
              "\n",
              "      buttonEl.onclick = () => {\n",
              "        google.colab.notebook.generateWithVariable('df');\n",
              "      }\n",
              "      })();\n",
              "    </script>\n",
              "  </div>\n",
              "\n",
              "    </div>\n",
              "  </div>\n"
            ],
            "application/vnd.google.colaboratory.intrinsic+json": {
              "type": "dataframe",
              "variable_name": "df",
              "summary": "{\n  \"name\": \"df\",\n  \"rows\": 20,\n  \"fields\": [\n    {\n      \"column\": \"source\",\n      \"properties\": {\n        \"dtype\": \"category\",\n        \"num_unique_values\": 7,\n        \"samples\": [\n          \"Business Insider\",\n          \"NPR\",\n          \"The Verge\"\n        ],\n        \"semantic_type\": \"\",\n        \"description\": \"\"\n      }\n    },\n    {\n      \"column\": \"author\",\n      \"properties\": {\n        \"dtype\": \"string\",\n        \"num_unique_values\": 16,\n        \"samples\": [\n          \"Aditi Bharade\",\n          \"Jeongyoon Han\",\n          \"Erin McDowell\"\n        ],\n        \"semantic_type\": \"\",\n        \"description\": \"\"\n      }\n    },\n    {\n      \"column\": \"title\",\n      \"properties\": {\n        \"dtype\": \"string\",\n        \"num_unique_values\": 20,\n        \"samples\": [\n          \"New York City Mayor Eric Adams has been indicted\",\n          \"Uber is now asking riders to get verified as a safety measure for drivers\",\n          \"Eric Adams to appear in court Friday: Here's a timeline of the chaos leading up to his indictment.\"\n        ],\n        \"semantic_type\": \"\",\n        \"description\": \"\"\n      }\n    },\n    {\n      \"column\": \"description\",\n      \"properties\": {\n        \"dtype\": \"string\",\n        \"num_unique_values\": 19,\n        \"samples\": [\n          \"The mayor has been the center of a federal investigation into donations to his 2021 campaign.\",\n          \"The indicted New York City mayor is being arraigned in the same courtroom as Sean \\\"Diddy\\\" Combs last week.\",\n          \"Prosecutors said that New York City Mayor Eric Adams spent two nights at the St. Regis hotel in Istanbul in the summer of 2017. Take a look inside.\"\n        ],\n        \"semantic_type\": \"\",\n        \"description\": \"\"\n      }\n    },\n    {\n      \"column\": \"url\",\n      \"properties\": {\n        \"dtype\": \"string\",\n        \"num_unique_values\": 20,\n        \"samples\": [\n          \"https://www.businessinsider.com/nyc-mayor-eric-adams-indicted-2024-9\",\n          \"https://www.theverge.com/2024/9/17/24246397/uber-rider-verification-fraud-driver-safety\",\n          \"https://www.businessinsider.com/new-york-city-mayor-eric-adams-indictment-timeline-corruption-investigation-2024-9\"\n        ],\n        \"semantic_type\": \"\",\n        \"description\": \"\"\n      }\n    },\n    {\n      \"column\": \"urlToImage\",\n      \"properties\": {\n        \"dtype\": \"string\",\n        \"num_unique_values\": 18,\n        \"samples\": [\n          \"https://i.insider.com/66f4b713de59ade1a3b4abfe?width=1200&format=jpeg\",\n          \"https://npr.brightspotcdn.com/dims3/default/strip/false/crop/8842x4974+0+454/resize/1400/quality/100/format/jpeg/?url=http%3A%2F%2Fnpr-brightspot.s3.amazonaws.com%2F48%2F93%2F9d3fed014720a9edda984f16825b%2F20240807-hammar-ratsandtrash-8.jpg\",\n          \"https://i.insider.com/66feca545ccfc192a552fdb3?width=1200&format=jpeg\"\n        ],\n        \"semantic_type\": \"\",\n        \"description\": \"\"\n      }\n    },\n    {\n      \"column\": \"publishedAt\",\n      \"properties\": {\n        \"dtype\": \"object\",\n        \"num_unique_values\": 20,\n        \"samples\": [\n          \"2024-09-26T01:25:41Z\",\n          \"2024-09-17T14:30:00Z\",\n          \"2024-09-26T21:07:09Z\"\n        ],\n        \"semantic_type\": \"\",\n        \"description\": \"\"\n      }\n    },\n    {\n      \"column\": \"content\",\n      \"properties\": {\n        \"dtype\": \"string\",\n        \"num_unique_values\": 20,\n        \"samples\": [\n          \"New York City Mayor Eric Adams.Andrew Lichtenstein/Getty Images\\r\\n<ul><li>Eric Adams has been indicted, The New York Times first reported on Wednesday.</li><li>The mayor has been the center of an inve\\u2026 [+643 chars]\",\n          \"Uber is now asking riders to get verified as a safety measure for drivers\\r\\nUber is now asking riders to get verified as a safety measure for drivers\\r\\n / Riders can opt to have their personal informat\\u2026 [+3345 chars]\",\n          \"New York City Mayor Eric Adams' administration was in turmoil before he was indicted.New York Daily News/Getty Images\\r\\n<ul><li>New York City Mayor Eric Adams was indicted by federal grand jury amid a\\u2026 [+7263 chars]\"\n        ],\n        \"semantic_type\": \"\",\n        \"description\": \"\"\n      }\n    }\n  ]\n}"
            }
          },
          "metadata": {},
          "execution_count": 45
        }
      ],
      "id": "VtTYZQv3DL8w"
    },
    {
      "cell_type": "code",
      "source": [
        "from google.colab import drive\n",
        "drive.mount('/content/drive')"
      ],
      "metadata": {
        "id": "qdVwEceeHl9v",
        "outputId": "e419342d-4b11-47ca-cac5-c1f329e6005a",
        "colab": {
          "base_uri": "https://localhost:8080/"
        }
      },
      "id": "qdVwEceeHl9v",
      "execution_count": 46,
      "outputs": [
        {
          "output_type": "stream",
          "name": "stdout",
          "text": [
            "Mounted at /content/drive\n"
          ]
        }
      ]
    },
    {
      "cell_type": "code",
      "source": [
        "path = \"/content/drive/MyDrive/web_scraping_api\" #change path to match your directory\n"
      ],
      "metadata": {
        "id": "rZjxDT-WQ56U"
      },
      "id": "rZjxDT-WQ56U",
      "execution_count": 47,
      "outputs": []
    },
    {
      "cell_type": "code",
      "source": [
        "df.to_csv(f\"{path}/news_articles.csv\", encoding='utf-8', index=False)"
      ],
      "metadata": {
        "id": "z0dQoODYEIck"
      },
      "id": "z0dQoODYEIck",
      "execution_count": 48,
      "outputs": []
    },
    {
      "cell_type": "code",
      "source": [],
      "metadata": {
        "id": "0cbPS7N4ESMx"
      },
      "id": "0cbPS7N4ESMx",
      "execution_count": 48,
      "outputs": []
    }
  ],
  "metadata": {
    "gist": {
      "id": "4ff9629df9f9d6bf5a638b8ba6c13a68",
      "data": {
        "description": "Downloads/API_workshop.ipynb",
        "public": true
      }
    },
    "kernelspec": {
      "name": "python3",
      "display_name": "Python 3 (ipykernel)",
      "language": "python"
    },
    "language_info": {
      "name": "python",
      "version": "3.10.9",
      "mimetype": "text/x-python",
      "codemirror_mode": {
        "name": "ipython",
        "version": 3
      },
      "pygments_lexer": "ipython3",
      "nbconvert_exporter": "python",
      "file_extension": ".py"
    },
    "_draft": {
      "nbviewer_url": "https://gist.github.com/4ff9629df9f9d6bf5a638b8ba6c13a68"
    },
    "colab": {
      "provenance": [],
      "include_colab_link": true
    }
  },
  "nbformat": 4,
  "nbformat_minor": 5
}