{
  "cells": [
    {
      "cell_type": "markdown",
      "metadata": {
        "id": "view-in-github",
        "colab_type": "text"
      },
      "source": [
        "<a href=\"https://colab.research.google.com/github/rskrisel/api_workshop/blob/main/API_workshop.ipynb\" target=\"_parent\"><img src=\"https://colab.research.google.com/assets/colab-badge.svg\" alt=\"Open In Colab\"/></a>"
      ]
    },
    {
      "metadata": {
        "id": "e1b3ce49"
      },
      "id": "e1b3ce49",
      "cell_type": "markdown",
      "source": [
        "# Getting started with APIs"
      ]
    },
    {
      "metadata": {
        "id": "bae7ac82"
      },
      "id": "bae7ac82",
      "cell_type": "markdown",
      "source": [
        "![PlanningPME_API___how_the_dedicated_API_works_.png](attachment:PlanningPME_API___how_the_dedicated_API_works_.png)"
      ]
    },
    {
      "metadata": {
        "id": "a8d4afe2"
      },
      "id": "a8d4afe2",
      "cell_type": "markdown",
      "source": [
        "In this workshop, we will learn how to retrieve data from an application programming interface (API).\n",
        "\n",
        "We will start by making a simple data request from The Metropolitan Museum of Art Collection API, reading the response in JSON format, and finally wrangling the data into a dataframe using the Pandas library.  \n",
        "\n",
        "Next, we will create our unique access API keys to work with News API to retrieve news articles. We will also use the Wordcloud Python library to visualize our results in a word cloud."
      ]
    },
    {
      "metadata": {
        "id": "79a75219"
      },
      "id": "79a75219",
      "cell_type": "markdown",
      "source": [
        "### Acknowledgements"
      ]
    },
    {
      "metadata": {
        "id": "03464e37"
      },
      "id": "03464e37",
      "cell_type": "markdown",
      "source": [
        "This workshop is adapted from the following tutorials:\n",
        "\n",
        "- Python API Tutorial: Getting Started with APIs: https://www.dataquest.io/blog/python-api-tutorial/\n",
        "\n",
        "- Accessing the News API in Python: https://www.datacareer.de/blog/accessing-the-news-api-in-python/\n",
        "\n",
        "- How to create a Pandas Dataframe from an API Endpoint in a Jupyter Notebook: https://deallen7.medium.com/how-to-create-a-pandas-dataframe-from-an-api-endpoint-in-a-jupyter-notebook-f2561f766ca3"
      ]
    },
    {
      "metadata": {
        "id": "fd64276b"
      },
      "id": "fd64276b",
      "cell_type": "markdown",
      "source": [
        "### How do APIs work?"
      ]
    },
    {
      "metadata": {
        "id": "6bcb9d20"
      },
      "id": "6bcb9d20",
      "cell_type": "markdown",
      "source": [
        "In the previous workshop, we learned how to collect internet data by scraping the surface of web pages. APIs offer a different method for data collection by allowing users to programmatically extract and interact with data under the hood of websites, social networks, applications, and projects.\n",
        "\n",
        "When we make a request to an API server for data, and it responds to your request:\n",
        "\n",
        "![Screen+Shot+2022-11-07+at+10.34.46+AM.png](attachment:Screen+Shot+2022-11-07+at+10.34.46+AM.png)"
      ]
    },
    {
      "metadata": {
        "id": "c1130ea6"
      },
      "id": "c1130ea6",
      "cell_type": "markdown",
      "source": [
        "## 1. Using an API without Keys: The Metropolitan Museum of Art Collection API"
      ]
    },
    {
      "metadata": {
        "id": "7febbb26"
      },
      "id": "7febbb26",
      "cell_type": "markdown",
      "source": [
        "In this workshop, we will first work with The Metropolitan Museum of Art Collection API (MetMuseum API, https://metmuseum.github.io), which provides select datasets of information on more than 470,000 artworks in its Collection for unrestricted commercial and noncommercial use. The MetMuseum API is ideal for learning how to make data requests since it has a simple design and doesn't require authentication like other APIs including Twitter. More on that later."
      ]
    },
    {
      "metadata": {
        "id": "c128d085"
      },
      "id": "c128d085",
      "cell_type": "markdown",
      "source": [
        "### 1.1 Installing the \"requests\" library"
      ]
    },
    {
      "metadata": {
        "id": "abdfbf2d"
      },
      "id": "abdfbf2d",
      "cell_type": "markdown",
      "source": [
        "To work with APIs, we need tools to make requests. The most common library for making requests and working with APIs in Python is \"requests\".\n",
        "\n",
        "Since the \"requests\" library is not part of the standard Python library, we need to install it first.\n",
        "\n",
        "Working from your computer Terminal (make sure you see the % symbol), type the following command:\n",
        "```\n",
        "conda install requests\n",
        "```\n",
        "\n",
        "Then, press enter. When it prompts you to respond with y or n (i.e., yes or no), type y and press enter.\n",
        "\n",
        "When the installation in complete, your terminal should return to its base with the % symbol."
      ]
    },
    {
      "metadata": {
        "id": "3823f15b"
      },
      "id": "3823f15b",
      "cell_type": "markdown",
      "source": [
        "### 1.2 Importing the \"requests\" library"
      ]
    },
    {
      "metadata": {
        "trusted": true,
        "id": "c1215c27"
      },
      "id": "c1215c27",
      "cell_type": "code",
      "source": [
        "import requests"
      ],
      "execution_count": null,
      "outputs": []
    },
    {
      "metadata": {
        "id": "09c7e367"
      },
      "id": "09c7e367",
      "cell_type": "markdown",
      "source": [
        "### 1.3 Making an API request"
      ]
    },
    {
      "metadata": {
        "id": "7dc1275d"
      },
      "id": "7dc1275d",
      "cell_type": "markdown",
      "source": [
        "A \"GET\" request is the most common type of API request to retrieve data.\n",
        "The API responds to the GET request with a \"response code\", letting us know if the request was successful."
      ]
    },
    {
      "metadata": {
        "id": "c94b8d3e"
      },
      "id": "c94b8d3e",
      "cell_type": "markdown",
      "source": [
        "In order to work with specific APIs, it's important to consult the documentation so you understand what kinds of data requests you can make and the format to use. Reading the documentation for any programming package can seem daunting at times, so I recommend reading this how-to guide first: https://bit.ly/3TnOOMw"
      ]
    },
    {
      "metadata": {
        "id": "4ae8edaf"
      },
      "id": "4ae8edaf",
      "cell_type": "markdown",
      "source": [
        "If we take a look at the MetMuseum API documentation (https://metmuseum.github.io), we can see it has more than one API on its server. Each of these are called \"endpoints.\""
      ]
    },
    {
      "metadata": {
        "id": "07ef5dea"
      },
      "id": "07ef5dea",
      "cell_type": "markdown",
      "source": [
        "The MetMuseum API has four endpoints:\n",
        "\n",
        "![Latest_Updates___The_Metropolitan_Museum_of_Art_Collection_API.png](attachment:Latest_Updates___The_Metropolitan_Museum_of_Art_Collection_API.png)"
      ]
    },
    {
      "metadata": {
        "id": "34925d43"
      },
      "id": "34925d43",
      "cell_type": "markdown",
      "source": [
        "Let's start with the \"departments\" endpoint, , which returns a listing of all departments: https://collectionapi.metmuseum.org/public/collection/v1/departments"
      ]
    },
    {
      "metadata": {
        "trusted": true,
        "id": "9a5a9fc5"
      },
      "id": "9a5a9fc5",
      "cell_type": "code",
      "source": [
        "response = requests.get(\"https://collectionapi.metmuseum.org/public/collection/v1/departments\")"
      ],
      "execution_count": null,
      "outputs": []
    },
    {
      "metadata": {
        "id": "f03c29ed"
      },
      "id": "f03c29ed",
      "cell_type": "markdown",
      "source": [
        "It looks like we got a silent success, but let's use the \"response.status_code\" attribute to receive the status code for our request:"
      ]
    },
    {
      "metadata": {
        "trusted": true,
        "id": "ce495741"
      },
      "id": "ce495741",
      "cell_type": "code",
      "source": [
        "print(response.status_code)"
      ],
      "execution_count": null,
      "outputs": []
    },
    {
      "metadata": {
        "id": "86329920"
      },
      "id": "86329920",
      "cell_type": "markdown",
      "source": [
        "The 200 code tells us our request was successful. Read here for more on status codes: https://developer.mozilla.org/en-US/docs/Web/HTTP/Status"
      ]
    },
    {
      "metadata": {
        "id": "262e4704"
      },
      "id": "262e4704",
      "cell_type": "markdown",
      "source": [
        "### 1.4 Reading API responses in JSON"
      ]
    },
    {
      "metadata": {
        "id": "bc24a0d4"
      },
      "id": "bc24a0d4",
      "cell_type": "markdown",
      "source": [
        "Looking at the API documentation (https://metmuseum.github.io), we know that the API response is in JSON (JavaScript Object Notation) format. JSON is a way to encode data structures that ensures that they are easily readable by machines. JSON is the primary format in which data is passed back and forth to APIs, and most API servers will send their responses in JSON format.\n",
        "\n",
        "We can use the response.json() method to see the data we got from the API:"
      ]
    },
    {
      "metadata": {
        "trusted": true,
        "id": "2c9c7ecb"
      },
      "id": "2c9c7ecb",
      "cell_type": "code",
      "source": [
        "print(response.json())"
      ],
      "execution_count": null,
      "outputs": []
    },
    {
      "metadata": {
        "id": "12090ab5"
      },
      "id": "12090ab5",
      "cell_type": "markdown",
      "source": [
        "### 1.5 Reading the JSON output"
      ]
    },
    {
      "metadata": {
        "id": "d7ba9850"
      },
      "id": "d7ba9850",
      "cell_type": "markdown",
      "source": [
        "The JSON output we got from the API looks like it contains Python dictionaries, lists, strings and integers. JSON is a combination of these objects represented as strings."
      ]
    },
    {
      "metadata": {
        "id": "f1194533"
      },
      "id": "f1194533",
      "cell_type": "markdown",
      "source": [
        "To work with JSON data in Python, we can use the JSON package, which is part of the standard library, so we don’t have to install anything to use it.\n",
        "\n",
        "The JSON library has two main functions:\n",
        "\n",
        "- json.dumps() — Takes in a Python object, and converts (dumps) it to a string.\n",
        "\n",
        "- json.loads() — Takes a JSON string, and converts (loads) it to a Python object.\n",
        "\n"
      ]
    },
    {
      "metadata": {
        "id": "bfb2620c"
      },
      "id": "bfb2620c",
      "cell_type": "markdown",
      "source": [
        "first, let's import the JSON library"
      ]
    },
    {
      "metadata": {
        "trusted": true,
        "id": "56d4fbe3"
      },
      "id": "56d4fbe3",
      "cell_type": "code",
      "source": [
        "import json"
      ],
      "execution_count": null,
      "outputs": []
    },
    {
      "metadata": {
        "id": "fef4bdd7"
      },
      "id": "fef4bdd7",
      "cell_type": "markdown",
      "source": [
        "Next, let's create a formatted string of the Python JSON object. We will define a new function jprint which takes 'obj' as its input variable"
      ]
    },
    {
      "metadata": {
        "trusted": true,
        "id": "0b9040fc"
      },
      "id": "0b9040fc",
      "cell_type": "code",
      "source": [
        "def jprint(obj):\n",
        "    text = json.dumps(obj, sort_keys=True, indent=4)\n",
        "    print(text)"
      ],
      "execution_count": null,
      "outputs": []
    },
    {
      "metadata": {
        "id": "d645115d"
      },
      "id": "d645115d",
      "cell_type": "markdown",
      "source": [
        "Then, let's apply the new function to our response.json()"
      ]
    },
    {
      "metadata": {
        "trusted": true,
        "id": "5ccc756e"
      },
      "id": "5ccc756e",
      "cell_type": "code",
      "source": [
        "jprint(response.json())"
      ],
      "execution_count": null,
      "outputs": []
    },
    {
      "metadata": {
        "id": "1f1d3243"
      },
      "id": "1f1d3243",
      "cell_type": "markdown",
      "source": [
        "Converting our output into a string makes it easier to understand the structure of the data. There are 21 departments at the Metropolitan Museum, with their names existing as dictionaries inside a list."
      ]
    },
    {
      "metadata": {
        "id": "8ceac54f"
      },
      "id": "8ceac54f",
      "cell_type": "markdown",
      "source": [
        "### 1.6 Converting JSON data into a Pandas Dataframe"
      ]
    },
    {
      "metadata": {
        "id": "84d3b139"
      },
      "id": "84d3b139",
      "cell_type": "markdown",
      "source": [
        "It may be easier to work with the API data if it were stored in tabular format (i.e., a spreadsheet). We can use the Pandas Python library for data analysis and manipulation (https://pandas.pydata.org) to wrangle the JSON formatted data into a dataframe.  \n",
        "\n",
        "To start, let's bring the Pandas library into our Python environment:"
      ]
    },
    {
      "metadata": {
        "trusted": true,
        "id": "c6aaae51"
      },
      "id": "c6aaae51",
      "cell_type": "code",
      "source": [
        "import pandas as pd"
      ],
      "execution_count": null,
      "outputs": []
    },
    {
      "metadata": {
        "id": "fb41cb87"
      },
      "id": "fb41cb87",
      "cell_type": "markdown",
      "source": [
        "Next, let's explore our JSON using the Keys() and Type() Methods.\n",
        "\n",
        "The keys() method returns a view object. The view object contains the keys of the dictionary, as a list (https://www.w3schools.com/python/ref_dictionary_keys.asp)"
      ]
    },
    {
      "metadata": {
        "id": "f22c0824"
      },
      "id": "f22c0824",
      "cell_type": "markdown",
      "source": [
        "Let's create a new variable 'json_results' equal to our API response"
      ]
    },
    {
      "metadata": {
        "trusted": true,
        "id": "4a3913f5"
      },
      "id": "4a3913f5",
      "cell_type": "code",
      "source": [
        "json_results=response.json()\n",
        "\n",
        "json_results.keys()\n"
      ],
      "execution_count": null,
      "outputs": []
    },
    {
      "metadata": {
        "id": "03f1aca9"
      },
      "id": "03f1aca9",
      "cell_type": "markdown",
      "source": [
        "The output of keys method called on the json_results variable provides us with a list of keys that we can use to explore the JSON, similar to how you would select a column in a Pandas Dataframe. In this case, we just have a single key. Later in this workshop we will work with a JSON with multiple keys."
      ]
    },
    {
      "metadata": {
        "trusted": true,
        "id": "1c2c55b2"
      },
      "id": "1c2c55b2",
      "cell_type": "code",
      "source": [
        "json_results['departments']"
      ],
      "execution_count": null,
      "outputs": []
    },
    {
      "metadata": {
        "id": "e600beff"
      },
      "id": "e600beff",
      "cell_type": "markdown",
      "source": [
        "We could also check the data type for this key:"
      ]
    },
    {
      "metadata": {
        "trusted": true,
        "id": "9e3604d9"
      },
      "id": "9e3604d9",
      "cell_type": "code",
      "source": [
        "type(json_results['departments'])"
      ],
      "execution_count": null,
      "outputs": []
    },
    {
      "metadata": {
        "id": "65553cff"
      },
      "id": "65553cff",
      "cell_type": "markdown",
      "source": [
        "Because our 'departments' key is a list, we can simply add an index next to the key, and test what type of data is listed:"
      ]
    },
    {
      "metadata": {
        "trusted": true,
        "id": "0fbe0e98"
      },
      "id": "0fbe0e98",
      "cell_type": "code",
      "source": [
        "type(json_results['departments'][0])"
      ],
      "execution_count": null,
      "outputs": []
    },
    {
      "metadata": {
        "id": "ab7b9663"
      },
      "id": "ab7b9663",
      "cell_type": "markdown",
      "source": [
        "It looks like with have a list of \"dicts\", which are easily transformed into a dataframe. Dictionaries are used to store data values in key:value pairs (https://www.w3schools.com/python/python_dictionaries.asp)."
      ]
    },
    {
      "metadata": {
        "trusted": true,
        "id": "ebc35c42"
      },
      "id": "ebc35c42",
      "cell_type": "code",
      "source": [
        "df = pd.DataFrame(json_results['departments'])\n",
        "df"
      ],
      "execution_count": null,
      "outputs": []
    },
    {
      "metadata": {
        "id": "8c4387d7"
      },
      "id": "8c4387d7",
      "cell_type": "markdown",
      "source": [
        "Converting the data from JSON to a dataframe makes it much easier to read! It also wrangles the data into a format that can be easily used for data analysis and manipulation. See Pandas workshop for a refresher: https://gc-dri.github.io/Dhrift-GC/workshops/pandas/"
      ]
    },
    {
      "metadata": {
        "id": "ce20776c"
      },
      "id": "ce20776c",
      "cell_type": "markdown",
      "source": [
        "## 2. Using an API with Keys: NewsAPI"
      ]
    },
    {
      "metadata": {
        "id": "e06f6017"
      },
      "id": "e06f6017",
      "cell_type": "markdown",
      "source": [
        "NewsAPI.org is an easy to use API to get news from over 30,000 sources all over the world. NewsAPI offers both free and paid plans.\n",
        "\n",
        "To connect with the NewsAPI (https://newsapi.org/), we will need a “Client Access Token,” which is like a password assigned to you.\n",
        "\n",
        "Many APIs require authentication keys to gain access to them, in part so they can keep track of the requests we are making.\n",
        "\n",
        "To get you NewsAPI keys, fill out the info at: https://newsapi.org/register.\n",
        "\n",
        "You’ll be asked to sign up for a News API account, required to gain API access. Signing up for a NewsAPI account is free and easy. You need your first name, an email address, and a password."
      ]
    },
    {
      "metadata": {
        "id": "c3da51dd"
      },
      "id": "c3da51dd",
      "cell_type": "markdown",
      "source": [
        "![Screen+Shot+2022-11-26+at+7.46.33+AM.png](attachment:Screen+Shot+2022-11-26+at+7.46.33+AM.png)"
      ]
    },
    {
      "metadata": {
        "id": "0097c854"
      },
      "id": "0097c854",
      "cell_type": "markdown",
      "source": [
        "Once you’re signed in, you should be taken to https://newsapi.org/account, where you will find your personal API Key."
      ]
    },
    {
      "metadata": {
        "id": "898f52dc"
      },
      "id": "898f52dc",
      "cell_type": "markdown",
      "source": [
        "![Account_-_News_API.png](attachment:Account_-_News_API.png)"
      ]
    },
    {
      "metadata": {
        "id": "3cc053c1"
      },
      "id": "3cc053c1",
      "cell_type": "markdown",
      "source": [
        "### 2.1 Installing the NewsAPI"
      ]
    },
    {
      "metadata": {
        "id": "f22f55ea"
      },
      "id": "f22f55ea",
      "cell_type": "markdown",
      "source": [
        "Before we can communicate with the NewsAPI from our Python environment, we need to install it. You can run \"!pip install newsapi-python\" directly from your Jupyter Notebook:  "
      ]
    },
    {
      "metadata": {
        "trusted": true,
        "id": "975897b3"
      },
      "id": "975897b3",
      "cell_type": "code",
      "source": [
        "# !pip install newsapi-python"
      ],
      "execution_count": null,
      "outputs": []
    },
    {
      "metadata": {
        "id": "cd9ca67b"
      },
      "id": "cd9ca67b",
      "cell_type": "markdown",
      "source": [
        "### 2.2 Importing the \"requests\" and \"pprint\" libraries"
      ]
    },
    {
      "metadata": {
        "id": "6a895baf"
      },
      "id": "6a895baf",
      "cell_type": "markdown",
      "source": [
        "In addition to importing our \"requests\" library, we will also use the Pretty Print \"pprint\" module. Pretty Print in Python is a utility module that you can use to print data structures in a readable, pretty way. It’s a part of the standard library that’s especially useful for debugging code dealing with API requests, large JSON files, and data in general."
      ]
    },
    {
      "metadata": {
        "trusted": true,
        "id": "478897ad"
      },
      "id": "478897ad",
      "cell_type": "code",
      "source": [
        "import pprint\n",
        "import requests"
      ],
      "execution_count": null,
      "outputs": []
    },
    {
      "metadata": {
        "id": "29353ee1"
      },
      "id": "29353ee1",
      "cell_type": "markdown",
      "source": [
        "### 2.3 Saving your NewsAPI key as a variable"
      ]
    },
    {
      "metadata": {
        "id": "2d97f4f4"
      },
      "id": "2d97f4f4",
      "cell_type": "markdown",
      "source": [
        "When working with API keys, it's always a good idea to set them equal to a variable that you can easily call on when connecting to the API.\n",
        "\n",
        "You can find your NewsAPI key at: https://newsapi.org/docs/authentication.\n",
        "\n",
        "Here, I add a dummy key. Make sure to replace it with your own key:"
      ]
    },
    {
      "metadata": {
        "trusted": true,
        "id": "03f9ea22"
      },
      "id": "03f9ea22",
      "cell_type": "code",
      "source": [
        "secret= '571e874fe6674690a5ea658e5937d47c' #replace with your key"
      ],
      "execution_count": null,
      "outputs": []
    },
    {
      "metadata": {
        "id": "c17fa468"
      },
      "id": "c17fa468",
      "cell_type": "markdown",
      "source": [
        "### 2.4 Defining your endpoint and specifying the query"
      ]
    },
    {
      "metadata": {
        "id": "805ca100"
      },
      "id": "805ca100",
      "cell_type": "markdown",
      "source": [
        "NewsAPI offers three endpoints:\n",
        "\n",
        "'/v2/top-headlines', for the most important headlines per country and category\n",
        "'/v2/everything', for all the news articles from over 30,000 sources\n",
        "'/v2/sources', for information on the various sources\n",
        "\n",
        "We will use the 'everything' endpoint, to get news about 'New York City'."
      ]
    },
    {
      "metadata": {
        "id": "8f62d971"
      },
      "id": "8f62d971",
      "cell_type": "markdown",
      "source": [
        "Let's define the endpoint"
      ]
    },
    {
      "metadata": {
        "trusted": true,
        "id": "2e751f47"
      },
      "id": "2e751f47",
      "cell_type": "code",
      "source": [
        "url = 'https://newsapi.org/v2/everything?'"
      ],
      "execution_count": null,
      "outputs": []
    },
    {
      "metadata": {
        "id": "2fa226bb"
      },
      "id": "2fa226bb",
      "cell_type": "markdown",
      "source": [
        "Next, we need to specify the query and number of returns"
      ]
    },
    {
      "metadata": {
        "trusted": true,
        "id": "39dd39bd"
      },
      "id": "39dd39bd",
      "cell_type": "code",
      "source": [
        "parameters = {\n",
        "    'q': 'new york city', # query phrase\n",
        "    #'sources': 'new york times', #specify sources, if desired\n",
        "    'pageSize': 20,  # maximum is 100\n",
        "    'apiKey': secret # your own API key\n",
        "    }"
      ],
      "execution_count": null,
      "outputs": []
    },
    {
      "metadata": {
        "id": "579234ae"
      },
      "id": "579234ae",
      "cell_type": "markdown",
      "source": [
        "### 2.5 Retrieve the news with the requests package"
      ]
    },
    {
      "metadata": {
        "id": "6f4ef058"
      },
      "id": "6f4ef058",
      "cell_type": "markdown",
      "source": [
        "Let's make the request"
      ]
    },
    {
      "metadata": {
        "trusted": true,
        "id": "c718675a"
      },
      "id": "c718675a",
      "cell_type": "code",
      "source": [
        "response = requests.get(url, params=parameters)"
      ],
      "execution_count": null,
      "outputs": []
    },
    {
      "metadata": {
        "id": "ebf6901c"
      },
      "id": "ebf6901c",
      "cell_type": "markdown",
      "source": [
        "Then, convert the response to JSON format and pretty print it"
      ]
    },
    {
      "metadata": {
        "trusted": true,
        "id": "0b8a2639"
      },
      "id": "0b8a2639",
      "cell_type": "code",
      "source": [
        "response_json = response.json()\n",
        "pprint.pprint(response_json)"
      ],
      "execution_count": null,
      "outputs": []
    },
    {
      "metadata": {
        "id": "7110909e"
      },
      "id": "7110909e",
      "cell_type": "markdown",
      "source": [
        "### 2.6 Print just the titles with a loop:"
      ]
    },
    {
      "metadata": {
        "trusted": true,
        "id": "88c8962e"
      },
      "id": "88c8962e",
      "cell_type": "code",
      "source": [
        "for i in response_json['articles']:\n",
        "    print(i['title'])"
      ],
      "execution_count": null,
      "outputs": []
    },
    {
      "metadata": {
        "id": "fc206486"
      },
      "id": "fc206486",
      "cell_type": "markdown",
      "source": [
        "Congrats on making your first NewsAPI query! Try out some other queries and the different endpoints. You can find the documentation at https://newsapi.org/docs."
      ]
    },
    {
      "metadata": {
        "id": "5f3118f9"
      },
      "id": "5f3118f9",
      "cell_type": "markdown",
      "source": [
        "### 2.7 Visualizing Results in a Word Cloud"
      ]
    },
    {
      "metadata": {
        "id": "419630a6"
      },
      "id": "419630a6",
      "cell_type": "markdown",
      "source": [
        "A word cloud is a visual representation of information or data. It shows the popularity of words or phrases by making the most frequently used words appear larger or bolder compared with the other words around them.\n",
        "\n",
        "To visualize the results of our NewsAPI query, we can create a word cloud using the \"wordcloud\" package for Python. Since the \"wordcloud\" package is not part of the standard Python library, we need to install it first.\n",
        "\n",
        "\n"
      ]
    },
    {
      "metadata": {
        "id": "d9baa625"
      },
      "id": "d9baa625",
      "cell_type": "markdown",
      "source": [
        "We will also use Matplotlib, a comprehensive library for creating static, animated, and interactive visualizations in Python."
      ]
    },
    {
      "metadata": {
        "id": "186df1f6"
      },
      "id": "186df1f6",
      "cell_type": "markdown",
      "source": [
        "### 2.8 Importing the \"wordcloud\" and \"matplotlib\" libraries"
      ]
    },
    {
      "metadata": {
        "trusted": true,
        "id": "f7b34a4b"
      },
      "id": "f7b34a4b",
      "cell_type": "code",
      "source": [
        "from wordcloud import WordCloud\n",
        "import matplotlib.pyplot as plt"
      ],
      "execution_count": null,
      "outputs": []
    },
    {
      "metadata": {
        "id": "19c736ee"
      },
      "id": "19c736ee",
      "cell_type": "markdown",
      "source": [
        "### 2.9 Combine headlines into one string:"
      ]
    },
    {
      "metadata": {
        "id": "f916d3b7"
      },
      "id": "f916d3b7",
      "cell_type": "markdown",
      "source": [
        "Let's start by creating an empty string"
      ]
    },
    {
      "metadata": {
        "trusted": true,
        "id": "d01215f6"
      },
      "id": "d01215f6",
      "cell_type": "code",
      "source": [
        "text_combined = ''"
      ],
      "execution_count": null,
      "outputs": []
    },
    {
      "metadata": {
        "id": "6a7dd454"
      },
      "id": "6a7dd454",
      "cell_type": "markdown",
      "source": [
        "Loop through all the headlines and add them to 'text_combined.' We can make sure to add a space after every headline, so the first and last words are not glued together. Finally, let's print the first 300 characters to screen for inspection"
      ]
    },
    {
      "metadata": {
        "trusted": true,
        "id": "738e0fd8"
      },
      "id": "738e0fd8",
      "cell_type": "code",
      "source": [
        "for i in response_json['articles']:\n",
        "    text_combined += i['title'] + ' '\n",
        "print(text_combined[0:300])"
      ],
      "execution_count": null,
      "outputs": []
    },
    {
      "metadata": {
        "id": "e9515c7f"
      },
      "id": "e9515c7f",
      "cell_type": "markdown",
      "source": [
        "### 2.10 Create a Word Cloud:"
      ]
    },
    {
      "metadata": {
        "scrolled": true,
        "trusted": true,
        "id": "1954f5ce"
      },
      "id": "1954f5ce",
      "cell_type": "code",
      "source": [
        "wordcloud = WordCloud(max_font_size=40).generate(text_combined)\n",
        "plt.figure()\n",
        "plt.imshow(wordcloud, interpolation=\"bilinear\")\n",
        "plt.axis(\"off\")\n",
        "plt.show()"
      ],
      "execution_count": null,
      "outputs": []
    },
    {
      "metadata": {
        "id": "9bff51e0"
      },
      "id": "9bff51e0",
      "cell_type": "markdown",
      "source": [
        "### 2.11 Converting JSON data into a Pandas Dataframe"
      ]
    },
    {
      "metadata": {
        "id": "40d4dcdd"
      },
      "id": "40d4dcdd",
      "cell_type": "markdown",
      "source": [
        "As noted in section 1.6, it may be easier to work with the API data if it were stored in tabular format (i.e., a spreadsheet). We can use the Pandas Python library for data analysis and manipulation (https://pandas.pydata.org) to wrangle the JSON formatted data into a dataframe.\n",
        "\n",
        "Let's follow the same steps as section 1.6:"
      ]
    },
    {
      "metadata": {
        "trusted": true,
        "id": "65a2f06c"
      },
      "id": "65a2f06c",
      "cell_type": "code",
      "source": [
        "import pandas as pd"
      ],
      "execution_count": null,
      "outputs": []
    },
    {
      "metadata": {
        "trusted": true,
        "id": "8b08e0e3"
      },
      "id": "8b08e0e3",
      "cell_type": "code",
      "source": [
        "response_json.keys()"
      ],
      "execution_count": null,
      "outputs": []
    },
    {
      "metadata": {
        "trusted": true,
        "id": "317d1a00"
      },
      "id": "317d1a00",
      "cell_type": "code",
      "source": [
        "response_json['status']"
      ],
      "execution_count": null,
      "outputs": []
    },
    {
      "metadata": {
        "trusted": true,
        "id": "2c79bf31"
      },
      "id": "2c79bf31",
      "cell_type": "code",
      "source": [
        "response_json['totalResults']"
      ],
      "execution_count": null,
      "outputs": []
    },
    {
      "metadata": {
        "trusted": true,
        "id": "64b78314"
      },
      "id": "64b78314",
      "cell_type": "code",
      "source": [
        "response_json['articles']"
      ],
      "execution_count": null,
      "outputs": []
    },
    {
      "metadata": {
        "trusted": true,
        "id": "0be4d9d0"
      },
      "id": "0be4d9d0",
      "cell_type": "code",
      "source": [
        "type(response_json['status'])"
      ],
      "execution_count": null,
      "outputs": []
    },
    {
      "metadata": {
        "trusted": true,
        "id": "01b63d7a"
      },
      "id": "01b63d7a",
      "cell_type": "code",
      "source": [
        "type(response_json['totalResults'])"
      ],
      "execution_count": null,
      "outputs": []
    },
    {
      "metadata": {
        "trusted": true,
        "id": "857436b4"
      },
      "id": "857436b4",
      "cell_type": "code",
      "source": [
        "type(response_json['articles'])"
      ],
      "execution_count": null,
      "outputs": []
    },
    {
      "metadata": {
        "trusted": true,
        "id": "25b6eabe"
      },
      "id": "25b6eabe",
      "cell_type": "code",
      "source": [
        "type(response_json['articles'][0])"
      ],
      "execution_count": null,
      "outputs": []
    },
    {
      "metadata": {
        "trusted": true,
        "id": "eae56ce9"
      },
      "id": "eae56ce9",
      "cell_type": "code",
      "source": [
        "df = pd.DataFrame(response_json['articles'])"
      ],
      "execution_count": null,
      "outputs": []
    },
    {
      "metadata": {
        "scrolled": false,
        "trusted": true,
        "id": "3a75fe3e"
      },
      "id": "3a75fe3e",
      "cell_type": "code",
      "source": [
        "df"
      ],
      "execution_count": null,
      "outputs": []
    },
    {
      "metadata": {
        "id": "15d18c28"
      },
      "id": "15d18c28",
      "cell_type": "markdown",
      "source": [
        "### 2.12 Next Step: Data Cleaning!"
      ]
    },
    {
      "metadata": {
        "id": "6860fb2a"
      },
      "id": "6860fb2a",
      "cell_type": "markdown",
      "source": [
        "Looking at the dataframe above, it's clear that the data received from the NewsAPI lacks uniformity. For example, in the author column, some authors are listed with their emails, others with their locations. In addition, the source column includes both the source 'id' and 'name'.\n",
        "\n",
        "This is a common experience when collecting data from APIs. Even though the data is shared in a structured way based on specific query parameters, this does not mean the data is clean.\n",
        "\n",
        "Remember that the data process starts with data collection, followed by data wrangling (e.g., converting data from JSON to a dataframe) and data cleaning, which includes making sure your data is stored in consistent formats.\n",
        "\n",
        "For example, if we wanted to clean our source column so as to just keep the name of the publication, we could first define a function:"
      ]
    },
    {
      "metadata": {
        "trusted": true,
        "id": "XOczO4QPDL8w"
      },
      "cell_type": "code",
      "source": [
        "def dict_to_value(dict):\n",
        "    for value in dict:\n",
        "        resultList = list(dict.values())\n",
        "        resultList.reverse()\n",
        "        return str(resultList[0])"
      ],
      "execution_count": null,
      "outputs": [],
      "id": "XOczO4QPDL8w"
    },
    {
      "metadata": {
        "id": "HJ-bVpy8DL8w"
      },
      "cell_type": "markdown",
      "source": [
        "then, apply it to our dataframe:"
      ],
      "id": "HJ-bVpy8DL8w"
    },
    {
      "metadata": {
        "trusted": true,
        "id": "VtTYZQv3DL8w"
      },
      "cell_type": "code",
      "source": [
        "df['source'] = df['source'].apply(dict_to_value)\n",
        "df"
      ],
      "execution_count": null,
      "outputs": [],
      "id": "VtTYZQv3DL8w"
    },
    {
      "cell_type": "code",
      "source": [
        "from google.colab import drive\n",
        "drive.mount('/content/drive')"
      ],
      "metadata": {
        "id": "qdVwEceeHl9v"
      },
      "id": "qdVwEceeHl9v",
      "execution_count": null,
      "outputs": []
    },
    {
      "cell_type": "code",
      "source": [
        "path = \"/content/drive/MyDrive/web_scraping_api\" #change path to match your directory\n"
      ],
      "metadata": {
        "id": "rZjxDT-WQ56U"
      },
      "id": "rZjxDT-WQ56U",
      "execution_count": null,
      "outputs": []
    },
    {
      "cell_type": "code",
      "source": [
        "df.to_csv(f\"{path}/news_articles.csv\", encoding='utf-8', index=False)"
      ],
      "metadata": {
        "id": "z0dQoODYEIck"
      },
      "id": "z0dQoODYEIck",
      "execution_count": null,
      "outputs": []
    },
    {
      "cell_type": "code",
      "source": [],
      "metadata": {
        "id": "0cbPS7N4ESMx"
      },
      "id": "0cbPS7N4ESMx",
      "execution_count": null,
      "outputs": []
    }
  ],
  "metadata": {
    "gist": {
      "id": "4ff9629df9f9d6bf5a638b8ba6c13a68",
      "data": {
        "description": "Downloads/API_workshop.ipynb",
        "public": true
      }
    },
    "kernelspec": {
      "name": "python3",
      "display_name": "Python 3 (ipykernel)",
      "language": "python"
    },
    "language_info": {
      "name": "python",
      "version": "3.10.9",
      "mimetype": "text/x-python",
      "codemirror_mode": {
        "name": "ipython",
        "version": 3
      },
      "pygments_lexer": "ipython3",
      "nbconvert_exporter": "python",
      "file_extension": ".py"
    },
    "_draft": {
      "nbviewer_url": "https://gist.github.com/4ff9629df9f9d6bf5a638b8ba6c13a68"
    },
    "colab": {
      "provenance": [],
      "include_colab_link": true
    }
  },
  "nbformat": 4,
  "nbformat_minor": 5
}